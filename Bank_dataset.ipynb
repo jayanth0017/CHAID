{
  "nbformat": 4,
  "nbformat_minor": 0,
  "metadata": {
    "colab": {
      "provenance": []
    },
    "kernelspec": {
      "name": "python3",
      "display_name": "Python 3"
    },
    "language_info": {
      "name": "python"
    }
  },
  "cells": [
    {
      "cell_type": "code",
      "execution_count": 1,
      "metadata": {
        "id": "5K9GeKo7ighF"
      },
      "outputs": [],
      "source": [
        "import pandas as pd\n",
        "import numpy as np\n",
        "import seaborn as sns\n",
        "import matplotlib.pyplot as plt"
      ]
    },
    {
      "cell_type": "code",
      "source": [
        "from google.colab import drive\n",
        "drive.mount('/content/drive')"
      ],
      "metadata": {
        "colab": {
          "base_uri": "https://localhost:8080/"
        },
        "id": "D8XmqsSTitb8",
        "outputId": "31b87a59-15a0-4ae9-9b35-45fd0e388883"
      },
      "execution_count": 2,
      "outputs": [
        {
          "output_type": "stream",
          "name": "stdout",
          "text": [
            "Drive already mounted at /content/drive; to attempt to forcibly remount, call drive.mount(\"/content/drive\", force_remount=True).\n"
          ]
        }
      ]
    },
    {
      "cell_type": "code",
      "source": [
        "df1=pd.read_excel(\"/content/drive/MyDrive/Classification/Bank_dataset/Bank_dataset/Bank_file1.xlsx\",header=0)\n",
        "df2=pd.read_excel(\"/content/drive/MyDrive/Classification/Bank_dataset/Bank_dataset/Bank_file2.xlsx\",header=0)\n",
        "df3=pd.read_excel(\"/content/drive/MyDrive/Classification/Bank_dataset/Bank_dataset/bank_file3.xlsx\",header=0)\n",
        "df4=pd.read_excel(\"/content/drive/MyDrive/Classification/Bank_dataset/Bank_dataset/Bank_target file.xlsx\",header=0)"
      ],
      "metadata": {
        "id": "TKsGSFlsEK1d"
      },
      "execution_count": 3,
      "outputs": []
    },
    {
      "cell_type": "code",
      "source": [
        "df1.shape"
      ],
      "metadata": {
        "colab": {
          "base_uri": "https://localhost:8080/"
        },
        "id": "awBopynzEznr",
        "outputId": "b4a54ff0-9f01-45d2-e429-672ca105acbf"
      },
      "execution_count": 4,
      "outputs": [
        {
          "output_type": "execute_result",
          "data": {
            "text/plain": [
              "(4119, 5)"
            ]
          },
          "metadata": {},
          "execution_count": 4
        }
      ]
    },
    {
      "cell_type": "code",
      "source": [
        "df2.shape"
      ],
      "metadata": {
        "colab": {
          "base_uri": "https://localhost:8080/"
        },
        "id": "WBW_zjCoFkcv",
        "outputId": "5ac2b000-ee99-41d2-ac01-32b7b159eec1"
      },
      "execution_count": 5,
      "outputs": [
        {
          "output_type": "execute_result",
          "data": {
            "text/plain": [
              "(4119, 6)"
            ]
          },
          "metadata": {},
          "execution_count": 5
        }
      ]
    },
    {
      "cell_type": "code",
      "source": [
        "df3.shape"
      ],
      "metadata": {
        "colab": {
          "base_uri": "https://localhost:8080/"
        },
        "id": "zadIAeieFmD5",
        "outputId": "5ea2461a-4cd4-45be-ea1c-aed3a5149dd8"
      },
      "execution_count": 6,
      "outputs": [
        {
          "output_type": "execute_result",
          "data": {
            "text/plain": [
              "(4119, 12)"
            ]
          },
          "metadata": {},
          "execution_count": 6
        }
      ]
    },
    {
      "cell_type": "code",
      "source": [
        "df4.shape"
      ],
      "metadata": {
        "colab": {
          "base_uri": "https://localhost:8080/"
        },
        "id": "Sd-w-9BhFoLx",
        "outputId": "116050f9-5965-4c8c-be3d-32676eec2aa0"
      },
      "execution_count": 7,
      "outputs": [
        {
          "output_type": "execute_result",
          "data": {
            "text/plain": [
              "(4119, 2)"
            ]
          },
          "metadata": {},
          "execution_count": 7
        }
      ]
    },
    {
      "cell_type": "code",
      "source": [
        "Df1 = pd.merge(df1, df2, on='ID')"
      ],
      "metadata": {
        "id": "8RxQwLwHFp3L"
      },
      "execution_count": 8,
      "outputs": []
    },
    {
      "cell_type": "code",
      "source": [
        "Df2=pd.merge(df3, df4, on='ID')"
      ],
      "metadata": {
        "id": "wRqHfLzyG2GF"
      },
      "execution_count": 9,
      "outputs": []
    },
    {
      "cell_type": "code",
      "source": [
        "data=pd.merge(Df1, Df2, on='ID')"
      ],
      "metadata": {
        "id": "FFQZOwBdHH-s"
      },
      "execution_count": 10,
      "outputs": []
    },
    {
      "cell_type": "code",
      "source": [
        "data"
      ],
      "metadata": {
        "colab": {
          "base_uri": "https://localhost:8080/",
          "height": 488
        },
        "id": "2tVh_Rt-HOJf",
        "outputId": "bf0606d2-2d64-423f-cdee-b492f77b005c"
      },
      "execution_count": 11,
      "outputs": [
        {
          "output_type": "execute_result",
          "data": {
            "text/plain": [
              "         ID  age          job  marital          education default  housing  \\\n",
              "0        C1   30  blue-collar  married           basic.9y      no      yes   \n",
              "1        C2   39     services   single        high.school      no       no   \n",
              "2        C3   25     services  married        high.school      no      yes   \n",
              "3        C4   38     services  married           basic.9y      no  unknown   \n",
              "4        C5   47       admin.  married  university.degree      no      yes   \n",
              "...     ...  ...          ...      ...                ...     ...      ...   \n",
              "4114  C4115   30       admin.  married           basic.6y      no      yes   \n",
              "4115  C4116   39       admin.  married        high.school      no      yes   \n",
              "4116  C4117   27      student   single        high.school      no       no   \n",
              "4117  C4118   58       admin.  married        high.school      no       no   \n",
              "4118  C4119   34   management   single        high.school      no      yes   \n",
              "\n",
              "         loan    contact month  ... campaign  pdays  previous     poutcome  \\\n",
              "0          no   cellular   may  ...        2    999         0  nonexistent   \n",
              "1          no  telephone   may  ...        4    999         0  nonexistent   \n",
              "2          no  telephone   jun  ...        1    999         0  nonexistent   \n",
              "3     unknown  telephone   jun  ...        3    999         0  nonexistent   \n",
              "4          no   cellular   nov  ...        1    999         0  nonexistent   \n",
              "...       ...        ...   ...  ...      ...    ...       ...          ...   \n",
              "4114      yes   cellular   jul  ...        1    999         0  nonexistent   \n",
              "4115       no  telephone   jul  ...        1    999         0  nonexistent   \n",
              "4116       no   cellular   may  ...        2    999         1      failure   \n",
              "4117       no   cellular   aug  ...        1    999         0  nonexistent   \n",
              "4118       no   cellular   nov  ...        1    999         0  nonexistent   \n",
              "\n",
              "      emp.var.rate cons.price.idx  cons.conf.idx  euribor3m  nr.employed  \\\n",
              "0             -1.8         92.893          -46.2      1.313       5099.1   \n",
              "1              1.1         93.994          -36.4      4.855       5191.0   \n",
              "2              1.4         94.465          -41.8      4.962       5228.1   \n",
              "3              1.4         94.465          -41.8      4.959       5228.1   \n",
              "4             -0.1         93.200          -42.0      4.191       5195.8   \n",
              "...            ...            ...            ...        ...          ...   \n",
              "4114           1.4         93.918          -42.7      4.958       5228.1   \n",
              "4115           1.4         93.918          -42.7      4.959       5228.1   \n",
              "4116          -1.8         92.893          -46.2      1.354       5099.1   \n",
              "4117           1.4         93.444          -36.1      4.966       5228.1   \n",
              "4118          -0.1         93.200          -42.0      4.120       5195.8   \n",
              "\n",
              "      approved  \n",
              "0           no  \n",
              "1           no  \n",
              "2           no  \n",
              "3           no  \n",
              "4           no  \n",
              "...        ...  \n",
              "4114        no  \n",
              "4115        no  \n",
              "4116        no  \n",
              "4117        no  \n",
              "4118        no  \n",
              "\n",
              "[4119 rows x 22 columns]"
            ],
            "text/html": [
              "\n",
              "  <div id=\"df-6244b8dd-d20d-4174-b1f8-437bab1ae55d\">\n",
              "    <div class=\"colab-df-container\">\n",
              "      <div>\n",
              "<style scoped>\n",
              "    .dataframe tbody tr th:only-of-type {\n",
              "        vertical-align: middle;\n",
              "    }\n",
              "\n",
              "    .dataframe tbody tr th {\n",
              "        vertical-align: top;\n",
              "    }\n",
              "\n",
              "    .dataframe thead th {\n",
              "        text-align: right;\n",
              "    }\n",
              "</style>\n",
              "<table border=\"1\" class=\"dataframe\">\n",
              "  <thead>\n",
              "    <tr style=\"text-align: right;\">\n",
              "      <th></th>\n",
              "      <th>ID</th>\n",
              "      <th>age</th>\n",
              "      <th>job</th>\n",
              "      <th>marital</th>\n",
              "      <th>education</th>\n",
              "      <th>default</th>\n",
              "      <th>housing</th>\n",
              "      <th>loan</th>\n",
              "      <th>contact</th>\n",
              "      <th>month</th>\n",
              "      <th>...</th>\n",
              "      <th>campaign</th>\n",
              "      <th>pdays</th>\n",
              "      <th>previous</th>\n",
              "      <th>poutcome</th>\n",
              "      <th>emp.var.rate</th>\n",
              "      <th>cons.price.idx</th>\n",
              "      <th>cons.conf.idx</th>\n",
              "      <th>euribor3m</th>\n",
              "      <th>nr.employed</th>\n",
              "      <th>approved</th>\n",
              "    </tr>\n",
              "  </thead>\n",
              "  <tbody>\n",
              "    <tr>\n",
              "      <th>0</th>\n",
              "      <td>C1</td>\n",
              "      <td>30</td>\n",
              "      <td>blue-collar</td>\n",
              "      <td>married</td>\n",
              "      <td>basic.9y</td>\n",
              "      <td>no</td>\n",
              "      <td>yes</td>\n",
              "      <td>no</td>\n",
              "      <td>cellular</td>\n",
              "      <td>may</td>\n",
              "      <td>...</td>\n",
              "      <td>2</td>\n",
              "      <td>999</td>\n",
              "      <td>0</td>\n",
              "      <td>nonexistent</td>\n",
              "      <td>-1.8</td>\n",
              "      <td>92.893</td>\n",
              "      <td>-46.2</td>\n",
              "      <td>1.313</td>\n",
              "      <td>5099.1</td>\n",
              "      <td>no</td>\n",
              "    </tr>\n",
              "    <tr>\n",
              "      <th>1</th>\n",
              "      <td>C2</td>\n",
              "      <td>39</td>\n",
              "      <td>services</td>\n",
              "      <td>single</td>\n",
              "      <td>high.school</td>\n",
              "      <td>no</td>\n",
              "      <td>no</td>\n",
              "      <td>no</td>\n",
              "      <td>telephone</td>\n",
              "      <td>may</td>\n",
              "      <td>...</td>\n",
              "      <td>4</td>\n",
              "      <td>999</td>\n",
              "      <td>0</td>\n",
              "      <td>nonexistent</td>\n",
              "      <td>1.1</td>\n",
              "      <td>93.994</td>\n",
              "      <td>-36.4</td>\n",
              "      <td>4.855</td>\n",
              "      <td>5191.0</td>\n",
              "      <td>no</td>\n",
              "    </tr>\n",
              "    <tr>\n",
              "      <th>2</th>\n",
              "      <td>C3</td>\n",
              "      <td>25</td>\n",
              "      <td>services</td>\n",
              "      <td>married</td>\n",
              "      <td>high.school</td>\n",
              "      <td>no</td>\n",
              "      <td>yes</td>\n",
              "      <td>no</td>\n",
              "      <td>telephone</td>\n",
              "      <td>jun</td>\n",
              "      <td>...</td>\n",
              "      <td>1</td>\n",
              "      <td>999</td>\n",
              "      <td>0</td>\n",
              "      <td>nonexistent</td>\n",
              "      <td>1.4</td>\n",
              "      <td>94.465</td>\n",
              "      <td>-41.8</td>\n",
              "      <td>4.962</td>\n",
              "      <td>5228.1</td>\n",
              "      <td>no</td>\n",
              "    </tr>\n",
              "    <tr>\n",
              "      <th>3</th>\n",
              "      <td>C4</td>\n",
              "      <td>38</td>\n",
              "      <td>services</td>\n",
              "      <td>married</td>\n",
              "      <td>basic.9y</td>\n",
              "      <td>no</td>\n",
              "      <td>unknown</td>\n",
              "      <td>unknown</td>\n",
              "      <td>telephone</td>\n",
              "      <td>jun</td>\n",
              "      <td>...</td>\n",
              "      <td>3</td>\n",
              "      <td>999</td>\n",
              "      <td>0</td>\n",
              "      <td>nonexistent</td>\n",
              "      <td>1.4</td>\n",
              "      <td>94.465</td>\n",
              "      <td>-41.8</td>\n",
              "      <td>4.959</td>\n",
              "      <td>5228.1</td>\n",
              "      <td>no</td>\n",
              "    </tr>\n",
              "    <tr>\n",
              "      <th>4</th>\n",
              "      <td>C5</td>\n",
              "      <td>47</td>\n",
              "      <td>admin.</td>\n",
              "      <td>married</td>\n",
              "      <td>university.degree</td>\n",
              "      <td>no</td>\n",
              "      <td>yes</td>\n",
              "      <td>no</td>\n",
              "      <td>cellular</td>\n",
              "      <td>nov</td>\n",
              "      <td>...</td>\n",
              "      <td>1</td>\n",
              "      <td>999</td>\n",
              "      <td>0</td>\n",
              "      <td>nonexistent</td>\n",
              "      <td>-0.1</td>\n",
              "      <td>93.200</td>\n",
              "      <td>-42.0</td>\n",
              "      <td>4.191</td>\n",
              "      <td>5195.8</td>\n",
              "      <td>no</td>\n",
              "    </tr>\n",
              "    <tr>\n",
              "      <th>...</th>\n",
              "      <td>...</td>\n",
              "      <td>...</td>\n",
              "      <td>...</td>\n",
              "      <td>...</td>\n",
              "      <td>...</td>\n",
              "      <td>...</td>\n",
              "      <td>...</td>\n",
              "      <td>...</td>\n",
              "      <td>...</td>\n",
              "      <td>...</td>\n",
              "      <td>...</td>\n",
              "      <td>...</td>\n",
              "      <td>...</td>\n",
              "      <td>...</td>\n",
              "      <td>...</td>\n",
              "      <td>...</td>\n",
              "      <td>...</td>\n",
              "      <td>...</td>\n",
              "      <td>...</td>\n",
              "      <td>...</td>\n",
              "      <td>...</td>\n",
              "    </tr>\n",
              "    <tr>\n",
              "      <th>4114</th>\n",
              "      <td>C4115</td>\n",
              "      <td>30</td>\n",
              "      <td>admin.</td>\n",
              "      <td>married</td>\n",
              "      <td>basic.6y</td>\n",
              "      <td>no</td>\n",
              "      <td>yes</td>\n",
              "      <td>yes</td>\n",
              "      <td>cellular</td>\n",
              "      <td>jul</td>\n",
              "      <td>...</td>\n",
              "      <td>1</td>\n",
              "      <td>999</td>\n",
              "      <td>0</td>\n",
              "      <td>nonexistent</td>\n",
              "      <td>1.4</td>\n",
              "      <td>93.918</td>\n",
              "      <td>-42.7</td>\n",
              "      <td>4.958</td>\n",
              "      <td>5228.1</td>\n",
              "      <td>no</td>\n",
              "    </tr>\n",
              "    <tr>\n",
              "      <th>4115</th>\n",
              "      <td>C4116</td>\n",
              "      <td>39</td>\n",
              "      <td>admin.</td>\n",
              "      <td>married</td>\n",
              "      <td>high.school</td>\n",
              "      <td>no</td>\n",
              "      <td>yes</td>\n",
              "      <td>no</td>\n",
              "      <td>telephone</td>\n",
              "      <td>jul</td>\n",
              "      <td>...</td>\n",
              "      <td>1</td>\n",
              "      <td>999</td>\n",
              "      <td>0</td>\n",
              "      <td>nonexistent</td>\n",
              "      <td>1.4</td>\n",
              "      <td>93.918</td>\n",
              "      <td>-42.7</td>\n",
              "      <td>4.959</td>\n",
              "      <td>5228.1</td>\n",
              "      <td>no</td>\n",
              "    </tr>\n",
              "    <tr>\n",
              "      <th>4116</th>\n",
              "      <td>C4117</td>\n",
              "      <td>27</td>\n",
              "      <td>student</td>\n",
              "      <td>single</td>\n",
              "      <td>high.school</td>\n",
              "      <td>no</td>\n",
              "      <td>no</td>\n",
              "      <td>no</td>\n",
              "      <td>cellular</td>\n",
              "      <td>may</td>\n",
              "      <td>...</td>\n",
              "      <td>2</td>\n",
              "      <td>999</td>\n",
              "      <td>1</td>\n",
              "      <td>failure</td>\n",
              "      <td>-1.8</td>\n",
              "      <td>92.893</td>\n",
              "      <td>-46.2</td>\n",
              "      <td>1.354</td>\n",
              "      <td>5099.1</td>\n",
              "      <td>no</td>\n",
              "    </tr>\n",
              "    <tr>\n",
              "      <th>4117</th>\n",
              "      <td>C4118</td>\n",
              "      <td>58</td>\n",
              "      <td>admin.</td>\n",
              "      <td>married</td>\n",
              "      <td>high.school</td>\n",
              "      <td>no</td>\n",
              "      <td>no</td>\n",
              "      <td>no</td>\n",
              "      <td>cellular</td>\n",
              "      <td>aug</td>\n",
              "      <td>...</td>\n",
              "      <td>1</td>\n",
              "      <td>999</td>\n",
              "      <td>0</td>\n",
              "      <td>nonexistent</td>\n",
              "      <td>1.4</td>\n",
              "      <td>93.444</td>\n",
              "      <td>-36.1</td>\n",
              "      <td>4.966</td>\n",
              "      <td>5228.1</td>\n",
              "      <td>no</td>\n",
              "    </tr>\n",
              "    <tr>\n",
              "      <th>4118</th>\n",
              "      <td>C4119</td>\n",
              "      <td>34</td>\n",
              "      <td>management</td>\n",
              "      <td>single</td>\n",
              "      <td>high.school</td>\n",
              "      <td>no</td>\n",
              "      <td>yes</td>\n",
              "      <td>no</td>\n",
              "      <td>cellular</td>\n",
              "      <td>nov</td>\n",
              "      <td>...</td>\n",
              "      <td>1</td>\n",
              "      <td>999</td>\n",
              "      <td>0</td>\n",
              "      <td>nonexistent</td>\n",
              "      <td>-0.1</td>\n",
              "      <td>93.200</td>\n",
              "      <td>-42.0</td>\n",
              "      <td>4.120</td>\n",
              "      <td>5195.8</td>\n",
              "      <td>no</td>\n",
              "    </tr>\n",
              "  </tbody>\n",
              "</table>\n",
              "<p>4119 rows × 22 columns</p>\n",
              "</div>\n",
              "      <button class=\"colab-df-convert\" onclick=\"convertToInteractive('df-6244b8dd-d20d-4174-b1f8-437bab1ae55d')\"\n",
              "              title=\"Convert this dataframe to an interactive table.\"\n",
              "              style=\"display:none;\">\n",
              "        \n",
              "  <svg xmlns=\"http://www.w3.org/2000/svg\" height=\"24px\"viewBox=\"0 0 24 24\"\n",
              "       width=\"24px\">\n",
              "    <path d=\"M0 0h24v24H0V0z\" fill=\"none\"/>\n",
              "    <path d=\"M18.56 5.44l.94 2.06.94-2.06 2.06-.94-2.06-.94-.94-2.06-.94 2.06-2.06.94zm-11 1L8.5 8.5l.94-2.06 2.06-.94-2.06-.94L8.5 2.5l-.94 2.06-2.06.94zm10 10l.94 2.06.94-2.06 2.06-.94-2.06-.94-.94-2.06-.94 2.06-2.06.94z\"/><path d=\"M17.41 7.96l-1.37-1.37c-.4-.4-.92-.59-1.43-.59-.52 0-1.04.2-1.43.59L10.3 9.45l-7.72 7.72c-.78.78-.78 2.05 0 2.83L4 21.41c.39.39.9.59 1.41.59.51 0 1.02-.2 1.41-.59l7.78-7.78 2.81-2.81c.8-.78.8-2.07 0-2.86zM5.41 20L4 18.59l7.72-7.72 1.47 1.35L5.41 20z\"/>\n",
              "  </svg>\n",
              "      </button>\n",
              "      \n",
              "  <style>\n",
              "    .colab-df-container {\n",
              "      display:flex;\n",
              "      flex-wrap:wrap;\n",
              "      gap: 12px;\n",
              "    }\n",
              "\n",
              "    .colab-df-convert {\n",
              "      background-color: #E8F0FE;\n",
              "      border: none;\n",
              "      border-radius: 50%;\n",
              "      cursor: pointer;\n",
              "      display: none;\n",
              "      fill: #1967D2;\n",
              "      height: 32px;\n",
              "      padding: 0 0 0 0;\n",
              "      width: 32px;\n",
              "    }\n",
              "\n",
              "    .colab-df-convert:hover {\n",
              "      background-color: #E2EBFA;\n",
              "      box-shadow: 0px 1px 2px rgba(60, 64, 67, 0.3), 0px 1px 3px 1px rgba(60, 64, 67, 0.15);\n",
              "      fill: #174EA6;\n",
              "    }\n",
              "\n",
              "    [theme=dark] .colab-df-convert {\n",
              "      background-color: #3B4455;\n",
              "      fill: #D2E3FC;\n",
              "    }\n",
              "\n",
              "    [theme=dark] .colab-df-convert:hover {\n",
              "      background-color: #434B5C;\n",
              "      box-shadow: 0px 1px 3px 1px rgba(0, 0, 0, 0.15);\n",
              "      filter: drop-shadow(0px 1px 2px rgba(0, 0, 0, 0.3));\n",
              "      fill: #FFFFFF;\n",
              "    }\n",
              "  </style>\n",
              "\n",
              "      <script>\n",
              "        const buttonEl =\n",
              "          document.querySelector('#df-6244b8dd-d20d-4174-b1f8-437bab1ae55d button.colab-df-convert');\n",
              "        buttonEl.style.display =\n",
              "          google.colab.kernel.accessAllowed ? 'block' : 'none';\n",
              "\n",
              "        async function convertToInteractive(key) {\n",
              "          const element = document.querySelector('#df-6244b8dd-d20d-4174-b1f8-437bab1ae55d');\n",
              "          const dataTable =\n",
              "            await google.colab.kernel.invokeFunction('convertToInteractive',\n",
              "                                                     [key], {});\n",
              "          if (!dataTable) return;\n",
              "\n",
              "          const docLinkHtml = 'Like what you see? Visit the ' +\n",
              "            '<a target=\"_blank\" href=https://colab.research.google.com/notebooks/data_table.ipynb>data table notebook</a>'\n",
              "            + ' to learn more about interactive tables.';\n",
              "          element.innerHTML = '';\n",
              "          dataTable['output_type'] = 'display_data';\n",
              "          await google.colab.output.renderOutput(dataTable, element);\n",
              "          const docLink = document.createElement('div');\n",
              "          docLink.innerHTML = docLinkHtml;\n",
              "          element.appendChild(docLink);\n",
              "        }\n",
              "      </script>\n",
              "    </div>\n",
              "  </div>\n",
              "  "
            ]
          },
          "metadata": {},
          "execution_count": 11
        }
      ]
    },
    {
      "cell_type": "code",
      "source": [
        "data.dtypes"
      ],
      "metadata": {
        "colab": {
          "base_uri": "https://localhost:8080/"
        },
        "id": "KXK-7XWsH3jy",
        "outputId": "f10d96c8-7883-4220-a736-0b56a87ae69d"
      },
      "execution_count": 12,
      "outputs": [
        {
          "output_type": "execute_result",
          "data": {
            "text/plain": [
              "ID                 object\n",
              "age                 int64\n",
              "job                object\n",
              "marital            object\n",
              "education          object\n",
              "default            object\n",
              "housing            object\n",
              "loan               object\n",
              "contact            object\n",
              "month              object\n",
              "day_of_week        object\n",
              "duration            int64\n",
              "campaign            int64\n",
              "pdays               int64\n",
              "previous            int64\n",
              "poutcome           object\n",
              "emp.var.rate      float64\n",
              "cons.price.idx    float64\n",
              "cons.conf.idx     float64\n",
              "euribor3m         float64\n",
              "nr.employed       float64\n",
              "approved           object\n",
              "dtype: object"
            ]
          },
          "metadata": {},
          "execution_count": 12
        }
      ]
    },
    {
      "cell_type": "code",
      "source": [
        " for col in ['ID','job','marital','education','default','housing','loan','contact','month','day_of_week','poutcome','approved']:\n",
        "    data[col] = data[col].astype('category')"
      ],
      "metadata": {
        "id": "dErYQK1tIcOn"
      },
      "execution_count": 13,
      "outputs": []
    },
    {
      "cell_type": "code",
      "source": [
        "data.describe(include=\"all\")"
      ],
      "metadata": {
        "colab": {
          "base_uri": "https://localhost:8080/",
          "height": 488
        },
        "id": "-sM3hmivKmqe",
        "outputId": "792c550c-563f-4791-c682-1fd48f3a0582"
      },
      "execution_count": 14,
      "outputs": [
        {
          "output_type": "execute_result",
          "data": {
            "text/plain": [
              "          ID          age     job  marital          education default housing  \\\n",
              "count   4119  4119.000000    4119     4119               4119    4119    4119   \n",
              "unique  4119          NaN      12        4                  8       3       3   \n",
              "top       C1          NaN  admin.  married  university.degree      no     yes   \n",
              "freq       1          NaN    1012     2509               1264    3315    2175   \n",
              "mean     NaN    40.113620     NaN      NaN                NaN     NaN     NaN   \n",
              "std      NaN    10.313362     NaN      NaN                NaN     NaN     NaN   \n",
              "min      NaN    18.000000     NaN      NaN                NaN     NaN     NaN   \n",
              "25%      NaN    32.000000     NaN      NaN                NaN     NaN     NaN   \n",
              "50%      NaN    38.000000     NaN      NaN                NaN     NaN     NaN   \n",
              "75%      NaN    47.000000     NaN      NaN                NaN     NaN     NaN   \n",
              "max      NaN    88.000000     NaN      NaN                NaN     NaN     NaN   \n",
              "\n",
              "        loan   contact month  ...     campaign        pdays     previous  \\\n",
              "count   4119      4119  4119  ...  4119.000000  4119.000000  4119.000000   \n",
              "unique     3         2    10  ...          NaN          NaN          NaN   \n",
              "top       no  cellular   may  ...          NaN          NaN          NaN   \n",
              "freq    3349      2652  1378  ...          NaN          NaN          NaN   \n",
              "mean     NaN       NaN   NaN  ...     2.537266   960.422190     0.190337   \n",
              "std      NaN       NaN   NaN  ...     2.568159   191.922786     0.541788   \n",
              "min      NaN       NaN   NaN  ...     1.000000     0.000000     0.000000   \n",
              "25%      NaN       NaN   NaN  ...     1.000000   999.000000     0.000000   \n",
              "50%      NaN       NaN   NaN  ...     2.000000   999.000000     0.000000   \n",
              "75%      NaN       NaN   NaN  ...     3.000000   999.000000     0.000000   \n",
              "max      NaN       NaN   NaN  ...    35.000000   999.000000     6.000000   \n",
              "\n",
              "           poutcome  emp.var.rate cons.price.idx  cons.conf.idx    euribor3m  \\\n",
              "count          4119   4119.000000    4119.000000    4119.000000  4119.000000   \n",
              "unique            3           NaN            NaN            NaN          NaN   \n",
              "top     nonexistent           NaN            NaN            NaN          NaN   \n",
              "freq           3523           NaN            NaN            NaN          NaN   \n",
              "mean            NaN      0.084972      93.579704     -40.499102     3.621356   \n",
              "std             NaN      1.563114       0.579349       4.594578     1.733591   \n",
              "min             NaN     -3.400000      92.201000     -50.800000     0.635000   \n",
              "25%             NaN     -1.800000      93.075000     -42.700000     1.334000   \n",
              "50%             NaN      1.100000      93.749000     -41.800000     4.857000   \n",
              "75%             NaN      1.400000      93.994000     -36.400000     4.961000   \n",
              "max             NaN      1.400000      94.767000     -26.900000     5.045000   \n",
              "\n",
              "        nr.employed  approved  \n",
              "count   4119.000000      4119  \n",
              "unique          NaN         2  \n",
              "top             NaN        no  \n",
              "freq            NaN      3668  \n",
              "mean    5166.481695       NaN  \n",
              "std       73.667904       NaN  \n",
              "min     4963.600000       NaN  \n",
              "25%     5099.100000       NaN  \n",
              "50%     5191.000000       NaN  \n",
              "75%     5228.100000       NaN  \n",
              "max     5228.100000       NaN  \n",
              "\n",
              "[11 rows x 22 columns]"
            ],
            "text/html": [
              "\n",
              "  <div id=\"df-46b43828-c0f8-409a-b584-728a1e1680d8\">\n",
              "    <div class=\"colab-df-container\">\n",
              "      <div>\n",
              "<style scoped>\n",
              "    .dataframe tbody tr th:only-of-type {\n",
              "        vertical-align: middle;\n",
              "    }\n",
              "\n",
              "    .dataframe tbody tr th {\n",
              "        vertical-align: top;\n",
              "    }\n",
              "\n",
              "    .dataframe thead th {\n",
              "        text-align: right;\n",
              "    }\n",
              "</style>\n",
              "<table border=\"1\" class=\"dataframe\">\n",
              "  <thead>\n",
              "    <tr style=\"text-align: right;\">\n",
              "      <th></th>\n",
              "      <th>ID</th>\n",
              "      <th>age</th>\n",
              "      <th>job</th>\n",
              "      <th>marital</th>\n",
              "      <th>education</th>\n",
              "      <th>default</th>\n",
              "      <th>housing</th>\n",
              "      <th>loan</th>\n",
              "      <th>contact</th>\n",
              "      <th>month</th>\n",
              "      <th>...</th>\n",
              "      <th>campaign</th>\n",
              "      <th>pdays</th>\n",
              "      <th>previous</th>\n",
              "      <th>poutcome</th>\n",
              "      <th>emp.var.rate</th>\n",
              "      <th>cons.price.idx</th>\n",
              "      <th>cons.conf.idx</th>\n",
              "      <th>euribor3m</th>\n",
              "      <th>nr.employed</th>\n",
              "      <th>approved</th>\n",
              "    </tr>\n",
              "  </thead>\n",
              "  <tbody>\n",
              "    <tr>\n",
              "      <th>count</th>\n",
              "      <td>4119</td>\n",
              "      <td>4119.000000</td>\n",
              "      <td>4119</td>\n",
              "      <td>4119</td>\n",
              "      <td>4119</td>\n",
              "      <td>4119</td>\n",
              "      <td>4119</td>\n",
              "      <td>4119</td>\n",
              "      <td>4119</td>\n",
              "      <td>4119</td>\n",
              "      <td>...</td>\n",
              "      <td>4119.000000</td>\n",
              "      <td>4119.000000</td>\n",
              "      <td>4119.000000</td>\n",
              "      <td>4119</td>\n",
              "      <td>4119.000000</td>\n",
              "      <td>4119.000000</td>\n",
              "      <td>4119.000000</td>\n",
              "      <td>4119.000000</td>\n",
              "      <td>4119.000000</td>\n",
              "      <td>4119</td>\n",
              "    </tr>\n",
              "    <tr>\n",
              "      <th>unique</th>\n",
              "      <td>4119</td>\n",
              "      <td>NaN</td>\n",
              "      <td>12</td>\n",
              "      <td>4</td>\n",
              "      <td>8</td>\n",
              "      <td>3</td>\n",
              "      <td>3</td>\n",
              "      <td>3</td>\n",
              "      <td>2</td>\n",
              "      <td>10</td>\n",
              "      <td>...</td>\n",
              "      <td>NaN</td>\n",
              "      <td>NaN</td>\n",
              "      <td>NaN</td>\n",
              "      <td>3</td>\n",
              "      <td>NaN</td>\n",
              "      <td>NaN</td>\n",
              "      <td>NaN</td>\n",
              "      <td>NaN</td>\n",
              "      <td>NaN</td>\n",
              "      <td>2</td>\n",
              "    </tr>\n",
              "    <tr>\n",
              "      <th>top</th>\n",
              "      <td>C1</td>\n",
              "      <td>NaN</td>\n",
              "      <td>admin.</td>\n",
              "      <td>married</td>\n",
              "      <td>university.degree</td>\n",
              "      <td>no</td>\n",
              "      <td>yes</td>\n",
              "      <td>no</td>\n",
              "      <td>cellular</td>\n",
              "      <td>may</td>\n",
              "      <td>...</td>\n",
              "      <td>NaN</td>\n",
              "      <td>NaN</td>\n",
              "      <td>NaN</td>\n",
              "      <td>nonexistent</td>\n",
              "      <td>NaN</td>\n",
              "      <td>NaN</td>\n",
              "      <td>NaN</td>\n",
              "      <td>NaN</td>\n",
              "      <td>NaN</td>\n",
              "      <td>no</td>\n",
              "    </tr>\n",
              "    <tr>\n",
              "      <th>freq</th>\n",
              "      <td>1</td>\n",
              "      <td>NaN</td>\n",
              "      <td>1012</td>\n",
              "      <td>2509</td>\n",
              "      <td>1264</td>\n",
              "      <td>3315</td>\n",
              "      <td>2175</td>\n",
              "      <td>3349</td>\n",
              "      <td>2652</td>\n",
              "      <td>1378</td>\n",
              "      <td>...</td>\n",
              "      <td>NaN</td>\n",
              "      <td>NaN</td>\n",
              "      <td>NaN</td>\n",
              "      <td>3523</td>\n",
              "      <td>NaN</td>\n",
              "      <td>NaN</td>\n",
              "      <td>NaN</td>\n",
              "      <td>NaN</td>\n",
              "      <td>NaN</td>\n",
              "      <td>3668</td>\n",
              "    </tr>\n",
              "    <tr>\n",
              "      <th>mean</th>\n",
              "      <td>NaN</td>\n",
              "      <td>40.113620</td>\n",
              "      <td>NaN</td>\n",
              "      <td>NaN</td>\n",
              "      <td>NaN</td>\n",
              "      <td>NaN</td>\n",
              "      <td>NaN</td>\n",
              "      <td>NaN</td>\n",
              "      <td>NaN</td>\n",
              "      <td>NaN</td>\n",
              "      <td>...</td>\n",
              "      <td>2.537266</td>\n",
              "      <td>960.422190</td>\n",
              "      <td>0.190337</td>\n",
              "      <td>NaN</td>\n",
              "      <td>0.084972</td>\n",
              "      <td>93.579704</td>\n",
              "      <td>-40.499102</td>\n",
              "      <td>3.621356</td>\n",
              "      <td>5166.481695</td>\n",
              "      <td>NaN</td>\n",
              "    </tr>\n",
              "    <tr>\n",
              "      <th>std</th>\n",
              "      <td>NaN</td>\n",
              "      <td>10.313362</td>\n",
              "      <td>NaN</td>\n",
              "      <td>NaN</td>\n",
              "      <td>NaN</td>\n",
              "      <td>NaN</td>\n",
              "      <td>NaN</td>\n",
              "      <td>NaN</td>\n",
              "      <td>NaN</td>\n",
              "      <td>NaN</td>\n",
              "      <td>...</td>\n",
              "      <td>2.568159</td>\n",
              "      <td>191.922786</td>\n",
              "      <td>0.541788</td>\n",
              "      <td>NaN</td>\n",
              "      <td>1.563114</td>\n",
              "      <td>0.579349</td>\n",
              "      <td>4.594578</td>\n",
              "      <td>1.733591</td>\n",
              "      <td>73.667904</td>\n",
              "      <td>NaN</td>\n",
              "    </tr>\n",
              "    <tr>\n",
              "      <th>min</th>\n",
              "      <td>NaN</td>\n",
              "      <td>18.000000</td>\n",
              "      <td>NaN</td>\n",
              "      <td>NaN</td>\n",
              "      <td>NaN</td>\n",
              "      <td>NaN</td>\n",
              "      <td>NaN</td>\n",
              "      <td>NaN</td>\n",
              "      <td>NaN</td>\n",
              "      <td>NaN</td>\n",
              "      <td>...</td>\n",
              "      <td>1.000000</td>\n",
              "      <td>0.000000</td>\n",
              "      <td>0.000000</td>\n",
              "      <td>NaN</td>\n",
              "      <td>-3.400000</td>\n",
              "      <td>92.201000</td>\n",
              "      <td>-50.800000</td>\n",
              "      <td>0.635000</td>\n",
              "      <td>4963.600000</td>\n",
              "      <td>NaN</td>\n",
              "    </tr>\n",
              "    <tr>\n",
              "      <th>25%</th>\n",
              "      <td>NaN</td>\n",
              "      <td>32.000000</td>\n",
              "      <td>NaN</td>\n",
              "      <td>NaN</td>\n",
              "      <td>NaN</td>\n",
              "      <td>NaN</td>\n",
              "      <td>NaN</td>\n",
              "      <td>NaN</td>\n",
              "      <td>NaN</td>\n",
              "      <td>NaN</td>\n",
              "      <td>...</td>\n",
              "      <td>1.000000</td>\n",
              "      <td>999.000000</td>\n",
              "      <td>0.000000</td>\n",
              "      <td>NaN</td>\n",
              "      <td>-1.800000</td>\n",
              "      <td>93.075000</td>\n",
              "      <td>-42.700000</td>\n",
              "      <td>1.334000</td>\n",
              "      <td>5099.100000</td>\n",
              "      <td>NaN</td>\n",
              "    </tr>\n",
              "    <tr>\n",
              "      <th>50%</th>\n",
              "      <td>NaN</td>\n",
              "      <td>38.000000</td>\n",
              "      <td>NaN</td>\n",
              "      <td>NaN</td>\n",
              "      <td>NaN</td>\n",
              "      <td>NaN</td>\n",
              "      <td>NaN</td>\n",
              "      <td>NaN</td>\n",
              "      <td>NaN</td>\n",
              "      <td>NaN</td>\n",
              "      <td>...</td>\n",
              "      <td>2.000000</td>\n",
              "      <td>999.000000</td>\n",
              "      <td>0.000000</td>\n",
              "      <td>NaN</td>\n",
              "      <td>1.100000</td>\n",
              "      <td>93.749000</td>\n",
              "      <td>-41.800000</td>\n",
              "      <td>4.857000</td>\n",
              "      <td>5191.000000</td>\n",
              "      <td>NaN</td>\n",
              "    </tr>\n",
              "    <tr>\n",
              "      <th>75%</th>\n",
              "      <td>NaN</td>\n",
              "      <td>47.000000</td>\n",
              "      <td>NaN</td>\n",
              "      <td>NaN</td>\n",
              "      <td>NaN</td>\n",
              "      <td>NaN</td>\n",
              "      <td>NaN</td>\n",
              "      <td>NaN</td>\n",
              "      <td>NaN</td>\n",
              "      <td>NaN</td>\n",
              "      <td>...</td>\n",
              "      <td>3.000000</td>\n",
              "      <td>999.000000</td>\n",
              "      <td>0.000000</td>\n",
              "      <td>NaN</td>\n",
              "      <td>1.400000</td>\n",
              "      <td>93.994000</td>\n",
              "      <td>-36.400000</td>\n",
              "      <td>4.961000</td>\n",
              "      <td>5228.100000</td>\n",
              "      <td>NaN</td>\n",
              "    </tr>\n",
              "    <tr>\n",
              "      <th>max</th>\n",
              "      <td>NaN</td>\n",
              "      <td>88.000000</td>\n",
              "      <td>NaN</td>\n",
              "      <td>NaN</td>\n",
              "      <td>NaN</td>\n",
              "      <td>NaN</td>\n",
              "      <td>NaN</td>\n",
              "      <td>NaN</td>\n",
              "      <td>NaN</td>\n",
              "      <td>NaN</td>\n",
              "      <td>...</td>\n",
              "      <td>35.000000</td>\n",
              "      <td>999.000000</td>\n",
              "      <td>6.000000</td>\n",
              "      <td>NaN</td>\n",
              "      <td>1.400000</td>\n",
              "      <td>94.767000</td>\n",
              "      <td>-26.900000</td>\n",
              "      <td>5.045000</td>\n",
              "      <td>5228.100000</td>\n",
              "      <td>NaN</td>\n",
              "    </tr>\n",
              "  </tbody>\n",
              "</table>\n",
              "<p>11 rows × 22 columns</p>\n",
              "</div>\n",
              "      <button class=\"colab-df-convert\" onclick=\"convertToInteractive('df-46b43828-c0f8-409a-b584-728a1e1680d8')\"\n",
              "              title=\"Convert this dataframe to an interactive table.\"\n",
              "              style=\"display:none;\">\n",
              "        \n",
              "  <svg xmlns=\"http://www.w3.org/2000/svg\" height=\"24px\"viewBox=\"0 0 24 24\"\n",
              "       width=\"24px\">\n",
              "    <path d=\"M0 0h24v24H0V0z\" fill=\"none\"/>\n",
              "    <path d=\"M18.56 5.44l.94 2.06.94-2.06 2.06-.94-2.06-.94-.94-2.06-.94 2.06-2.06.94zm-11 1L8.5 8.5l.94-2.06 2.06-.94-2.06-.94L8.5 2.5l-.94 2.06-2.06.94zm10 10l.94 2.06.94-2.06 2.06-.94-2.06-.94-.94-2.06-.94 2.06-2.06.94z\"/><path d=\"M17.41 7.96l-1.37-1.37c-.4-.4-.92-.59-1.43-.59-.52 0-1.04.2-1.43.59L10.3 9.45l-7.72 7.72c-.78.78-.78 2.05 0 2.83L4 21.41c.39.39.9.59 1.41.59.51 0 1.02-.2 1.41-.59l7.78-7.78 2.81-2.81c.8-.78.8-2.07 0-2.86zM5.41 20L4 18.59l7.72-7.72 1.47 1.35L5.41 20z\"/>\n",
              "  </svg>\n",
              "      </button>\n",
              "      \n",
              "  <style>\n",
              "    .colab-df-container {\n",
              "      display:flex;\n",
              "      flex-wrap:wrap;\n",
              "      gap: 12px;\n",
              "    }\n",
              "\n",
              "    .colab-df-convert {\n",
              "      background-color: #E8F0FE;\n",
              "      border: none;\n",
              "      border-radius: 50%;\n",
              "      cursor: pointer;\n",
              "      display: none;\n",
              "      fill: #1967D2;\n",
              "      height: 32px;\n",
              "      padding: 0 0 0 0;\n",
              "      width: 32px;\n",
              "    }\n",
              "\n",
              "    .colab-df-convert:hover {\n",
              "      background-color: #E2EBFA;\n",
              "      box-shadow: 0px 1px 2px rgba(60, 64, 67, 0.3), 0px 1px 3px 1px rgba(60, 64, 67, 0.15);\n",
              "      fill: #174EA6;\n",
              "    }\n",
              "\n",
              "    [theme=dark] .colab-df-convert {\n",
              "      background-color: #3B4455;\n",
              "      fill: #D2E3FC;\n",
              "    }\n",
              "\n",
              "    [theme=dark] .colab-df-convert:hover {\n",
              "      background-color: #434B5C;\n",
              "      box-shadow: 0px 1px 3px 1px rgba(0, 0, 0, 0.15);\n",
              "      filter: drop-shadow(0px 1px 2px rgba(0, 0, 0, 0.3));\n",
              "      fill: #FFFFFF;\n",
              "    }\n",
              "  </style>\n",
              "\n",
              "      <script>\n",
              "        const buttonEl =\n",
              "          document.querySelector('#df-46b43828-c0f8-409a-b584-728a1e1680d8 button.colab-df-convert');\n",
              "        buttonEl.style.display =\n",
              "          google.colab.kernel.accessAllowed ? 'block' : 'none';\n",
              "\n",
              "        async function convertToInteractive(key) {\n",
              "          const element = document.querySelector('#df-46b43828-c0f8-409a-b584-728a1e1680d8');\n",
              "          const dataTable =\n",
              "            await google.colab.kernel.invokeFunction('convertToInteractive',\n",
              "                                                     [key], {});\n",
              "          if (!dataTable) return;\n",
              "\n",
              "          const docLinkHtml = 'Like what you see? Visit the ' +\n",
              "            '<a target=\"_blank\" href=https://colab.research.google.com/notebooks/data_table.ipynb>data table notebook</a>'\n",
              "            + ' to learn more about interactive tables.';\n",
              "          element.innerHTML = '';\n",
              "          dataTable['output_type'] = 'display_data';\n",
              "          await google.colab.output.renderOutput(dataTable, element);\n",
              "          const docLink = document.createElement('div');\n",
              "          docLink.innerHTML = docLinkHtml;\n",
              "          element.appendChild(docLink);\n",
              "        }\n",
              "      </script>\n",
              "    </div>\n",
              "  </div>\n",
              "  "
            ]
          },
          "metadata": {},
          "execution_count": 14
        }
      ]
    },
    {
      "cell_type": "code",
      "source": [
        "data.isnull().sum()"
      ],
      "metadata": {
        "colab": {
          "base_uri": "https://localhost:8080/"
        },
        "id": "DWaKXAJ9KueK",
        "outputId": "d52b9fc2-bb3b-4d10-9845-f450b1527b7a"
      },
      "execution_count": 15,
      "outputs": [
        {
          "output_type": "execute_result",
          "data": {
            "text/plain": [
              "ID                0\n",
              "age               0\n",
              "job               0\n",
              "marital           0\n",
              "education         0\n",
              "default           0\n",
              "housing           0\n",
              "loan              0\n",
              "contact           0\n",
              "month             0\n",
              "day_of_week       0\n",
              "duration          0\n",
              "campaign          0\n",
              "pdays             0\n",
              "previous          0\n",
              "poutcome          0\n",
              "emp.var.rate      0\n",
              "cons.price.idx    0\n",
              "cons.conf.idx     0\n",
              "euribor3m         0\n",
              "nr.employed       0\n",
              "approved          0\n",
              "dtype: int64"
            ]
          },
          "metadata": {},
          "execution_count": 15
        }
      ]
    },
    {
      "cell_type": "code",
      "source": [
        "df1.duplicated().sum()"
      ],
      "metadata": {
        "colab": {
          "base_uri": "https://localhost:8080/"
        },
        "id": "f4u80BZqYXk8",
        "outputId": "05558583-97ad-46de-c920-e13ecab4eb5c"
      },
      "execution_count": 16,
      "outputs": [
        {
          "output_type": "execute_result",
          "data": {
            "text/plain": [
              "0"
            ]
          },
          "metadata": {},
          "execution_count": 16
        }
      ]
    },
    {
      "cell_type": "code",
      "source": [
        "data.dtypes"
      ],
      "metadata": {
        "id": "fNCL_hpsY9zE",
        "outputId": "fcbbf71f-9b2d-41fb-be2b-868701754aa3",
        "colab": {
          "base_uri": "https://localhost:8080/"
        }
      },
      "execution_count": 17,
      "outputs": [
        {
          "output_type": "execute_result",
          "data": {
            "text/plain": [
              "ID                category\n",
              "age                  int64\n",
              "job               category\n",
              "marital           category\n",
              "education         category\n",
              "default           category\n",
              "housing           category\n",
              "loan              category\n",
              "contact           category\n",
              "month             category\n",
              "day_of_week       category\n",
              "duration             int64\n",
              "campaign             int64\n",
              "pdays                int64\n",
              "previous             int64\n",
              "poutcome          category\n",
              "emp.var.rate       float64\n",
              "cons.price.idx     float64\n",
              "cons.conf.idx      float64\n",
              "euribor3m          float64\n",
              "nr.employed        float64\n",
              "approved          category\n",
              "dtype: object"
            ]
          },
          "metadata": {},
          "execution_count": 17
        }
      ]
    },
    {
      "cell_type": "code",
      "source": [
        "sns.boxplot(data[\"age\"])"
      ],
      "metadata": {
        "id": "Xres1pqNgiEA",
        "outputId": "99c52636-668b-4ba3-a01f-32076f9a2dd1",
        "colab": {
          "base_uri": "https://localhost:8080/",
          "height": 282
        }
      },
      "execution_count": 18,
      "outputs": [
        {
          "output_type": "execute_result",
          "data": {
            "text/plain": [
              "<Axes: >"
            ]
          },
          "metadata": {},
          "execution_count": 18
        },
        {
          "output_type": "display_data",
          "data": {
            "text/plain": [
              "<Figure size 432x288 with 1 Axes>"
            ],
            "image/png": "[encoded data removed]"
          },
          "metadata": {
            "needs_background": "light"
          }
        }
      ]
    },
    {
      "cell_type": "code",
      "source": [],
      "metadata": {
        "id": "fgEmBnQPgu0E"
      },
      "execution_count": 18,
      "outputs": []
    },
    {
      "cell_type": "code",
      "source": [
        "sns.boxplot(data['duration'])"
      ],
      "metadata": {
        "id": "r6EE-fjDZnja",
        "outputId": "c24adca7-f09c-41a6-b2ba-86c0bf5ee31d",
        "colab": {
          "base_uri": "https://localhost:8080/",
          "height": 282
        }
      },
      "execution_count": 19,
      "outputs": [
        {
          "output_type": "execute_result",
          "data": {
            "text/plain": [
              "<Axes: >"
            ]
          },
          "metadata": {},
          "execution_count": 19
        },
        {
          "output_type": "display_data",
          "data": {
            "text/plain": [
              "<Figure size 432x288 with 1 Axes>"
            ],
            "image/png": "[encoded data removed]"
          },
          "metadata": {
            "needs_background": "light"
          }
        }
      ]
    },
    {
      "cell_type": "code",
      "source": [
        "sns.boxplot(data['campaign'])"
      ],
      "metadata": {
        "id": "5HfhHWEpZ7Ih",
        "outputId": "d7bfb8a9-d359-4aef-85d8-5629e9e158f4",
        "colab": {
          "base_uri": "https://localhost:8080/",
          "height": 282
        }
      },
      "execution_count": 20,
      "outputs": [
        {
          "output_type": "execute_result",
          "data": {
            "text/plain": [
              "<Axes: >"
            ]
          },
          "metadata": {},
          "execution_count": 20
        },
        {
          "output_type": "display_data",
          "data": {
            "text/plain": [
              "<Figure size 432x288 with 1 Axes>"
            ],
            "image/png": "[encoded data removed]"
          },
          "metadata": {
            "needs_background": "light"
          }
        }
      ]
    },
    {
      "cell_type": "code",
      "source": [
        "sns.boxplot(data['pdays'])"
      ],
      "metadata": {
        "id": "Sj1aAmWLaZV3",
        "outputId": "2e4dc812-1976-4172-e4cf-69f25ff4be1d",
        "colab": {
          "base_uri": "https://localhost:8080/",
          "height": 282
        }
      },
      "execution_count": 21,
      "outputs": [
        {
          "output_type": "execute_result",
          "data": {
            "text/plain": [
              "<Axes: >"
            ]
          },
          "metadata": {},
          "execution_count": 21
        },
        {
          "output_type": "display_data",
          "data": {
            "text/plain": [
              "<Figure size 432x288 with 1 Axes>"
            ],
            "image/png": "[encoded data removed]"
          },
          "metadata": {
            "needs_background": "light"
          }
        }
      ]
    },
    {
      "cell_type": "code",
      "source": [
        "sns.boxplot(data['previous'])"
      ],
      "metadata": {
        "id": "xC18uJy9akyR",
        "outputId": "e8e38443-a765-4963-d65e-8ab42c9323a8",
        "colab": {
          "base_uri": "https://localhost:8080/",
          "height": 282
        }
      },
      "execution_count": 22,
      "outputs": [
        {
          "output_type": "execute_result",
          "data": {
            "text/plain": [
              "<Axes: >"
            ]
          },
          "metadata": {},
          "execution_count": 22
        },
        {
          "output_type": "display_data",
          "data": {
            "text/plain": [
              "<Figure size 432x288 with 1 Axes>"
            ],
            "image/png": "[encoded data removed]"
          },
          "metadata": {
            "needs_background": "light"
          }
        }
      ]
    },
    {
      "cell_type": "code",
      "source": [
        "sns.boxplot(data['emp.var.rate'])"
      ],
      "metadata": {
        "id": "PS-u-Jf5als3",
        "outputId": "714e53df-bf50-459e-d091-e73ac1af6c3b",
        "colab": {
          "base_uri": "https://localhost:8080/",
          "height": 282
        }
      },
      "execution_count": 23,
      "outputs": [
        {
          "output_type": "execute_result",
          "data": {
            "text/plain": [
              "<Axes: >"
            ]
          },
          "metadata": {},
          "execution_count": 23
        },
        {
          "output_type": "display_data",
          "data": {
            "text/plain": [
              "<Figure size 432x288 with 1 Axes>"
            ],
            "image/png": "[encoded data removed]"
          },
          "metadata": {
            "needs_background": "light"
          }
        }
      ]
    },
    {
      "cell_type": "code",
      "source": [
        "sns.boxplot(data['cons.price.idx'])"
      ],
      "metadata": {
        "id": "GacQuLjbam1i",
        "outputId": "1ee4cd38-7f99-46db-9ba5-5d68a95ddb0d",
        "colab": {
          "base_uri": "https://localhost:8080/",
          "height": 282
        }
      },
      "execution_count": 24,
      "outputs": [
        {
          "output_type": "execute_result",
          "data": {
            "text/plain": [
              "<Axes: >"
            ]
          },
          "metadata": {},
          "execution_count": 24
        },
        {
          "output_type": "display_data",
          "data": {
            "text/plain": [
              "<Figure size 432x288 with 1 Axes>"
            ],
            "image/png": "[encoded data removed]"
          },
          "metadata": {
            "needs_background": "light"
          }
        }
      ]
    },
    {
      "cell_type": "code",
      "source": [
        "sns.boxplot(data[\"euribor3m\"])"
      ],
      "metadata": {
        "id": "SeuEohtOb-AJ",
        "outputId": "c55f49c4-262a-4fbc-c54c-5e657e8d4050",
        "colab": {
          "base_uri": "https://localhost:8080/",
          "height": 282
        }
      },
      "execution_count": 25,
      "outputs": [
        {
          "output_type": "execute_result",
          "data": {
            "text/plain": [
              "<Axes: >"
            ]
          },
          "metadata": {},
          "execution_count": 25
        },
        {
          "output_type": "display_data",
          "data": {
            "text/plain": [
              "<Figure size 432x288 with 1 Axes>"
            ],
            "image/png": "[encoded data removed]"
          },
          "metadata": {
            "needs_background": "light"
          }
        }
      ]
    },
    {
      "cell_type": "code",
      "source": [
        "sns.boxplot(data[\"nr.employed\"])"
      ],
      "metadata": {
        "id": "SqbIAIGvcYUq",
        "outputId": "3a4358f8-0713-4377-cd1b-ca172ff066c2",
        "colab": {
          "base_uri": "https://localhost:8080/",
          "height": 282
        }
      },
      "execution_count": 26,
      "outputs": [
        {
          "output_type": "execute_result",
          "data": {
            "text/plain": [
              "<Axes: >"
            ]
          },
          "metadata": {},
          "execution_count": 26
        },
        {
          "output_type": "display_data",
          "data": {
            "text/plain": [
              "<Figure size 432x288 with 1 Axes>"
            ],
            "image/png": "[encoded data removed]"
          },
          "metadata": {
            "needs_background": "light"
          }
        }
      ]
    },
    {
      "cell_type": "code",
      "source": [
        "data.pdays.unique()"
      ],
      "metadata": {
        "id": "7alxTHXKmV4z",
        "outputId": "a9d46242-7dd8-4012-bb14-d3b985c5975b",
        "colab": {
          "base_uri": "https://localhost:8080/"
        }
      },
      "execution_count": 27,
      "outputs": [
        {
          "output_type": "execute_result",
          "data": {
            "text/plain": [
              "array([999,  12,   3,   6,   5,   2,  10,  11,   7,   1,  18,   4,  15,\n",
              "         0,  16,   9,  19,  17,  13,  21,  14])"
            ]
          },
          "metadata": {},
          "execution_count": 27
        }
      ]
    },
    {
      "cell_type": "code",
      "source": [
        "data[\"pdays\"].value_counts(normalize=True) * 100"
      ],
      "metadata": {
        "id": "oLvsvJUdIC35",
        "outputId": "6ff12024-b661-4c2d-ac08-634f87e2db86",
        "colab": {
          "base_uri": "https://localhost:8080/"
        }
      },
      "execution_count": 28,
      "outputs": [
        {
          "output_type": "execute_result",
          "data": {
            "text/plain": [
              "999    96.115562\n",
              "3       1.262442\n",
              "6       1.019665\n",
              "4       0.339888\n",
              "7       0.242777\n",
              "10      0.194222\n",
              "12      0.121389\n",
              "5       0.097111\n",
              "2       0.097111\n",
              "1       0.072833\n",
              "9       0.072833\n",
              "16      0.048555\n",
              "13      0.048555\n",
              "18      0.048555\n",
              "0       0.048555\n",
              "15      0.048555\n",
              "19      0.024278\n",
              "17      0.024278\n",
              "11      0.024278\n",
              "21      0.024278\n",
              "14      0.024278\n",
              "Name: pdays, dtype: float64"
            ]
          },
          "metadata": {},
          "execution_count": 28
        }
      ]
    },
    {
      "cell_type": "code",
      "source": [
        "data.previous.unique()"
      ],
      "metadata": {
        "id": "5_sm7sE9myc6",
        "outputId": "1038e5e3-fcee-4b90-f487-d3a03e6447cb",
        "colab": {
          "base_uri": "https://localhost:8080/"
        }
      },
      "execution_count": 29,
      "outputs": [
        {
          "output_type": "execute_result",
          "data": {
            "text/plain": [
              "array([0, 2, 1, 3, 5, 4, 6])"
            ]
          },
          "metadata": {},
          "execution_count": 29
        }
      ]
    },
    {
      "cell_type": "code",
      "source": [
        "data['pdays']=pd.cut(data['pdays'], [0,998,999] ,labels=[\"1\",\"2\"] , right=True)"
      ],
      "metadata": {
        "id": "Wnkl5q_PhYTl"
      },
      "execution_count": 30,
      "outputs": []
    },
    {
      "cell_type": "code",
      "source": [
        "data.drop(columns=[\"campaign\",\"duration\",\"ID\"],axis=1,inplace=True)"
      ],
      "metadata": {
        "id": "6jPkDT4eiwnt"
      },
      "execution_count": 31,
      "outputs": []
    },
    {
      "cell_type": "code",
      "source": [
        "data['previous'] = data['previous'].astype('category')"
      ],
      "metadata": {
        "id": "NEtDH_bHjaEE"
      },
      "execution_count": 32,
      "outputs": []
    },
    {
      "cell_type": "code",
      "source": [
        "sns.set_style('whitegrid')\n",
        "sns.distplot(data['emp.var.rate'], color ='red',bins=10)"
      ],
      "metadata": {
        "id": "Jh_RJPB8jtR2",
        "outputId": "63ccbb47-747b-487b-d937-3ecd065fda64",
        "colab": {
          "base_uri": "https://localhost:8080/",
          "height": 487
        }
      },
      "execution_count": 33,
      "outputs": [
        {
          "output_type": "stream",
          "name": "stderr",
          "text": [
            "<ipython-input-33-1b7bbd922a1e>:2: UserWarning: \n",
            "\n",
            "`distplot` is a deprecated function and will be removed in seaborn v0.14.0.\n",
            "\n",
            "Please adapt your code to use either `displot` (a figure-level function with\n",
            "similar flexibility) or `histplot` (an axes-level function for histograms).\n",
            "\n",
            "For a guide to updating your code to use the new functions, please see\n",
            "https://gist.github.com/mwaskom/de44147ed2974457ad6372750bbe5751\n",
            "\n",
            "  sns.distplot(data['emp.var.rate'], color ='red',bins=10)\n"
          ]
        },
        {
          "output_type": "execute_result",
          "data": {
            "text/plain": [
              "<Axes: xlabel='emp.var.rate', ylabel='Density'>"
            ]
          },
          "metadata": {},
          "execution_count": 33
        },
        {
          "output_type": "display_data",
          "data": {
            "text/plain": [
              "<Figure size 432x288 with 1 Axes>"
            ],
            "image/png": "[encoded data removed]"
          },
          "metadata": {}
        }
      ]
    },
    {
      "cell_type": "code",
      "source": [
        "data['emp.var.rate']=pd.cut(data['emp.var.rate'], [-4,-2,-1,0,2] ,labels=[\"1\",\"2\",\"3\",\"4\"] , right=True)"
      ],
      "metadata": {
        "id": "9yvOE-pKmBvN"
      },
      "execution_count": 34,
      "outputs": []
    },
    {
      "cell_type": "code",
      "source": [
        "data[\"emp.var.rate\"].value_counts(normalize=True) * 100"
      ],
      "metadata": {
        "id": "57DdYVtem3RH",
        "outputId": "69b971d0-0add-46c7-af94-384ef1cba922",
        "colab": {
          "base_uri": "https://localhost:8080/"
        }
      },
      "execution_count": 35,
      "outputs": [
        {
          "output_type": "execute_result",
          "data": {
            "text/plain": [
              "4    57.878126\n",
              "2    25.564457\n",
              "3     9.541151\n",
              "1     7.016266\n",
              "Name: emp.var.rate, dtype: float64"
            ]
          },
          "metadata": {},
          "execution_count": 35
        }
      ]
    },
    {
      "cell_type": "code",
      "source": [
        "sns.set_style('whitegrid')\n",
        "sns.distplot(data['cons.price.idx'], color ='red',bins=4)"
      ],
      "metadata": {
        "id": "S7dBY_hCt1nB",
        "outputId": "1737ffb1-3968-4758-bc31-bc68bf9f3fc5",
        "colab": {
          "base_uri": "https://localhost:8080/",
          "height": 487
        }
      },
      "execution_count": 36,
      "outputs": [
        {
          "output_type": "stream",
          "name": "stderr",
          "text": [
            "<ipython-input-36-8430d807a44b>:2: UserWarning: \n",
            "\n",
            "`distplot` is a deprecated function and will be removed in seaborn v0.14.0.\n",
            "\n",
            "Please adapt your code to use either `displot` (a figure-level function with\n",
            "similar flexibility) or `histplot` (an axes-level function for histograms).\n",
            "\n",
            "For a guide to updating your code to use the new functions, please see\n",
            "https://gist.github.com/mwaskom/de44147ed2974457ad6372750bbe5751\n",
            "\n",
            "  sns.distplot(data['cons.price.idx'], color ='red',bins=4)\n"
          ]
        },
        {
          "output_type": "execute_result",
          "data": {
            "text/plain": [
              "<Axes: xlabel='cons.price.idx', ylabel='Density'>"
            ]
          },
          "metadata": {},
          "execution_count": 36
        },
        {
          "output_type": "display_data",
          "data": {
            "text/plain": [
              "<Figure size 432x288 with 1 Axes>"
            ],
            "image/png": "[encoded data removed]"
          },
          "metadata": {}
        }
      ]
    },
    {
      "cell_type": "code",
      "source": [
        "data['cons.price.idx']=pd.cut(data['cons.price.idx'], [92,93,94,95] ,labels=[\"1\",\"2\",\"3\"] , right=True)"
      ],
      "metadata": {
        "id": "x3tphAfruvIr"
      },
      "execution_count": 37,
      "outputs": []
    },
    {
      "cell_type": "code",
      "source": [
        "sns.set_style('whitegrid')\n",
        "sns.distplot(data['euribor3m'], color ='red',bins=4)"
      ],
      "metadata": {
        "id": "cnMFETKX4Y52",
        "outputId": "e9b0bba4-dee9-415f-a3d4-20ead617e0c3",
        "colab": {
          "base_uri": "https://localhost:8080/",
          "height": 487
        }
      },
      "execution_count": 38,
      "outputs": [
        {
          "output_type": "stream",
          "name": "stderr",
          "text": [
            "<ipython-input-38-579e893ff236>:2: UserWarning: \n",
            "\n",
            "`distplot` is a deprecated function and will be removed in seaborn v0.14.0.\n",
            "\n",
            "Please adapt your code to use either `displot` (a figure-level function with\n",
            "similar flexibility) or `histplot` (an axes-level function for histograms).\n",
            "\n",
            "For a guide to updating your code to use the new functions, please see\n",
            "https://gist.github.com/mwaskom/de44147ed2974457ad6372750bbe5751\n",
            "\n",
            "  sns.distplot(data['euribor3m'], color ='red',bins=4)\n"
          ]
        },
        {
          "output_type": "execute_result",
          "data": {
            "text/plain": [
              "<Axes: xlabel='euribor3m', ylabel='Density'>"
            ]
          },
          "metadata": {},
          "execution_count": 38
        },
        {
          "output_type": "display_data",
          "data": {
            "text/plain": [
              "<Figure size 432x288 with 1 Axes>"
            ],
            "image/png": "[encoded data removed]"
          },
          "metadata": {}
        }
      ]
    },
    {
      "cell_type": "code",
      "source": [
        "data['euribor3m']=pd.cut(data['euribor3m'], [0,2,6] ,labels=[\"1\",\"2\"] , right=True)"
      ],
      "metadata": {
        "id": "2PJq9JCO9tjM"
      },
      "execution_count": 39,
      "outputs": []
    },
    {
      "cell_type": "code",
      "source": [
        "sns.set_style('whitegrid')\n",
        "sns.distplot(data['nr.employed'], color ='red',bins=4)"
      ],
      "metadata": {
        "id": "nLnHCFSm-IL1",
        "outputId": "acc4465b-7939-4a2f-bebc-3c7871f67b85",
        "colab": {
          "base_uri": "https://localhost:8080/",
          "height": 487
        }
      },
      "execution_count": 40,
      "outputs": [
        {
          "output_type": "stream",
          "name": "stderr",
          "text": [
            "<ipython-input-40-7deb4e0a5c9c>:2: UserWarning: \n",
            "\n",
            "`distplot` is a deprecated function and will be removed in seaborn v0.14.0.\n",
            "\n",
            "Please adapt your code to use either `displot` (a figure-level function with\n",
            "similar flexibility) or `histplot` (an axes-level function for histograms).\n",
            "\n",
            "For a guide to updating your code to use the new functions, please see\n",
            "https://gist.github.com/mwaskom/de44147ed2974457ad6372750bbe5751\n",
            "\n",
            "  sns.distplot(data['nr.employed'], color ='red',bins=4)\n"
          ]
        },
        {
          "output_type": "execute_result",
          "data": {
            "text/plain": [
              "<Axes: xlabel='nr.employed', ylabel='Density'>"
            ]
          },
          "metadata": {},
          "execution_count": 40
        },
        {
          "output_type": "display_data",
          "data": {
            "text/plain": [
              "<Figure size 432x288 with 1 Axes>"
            ],
            "image/png": "[encoded data removed]"
          },
          "metadata": {}
        }
      ]
    },
    {
      "cell_type": "code",
      "source": [
        "data['nr.employed']=pd.cut(data['nr.employed'], [4900,5000,5100,5250] ,labels=[\"1\",\"2\",\"3\"] , right=True)"
      ],
      "metadata": {
        "id": "7JTBdlyf-Yv1"
      },
      "execution_count": 41,
      "outputs": []
    },
    {
      "cell_type": "code",
      "source": [
        "sns.set_style('whitegrid')\n",
        "sns.distplot(data['age'], color ='red',bins=10)"
      ],
      "metadata": {
        "id": "pu9hxm0L_inN",
        "outputId": "95676484-8771-426d-d83e-92d2e243a7d2",
        "colab": {
          "base_uri": "https://localhost:8080/",
          "height": 487
        }
      },
      "execution_count": 42,
      "outputs": [
        {
          "output_type": "stream",
          "name": "stderr",
          "text": [
            "<ipython-input-42-740b76f0d41c>:2: UserWarning: \n",
            "\n",
            "`distplot` is a deprecated function and will be removed in seaborn v0.14.0.\n",
            "\n",
            "Please adapt your code to use either `displot` (a figure-level function with\n",
            "similar flexibility) or `histplot` (an axes-level function for histograms).\n",
            "\n",
            "For a guide to updating your code to use the new functions, please see\n",
            "https://gist.github.com/mwaskom/de44147ed2974457ad6372750bbe5751\n",
            "\n",
            "  sns.distplot(data['age'], color ='red',bins=10)\n"
          ]
        },
        {
          "output_type": "execute_result",
          "data": {
            "text/plain": [
              "<Axes: xlabel='age', ylabel='Density'>"
            ]
          },
          "metadata": {},
          "execution_count": 42
        },
        {
          "output_type": "display_data",
          "data": {
            "text/plain": [
              "<Figure size 432x288 with 1 Axes>"
            ],
            "image/png": "[encoded data removed]"
          },
          "metadata": {}
        }
      ]
    },
    {
      "cell_type": "code",
      "source": [
        "data['age']=pd.cut(data['age'], [10,30,40,50,60,70,100] ,labels=[\"1\",\"2\",\"3\",\"4\",\"5\",\"6\"] , right=True)"
      ],
      "metadata": {
        "id": "BLVwpy7f_9bR"
      },
      "execution_count": 43,
      "outputs": []
    },
    {
      "cell_type": "code",
      "source": [
        "sns.set_style('whitegrid')\n",
        "sns.distplot(data['cons.conf.idx'], color ='red',bins=5)"
      ],
      "metadata": {
        "id": "-K6y9-PSCHvZ",
        "outputId": "0bdce53f-5328-45e2-b7d9-e850830cf583",
        "colab": {
          "base_uri": "https://localhost:8080/",
          "height": 487
        }
      },
      "execution_count": 44,
      "outputs": [
        {
          "output_type": "stream",
          "name": "stderr",
          "text": [
            "<ipython-input-44-07fd2daa575d>:2: UserWarning: \n",
            "\n",
            "`distplot` is a deprecated function and will be removed in seaborn v0.14.0.\n",
            "\n",
            "Please adapt your code to use either `displot` (a figure-level function with\n",
            "similar flexibility) or `histplot` (an axes-level function for histograms).\n",
            "\n",
            "For a guide to updating your code to use the new functions, please see\n",
            "https://gist.github.com/mwaskom/de44147ed2974457ad6372750bbe5751\n",
            "\n",
            "  sns.distplot(data['cons.conf.idx'], color ='red',bins=5)\n"
          ]
        },
        {
          "output_type": "execute_result",
          "data": {
            "text/plain": [
              "<Axes: xlabel='cons.conf.idx', ylabel='Density'>"
            ]
          },
          "metadata": {},
          "execution_count": 44
        },
        {
          "output_type": "display_data",
          "data": {
            "text/plain": [
              "<Figure size 432x288 with 1 Axes>"
            ],
            "image/png": "[encoded data removed]"
          },
          "metadata": {}
        }
      ]
    },
    {
      "cell_type": "code",
      "source": [
        "data['cons.conf.idx']=pd.cut(data['cons.conf.idx'], [-60,-40,-30,-25] ,labels=[\"1\",\"2\",\"3\"] , right=True)"
      ],
      "metadata": {
        "id": "yZmvUL5rCYyL"
      },
      "execution_count": 45,
      "outputs": []
    },
    {
      "cell_type": "code",
      "source": [
        "data.dtypes"
      ],
      "metadata": {
        "id": "F6584eMCB_WF",
        "outputId": "26942754-7bf7-4b28-f6a2-ff5d6b6d7dcb",
        "colab": {
          "base_uri": "https://localhost:8080/"
        }
      },
      "execution_count": 46,
      "outputs": [
        {
          "output_type": "execute_result",
          "data": {
            "text/plain": [
              "age               category\n",
              "job               category\n",
              "marital           category\n",
              "education         category\n",
              "default           category\n",
              "housing           category\n",
              "loan              category\n",
              "contact           category\n",
              "month             category\n",
              "day_of_week       category\n",
              "pdays             category\n",
              "previous          category\n",
              "poutcome          category\n",
              "emp.var.rate      category\n",
              "cons.price.idx    category\n",
              "cons.conf.idx     category\n",
              "euribor3m         category\n",
              "nr.employed       category\n",
              "approved          category\n",
              "dtype: object"
            ]
          },
          "metadata": {},
          "execution_count": 46
        }
      ]
    },
    {
      "cell_type": "code",
      "source": [
        "data.columns"
      ],
      "metadata": {
        "id": "CiXoVvKwwJE8",
        "outputId": "23e7cfc6-cc2d-4ed2-a739-279b2ef0460e",
        "colab": {
          "base_uri": "https://localhost:8080/"
        }
      },
      "execution_count": 47,
      "outputs": [
        {
          "output_type": "execute_result",
          "data": {
            "text/plain": [
              "Index(['age', 'job', 'marital', 'education', 'default', 'housing', 'loan',\n",
              "       'contact', 'month', 'day_of_week', 'pdays', 'previous', 'poutcome',\n",
              "       'emp.var.rate', 'cons.price.idx', 'cons.conf.idx', 'euribor3m',\n",
              "       'nr.employed', 'approved'],\n",
              "      dtype='object')"
            ]
          },
          "metadata": {},
          "execution_count": 47
        }
      ]
    },
    {
      "cell_type": "code",
      "source": [
        " for col in [ 'age', 'job', 'marital', 'education', 'default', 'housing',\n",
        "       'loan', 'contact', 'month', 'day_of_week', 'pdays', 'previous',\n",
        "       'poutcome', 'emp.var.rate', 'cons.price.idx', 'cons.conf.idx',\n",
        "       'euribor3m', 'nr.employed', 'approved']:\n",
        "    data[col] = data[col].astype('object')"
      ],
      "metadata": {
        "id": "mrOSUWNywRXY"
      },
      "execution_count": 48,
      "outputs": []
    },
    {
      "cell_type": "code",
      "source": [
        "data.describe(include=\"all\")"
      ],
      "metadata": {
        "id": "gHefmxSIDNGB",
        "outputId": "096769d8-c24d-4cbe-c142-e256d11085fb",
        "colab": {
          "base_uri": "https://localhost:8080/",
          "height": 239
        }
      },
      "execution_count": 49,
      "outputs": [
        {
          "output_type": "execute_result",
          "data": {
            "text/plain": [
              "         age     job  marital          education default housing  loan  \\\n",
              "count   4119    4119     4119               4119    4119    4119  4119   \n",
              "unique     6      12        4                  8       3       3     3   \n",
              "top        2  admin.  married  university.degree      no     yes    no   \n",
              "freq    1614    1012     2509               1264    3315    2175  3349   \n",
              "\n",
              "         contact month day_of_week pdays  previous     poutcome emp.var.rate  \\\n",
              "count       4119  4119        4119  4117      4119         4119         4119   \n",
              "unique         2    10           5     2         7            3            4   \n",
              "top     cellular   may         thu     2         0  nonexistent            4   \n",
              "freq        2652  1378         860  3959      3523         3523         2384   \n",
              "\n",
              "       cons.price.idx cons.conf.idx euribor3m nr.employed approved  \n",
              "count            4119          4119      4119        4119     4119  \n",
              "unique              3             3         2           3        2  \n",
              "top                 2             1         2           3       no  \n",
              "freq             2606          2486      2777        2777     3668  "
            ],
            "text/html": [
              "\n",
              "  <div id=\"df-52066bfc-50a8-4510-bd0a-dbcbed581a76\">\n",
              "    <div class=\"colab-df-container\">\n",
              "      <div>\n",
              "<style scoped>\n",
              "    .dataframe tbody tr th:only-of-type {\n",
              "        vertical-align: middle;\n",
              "    }\n",
              "\n",
              "    .dataframe tbody tr th {\n",
              "        vertical-align: top;\n",
              "    }\n",
              "\n",
              "    .dataframe thead th {\n",
              "        text-align: right;\n",
              "    }\n",
              "</style>\n",
              "<table border=\"1\" class=\"dataframe\">\n",
              "  <thead>\n",
              "    <tr style=\"text-align: right;\">\n",
              "      <th></th>\n",
              "      <th>age</th>\n",
              "      <th>job</th>\n",
              "      <th>marital</th>\n",
              "      <th>education</th>\n",
              "      <th>default</th>\n",
              "      <th>housing</th>\n",
              "      <th>loan</th>\n",
              "      <th>contact</th>\n",
              "      <th>month</th>\n",
              "      <th>day_of_week</th>\n",
              "      <th>pdays</th>\n",
              "      <th>previous</th>\n",
              "      <th>poutcome</th>\n",
              "      <th>emp.var.rate</th>\n",
              "      <th>cons.price.idx</th>\n",
              "      <th>cons.conf.idx</th>\n",
              "      <th>euribor3m</th>\n",
              "      <th>nr.employed</th>\n",
              "      <th>approved</th>\n",
              "    </tr>\n",
              "  </thead>\n",
              "  <tbody>\n",
              "    <tr>\n",
              "      <th>count</th>\n",
              "      <td>4119</td>\n",
              "      <td>4119</td>\n",
              "      <td>4119</td>\n",
              "      <td>4119</td>\n",
              "      <td>4119</td>\n",
              "      <td>4119</td>\n",
              "      <td>4119</td>\n",
              "      <td>4119</td>\n",
              "      <td>4119</td>\n",
              "      <td>4119</td>\n",
              "      <td>4117</td>\n",
              "      <td>4119</td>\n",
              "      <td>4119</td>\n",
              "      <td>4119</td>\n",
              "      <td>4119</td>\n",
              "      <td>4119</td>\n",
              "      <td>4119</td>\n",
              "      <td>4119</td>\n",
              "      <td>4119</td>\n",
              "    </tr>\n",
              "    <tr>\n",
              "      <th>unique</th>\n",
              "      <td>6</td>\n",
              "      <td>12</td>\n",
              "      <td>4</td>\n",
              "      <td>8</td>\n",
              "      <td>3</td>\n",
              "      <td>3</td>\n",
              "      <td>3</td>\n",
              "      <td>2</td>\n",
              "      <td>10</td>\n",
              "      <td>5</td>\n",
              "      <td>2</td>\n",
              "      <td>7</td>\n",
              "      <td>3</td>\n",
              "      <td>4</td>\n",
              "      <td>3</td>\n",
              "      <td>3</td>\n",
              "      <td>2</td>\n",
              "      <td>3</td>\n",
              "      <td>2</td>\n",
              "    </tr>\n",
              "    <tr>\n",
              "      <th>top</th>\n",
              "      <td>2</td>\n",
              "      <td>admin.</td>\n",
              "      <td>married</td>\n",
              "      <td>university.degree</td>\n",
              "      <td>no</td>\n",
              "      <td>yes</td>\n",
              "      <td>no</td>\n",
              "      <td>cellular</td>\n",
              "      <td>may</td>\n",
              "      <td>thu</td>\n",
              "      <td>2</td>\n",
              "      <td>0</td>\n",
              "      <td>nonexistent</td>\n",
              "      <td>4</td>\n",
              "      <td>2</td>\n",
              "      <td>1</td>\n",
              "      <td>2</td>\n",
              "      <td>3</td>\n",
              "      <td>no</td>\n",
              "    </tr>\n",
              "    <tr>\n",
              "      <th>freq</th>\n",
              "      <td>1614</td>\n",
              "      <td>1012</td>\n",
              "      <td>2509</td>\n",
              "      <td>1264</td>\n",
              "      <td>3315</td>\n",
              "      <td>2175</td>\n",
              "      <td>3349</td>\n",
              "      <td>2652</td>\n",
              "      <td>1378</td>\n",
              "      <td>860</td>\n",
              "      <td>3959</td>\n",
              "      <td>3523</td>\n",
              "      <td>3523</td>\n",
              "      <td>2384</td>\n",
              "      <td>2606</td>\n",
              "      <td>2486</td>\n",
              "      <td>2777</td>\n",
              "      <td>2777</td>\n",
              "      <td>3668</td>\n",
              "    </tr>\n",
              "  </tbody>\n",
              "</table>\n",
              "</div>\n",
              "      <button class=\"colab-df-convert\" onclick=\"convertToInteractive('df-52066bfc-50a8-4510-bd0a-dbcbed581a76')\"\n",
              "              title=\"Convert this dataframe to an interactive table.\"\n",
              "              style=\"display:none;\">\n",
              "        \n",
              "  <svg xmlns=\"http://www.w3.org/2000/svg\" height=\"24px\"viewBox=\"0 0 24 24\"\n",
              "       width=\"24px\">\n",
              "    <path d=\"M0 0h24v24H0V0z\" fill=\"none\"/>\n",
              "    <path d=\"M18.56 5.44l.94 2.06.94-2.06 2.06-.94-2.06-.94-.94-2.06-.94 2.06-2.06.94zm-11 1L8.5 8.5l.94-2.06 2.06-.94-2.06-.94L8.5 2.5l-.94 2.06-2.06.94zm10 10l.94 2.06.94-2.06 2.06-.94-2.06-.94-.94-2.06-.94 2.06-2.06.94z\"/><path d=\"M17.41 7.96l-1.37-1.37c-.4-.4-.92-.59-1.43-.59-.52 0-1.04.2-1.43.59L10.3 9.45l-7.72 7.72c-.78.78-.78 2.05 0 2.83L4 21.41c.39.39.9.59 1.41.59.51 0 1.02-.2 1.41-.59l7.78-7.78 2.81-2.81c.8-.78.8-2.07 0-2.86zM5.41 20L4 18.59l7.72-7.72 1.47 1.35L5.41 20z\"/>\n",
              "  </svg>\n",
              "      </button>\n",
              "      \n",
              "  <style>\n",
              "    .colab-df-container {\n",
              "      display:flex;\n",
              "      flex-wrap:wrap;\n",
              "      gap: 12px;\n",
              "    }\n",
              "\n",
              "    .colab-df-convert {\n",
              "      background-color: #E8F0FE;\n",
              "      border: none;\n",
              "      border-radius: 50%;\n",
              "      cursor: pointer;\n",
              "      display: none;\n",
              "      fill: #1967D2;\n",
              "      height: 32px;\n",
              "      padding: 0 0 0 0;\n",
              "      width: 32px;\n",
              "    }\n",
              "\n",
              "    .colab-df-convert:hover {\n",
              "      background-color: #E2EBFA;\n",
              "      box-shadow: 0px 1px 2px rgba(60, 64, 67, 0.3), 0px 1px 3px 1px rgba(60, 64, 67, 0.15);\n",
              "      fill: #174EA6;\n",
              "    }\n",
              "\n",
              "    [theme=dark] .colab-df-convert {\n",
              "      background-color: #3B4455;\n",
              "      fill: #D2E3FC;\n",
              "    }\n",
              "\n",
              "    [theme=dark] .colab-df-convert:hover {\n",
              "      background-color: #434B5C;\n",
              "      box-shadow: 0px 1px 3px 1px rgba(0, 0, 0, 0.15);\n",
              "      filter: drop-shadow(0px 1px 2px rgba(0, 0, 0, 0.3));\n",
              "      fill: #FFFFFF;\n",
              "    }\n",
              "  </style>\n",
              "\n",
              "      <script>\n",
              "        const buttonEl =\n",
              "          document.querySelector('#df-52066bfc-50a8-4510-bd0a-dbcbed581a76 button.colab-df-convert');\n",
              "        buttonEl.style.display =\n",
              "          google.colab.kernel.accessAllowed ? 'block' : 'none';\n",
              "\n",
              "        async function convertToInteractive(key) {\n",
              "          const element = document.querySelector('#df-52066bfc-50a8-4510-bd0a-dbcbed581a76');\n",
              "          const dataTable =\n",
              "            await google.colab.kernel.invokeFunction('convertToInteractive',\n",
              "                                                     [key], {});\n",
              "          if (!dataTable) return;\n",
              "\n",
              "          const docLinkHtml = 'Like what you see? Visit the ' +\n",
              "            '<a target=\"_blank\" href=https://colab.research.google.com/notebooks/data_table.ipynb>data table notebook</a>'\n",
              "            + ' to learn more about interactive tables.';\n",
              "          element.innerHTML = '';\n",
              "          dataTable['output_type'] = 'display_data';\n",
              "          await google.colab.output.renderOutput(dataTable, element);\n",
              "          const docLink = document.createElement('div');\n",
              "          docLink.innerHTML = docLinkHtml;\n",
              "          element.appendChild(docLink);\n",
              "        }\n",
              "      </script>\n",
              "    </div>\n",
              "  </div>\n",
              "  "
            ]
          },
          "metadata": {},
          "execution_count": 49
        }
      ]
    },
    {
      "cell_type": "code",
      "source": [
        "data[\"job\"].value_counts(normalize=True) * 100"
      ],
      "metadata": {
        "id": "a2G2jSk6DVJb",
        "outputId": "1d93bc61-542d-4aa7-ff04-ba259f8024b7",
        "colab": {
          "base_uri": "https://localhost:8080/"
        }
      },
      "execution_count": 50,
      "outputs": [
        {
          "output_type": "execute_result",
          "data": {
            "text/plain": [
              "admin.           24.569070\n",
              "blue-collar      21.461520\n",
              "technician       16.775916\n",
              "services          9.541151\n",
              "management        7.865987\n",
              "retired           4.030104\n",
              "self-employed     3.860160\n",
              "entrepreneur      3.593105\n",
              "unemployed        2.694829\n",
              "housemaid         2.670551\n",
              "student           1.990774\n",
              "unknown           0.946832\n",
              "Name: job, dtype: float64"
            ]
          },
          "metadata": {},
          "execution_count": 50
        }
      ]
    },
    {
      "cell_type": "code",
      "source": [
        "data['job'].mask(data['job'] == \"admin.\", 1, inplace=True)\n",
        "data['job'].mask(data['job'] ==  \"blue-collar\", 2, inplace=True)\n",
        "data['job'].mask(data['job'] ==  \"technician\", 3, inplace=True)\n",
        "data['job'].mask(data['job'] ==  \"services\", 4, inplace=True)\n",
        "data['job'].mask(data['job'] ==  \"management\", 5, inplace=True)\n",
        "data['job'].mask(data['job'] ==  \"retired\", 6, inplace=True)\n",
        "data['job'].mask(data['job'] ==  \"self-employed\", 7, inplace=True)\n",
        "data['job'].mask(data['job'] ==  \"entrepreneur\", 8, inplace=True)\n",
        "data['job'].mask(data['job'] ==  \"unemployed\", 9, inplace=True)\n",
        "data['job'].mask(data['job'] ==  \"housemaid\", 10, inplace=True)\n",
        "data['job'].mask(data['job'] ==  \"student\", 11, inplace=True)\n",
        "data['job'].mask(data['job'] ==  \"unknown\", 12, inplace=True)\n"
      ],
      "metadata": {
        "id": "zJk-sG_NEb9z"
      },
      "execution_count": 51,
      "outputs": []
    },
    {
      "cell_type": "code",
      "source": [
        "data[\"marital\"].value_counts(normalize=True) * 100"
      ],
      "metadata": {
        "id": "UdR8nM7rRD2M",
        "outputId": "fee78ec3-f06f-4e71-f66e-0e6294131cb1",
        "colab": {
          "base_uri": "https://localhost:8080/"
        }
      },
      "execution_count": 52,
      "outputs": [
        {
          "output_type": "execute_result",
          "data": {
            "text/plain": [
              "married     60.912843\n",
              "single      27.992231\n",
              "divorced    10.827871\n",
              "unknown      0.267055\n",
              "Name: marital, dtype: float64"
            ]
          },
          "metadata": {},
          "execution_count": 52
        }
      ]
    },
    {
      "cell_type": "code",
      "source": [
        "data['marital'].mask(data['marital'] == \"married\", 1, inplace=True)\n",
        "data['marital'].mask(data['marital'] == \"single\", 2, inplace=True)\n",
        "data['marital'].mask(data['marital'] == \"divorced\", 3, inplace=True)\n",
        "data['marital'].mask(data['marital'] == \"unknown\", 4, inplace=True)"
      ],
      "metadata": {
        "id": "M4EYkab-w614"
      },
      "execution_count": 53,
      "outputs": []
    },
    {
      "cell_type": "code",
      "source": [
        "data[\"education\"].value_counts(normalize=True) * 100"
      ],
      "metadata": {
        "id": "fb8fVkDNxlXk",
        "outputId": "fda99d7d-5207-4fe5-de09-6c926a1c7772",
        "colab": {
          "base_uri": "https://localhost:8080/"
        }
      },
      "execution_count": 54,
      "outputs": [
        {
          "output_type": "execute_result",
          "data": {
            "text/plain": [
              "university.degree      30.687060\n",
              "high.school            22.359796\n",
              "basic.9y               13.935421\n",
              "professional.course    12.988589\n",
              "basic.4y               10.415149\n",
              "basic.6y                5.535324\n",
              "unknown                 4.054382\n",
              "illiterate              0.024278\n",
              "Name: education, dtype: float64"
            ]
          },
          "metadata": {},
          "execution_count": 54
        }
      ]
    },
    {
      "cell_type": "code",
      "source": [
        "data['education'].mask(data['education'] == \"university.degree\", 1, inplace=True)\n",
        "data['education'].mask(data['education'] ==  \"high.school\", 2, inplace=True)\n",
        "data['education'].mask(data['education'] ==  \"basic.9y\", 3, inplace=True)\n",
        "data['education'].mask(data['education'] ==  \"professional.course\", 4, inplace=True)\n",
        "data['education'].mask(data['education'] ==  \"basic.4y\", 5, inplace=True)\n",
        "data['education'].mask(data['education'] ==  \"basic.6y\", 6, inplace=True)\n",
        "data['education'].mask(data['education'] ==  \"unknown\", 7, inplace=True)\n",
        "data['education'].mask(data['education'] ==  \"illiterate\", 8, inplace=True)"
      ],
      "metadata": {
        "id": "xfKQJDCexxtG"
      },
      "execution_count": 55,
      "outputs": []
    },
    {
      "cell_type": "code",
      "source": [
        "data[\"default\"].value_counts(normalize=True) * 100"
      ],
      "metadata": {
        "id": "eo4xP8diyunV",
        "outputId": "a307895e-1850-4489-fa41-c59c73229604",
        "colab": {
          "base_uri": "https://localhost:8080/"
        }
      },
      "execution_count": 56,
      "outputs": [
        {
          "output_type": "execute_result",
          "data": {
            "text/plain": [
              "no         80.480699\n",
              "unknown    19.495023\n",
              "yes         0.024278\n",
              "Name: default, dtype: float64"
            ]
          },
          "metadata": {},
          "execution_count": 56
        }
      ]
    },
    {
      "cell_type": "code",
      "source": [
        "data['default'].mask(data['default'] == \"no\", 1, inplace=True)\n",
        "data['default'].mask(data['default'] ==  \"unknown\", 2, inplace=True)\n",
        "data['default'].mask(data['default'] ==  \"yes\", 3, inplace=True)"
      ],
      "metadata": {
        "id": "iUBjSXxmzOmu"
      },
      "execution_count": 57,
      "outputs": []
    },
    {
      "cell_type": "code",
      "source": [
        "data[\"housing\"].value_counts(normalize=True) * 100"
      ],
      "metadata": {
        "id": "nOUkiKwHznOQ",
        "outputId": "bc0cef3d-12b4-43a5-90dc-f88af5cfcc06",
        "colab": {
          "base_uri": "https://localhost:8080/"
        }
      },
      "execution_count": 58,
      "outputs": [
        {
          "output_type": "execute_result",
          "data": {
            "text/plain": [
              "yes        52.804079\n",
              "no         44.646759\n",
              "unknown     2.549162\n",
              "Name: housing, dtype: float64"
            ]
          },
          "metadata": {},
          "execution_count": 58
        }
      ]
    },
    {
      "cell_type": "code",
      "source": [
        "data['housing'].mask(data['housing'] == \"no\", 1, inplace=True)\n",
        "data['housing'].mask(data['housing'] ==  \"unknown\", 2, inplace=True)\n",
        "data['housing'].mask(data['housing'] ==  \"yes\", 3, inplace=True)"
      ],
      "metadata": {
        "id": "uUTvB5jOzvoD"
      },
      "execution_count": 59,
      "outputs": []
    },
    {
      "cell_type": "code",
      "source": [
        "data[\"loan\"].value_counts(normalize=True) * 100"
      ],
      "metadata": {
        "id": "IK1Spxv0z5YB",
        "outputId": "0c293cc9-3b2f-444e-e732-ea533472d7b2",
        "colab": {
          "base_uri": "https://localhost:8080/"
        }
      },
      "execution_count": 60,
      "outputs": [
        {
          "output_type": "execute_result",
          "data": {
            "text/plain": [
              "no         81.306142\n",
              "yes        16.144695\n",
              "unknown     2.549162\n",
              "Name: loan, dtype: float64"
            ]
          },
          "metadata": {},
          "execution_count": 60
        }
      ]
    },
    {
      "cell_type": "code",
      "source": [
        "data['loan'].mask(data['loan'] == \"no\", 1, inplace=True)\n",
        "data['loan'].mask(data['loan'] ==  \"unknown\", 2, inplace=True)\n",
        "data['loan'].mask(data['loan'] ==  \"yes\", 3, inplace=True)"
      ],
      "metadata": {
        "id": "3ZUcqUVA0Dcy"
      },
      "execution_count": 61,
      "outputs": []
    },
    {
      "cell_type": "code",
      "source": [
        "data[\"contact\"].value_counts(normalize=True) * 100"
      ],
      "metadata": {
        "id": "h0r6K7_s0OCf",
        "outputId": "33c4d85f-a713-4706-d6d6-120fbee5fce3",
        "colab": {
          "base_uri": "https://localhost:8080/"
        }
      },
      "execution_count": 62,
      "outputs": [
        {
          "output_type": "execute_result",
          "data": {
            "text/plain": [
              "cellular     64.384559\n",
              "telephone    35.615441\n",
              "Name: contact, dtype: float64"
            ]
          },
          "metadata": {},
          "execution_count": 62
        }
      ]
    },
    {
      "cell_type": "code",
      "source": [
        "data['contact'].mask(data['contact'] == \"cellular\", 1, inplace=True)\n",
        "data['contact'].mask(data['contact'] ==  \"telephone\", 2, inplace=True)"
      ],
      "metadata": {
        "id": "LpBV4-RJ0YTr"
      },
      "execution_count": 63,
      "outputs": []
    },
    {
      "cell_type": "code",
      "source": [
        "data[\"month\"].value_counts(normalize=True) * 100"
      ],
      "metadata": {
        "id": "-sPy1U9x0lme",
        "outputId": "15852bf8-197e-41a8-b491-ea10f23de5cc",
        "colab": {
          "base_uri": "https://localhost:8080/"
        }
      },
      "execution_count": 64,
      "outputs": [
        {
          "output_type": "execute_result",
          "data": {
            "text/plain": [
              "may    33.454722\n",
              "jul    17.261471\n",
              "aug    15.440641\n",
              "jun    12.867201\n",
              "nov    10.827871\n",
              "apr     5.219714\n",
              "oct     1.675164\n",
              "sep     1.553775\n",
              "mar     1.165331\n",
              "dec     0.534110\n",
              "Name: month, dtype: float64"
            ]
          },
          "metadata": {},
          "execution_count": 64
        }
      ]
    },
    {
      "cell_type": "code",
      "source": [
        "data['month'].mask(data['month'] == \"may\", 1, inplace=True)\n",
        "data['month'].mask(data['month'] == \"jul\", 2, inplace=True)\n",
        "data['month'].mask(data['month'] == \"aug\", 3, inplace=True)\n",
        "data['month'].mask(data['month'] == \"jun\", 4, inplace=True)\n",
        "data['month'].mask(data['month'] == \"nov\", 5, inplace=True)\n",
        "data['month'].mask(data['month'] == \"apr\", 6, inplace=True)\n",
        "data['month'].mask(data['month'] == \"oct\", 7, inplace=True)\n",
        "data['month'].mask(data['month'] == \"sep\", 8, inplace=True)\n",
        "data['month'].mask(data['month'] == \"mar\", 9, inplace=True)\n",
        "data['month'].mask(data['month'] == \"dec\", 10, inplace=True)"
      ],
      "metadata": {
        "id": "WQxp-WI20uUU"
      },
      "execution_count": 65,
      "outputs": []
    },
    {
      "cell_type": "code",
      "source": [
        "data[\"day_of_week\"].value_counts(normalize=True) * 100"
      ],
      "metadata": {
        "id": "P4B2KYTC2HoN",
        "outputId": "aa3792ff-4863-4f74-8c14-12272b408a83",
        "colab": {
          "base_uri": "https://localhost:8080/"
        }
      },
      "execution_count": 67,
      "outputs": [
        {
          "output_type": "execute_result",
          "data": {
            "text/plain": [
              "thu    20.878854\n",
              "mon    20.757465\n",
              "tue    20.417577\n",
              "wed    19.300801\n",
              "fri    18.645302\n",
              "Name: day_of_week, dtype: float64"
            ]
          },
          "metadata": {},
          "execution_count": 67
        }
      ]
    },
    {
      "cell_type": "code",
      "source": [
        "data['day_of_week'].mask(data['day_of_week'] == \"thu\", 1, inplace=True)\n",
        "data['day_of_week'].mask(data['day_of_week'] == \"mon\", 2, inplace=True)\n",
        "data['day_of_week'].mask(data['day_of_week'] == \"tue\", 3, inplace=True)\n",
        "data['day_of_week'].mask(data['day_of_week'] == \"wed\", 4, inplace=True)\n",
        "data['day_of_week'].mask(data['day_of_week'] == \"fri\", 5, inplace=True)"
      ],
      "metadata": {
        "id": "wKvJYZ8e2N1R"
      },
      "execution_count": 68,
      "outputs": []
    },
    {
      "cell_type": "code",
      "source": [
        "data[\"poutcome\"].value_counts(normalize=True) * 100"
      ],
      "metadata": {
        "id": "VTCC10t42sgh",
        "outputId": "310b0086-2c43-4f69-f708-5c7db61d8136",
        "colab": {
          "base_uri": "https://localhost:8080/"
        }
      },
      "execution_count": 69,
      "outputs": [
        {
          "output_type": "execute_result",
          "data": {
            "text/plain": [
              "nonexistent    85.530469\n",
              "failure        11.022093\n",
              "success         3.447439\n",
              "Name: poutcome, dtype: float64"
            ]
          },
          "metadata": {},
          "execution_count": 69
        }
      ]
    },
    {
      "cell_type": "code",
      "source": [
        "data['poutcome'].mask(data['poutcome'] == \"nonexistent\", 1, inplace=True)\n",
        "data['poutcome'].mask(data['poutcome'] == \"failure\", 2, inplace=True)\n",
        "data['poutcome'].mask(data['poutcome'] == \"success\", 3, inplace=True)"
      ],
      "metadata": {
        "id": "HSRt37xF2y5p"
      },
      "execution_count": 70,
      "outputs": []
    },
    {
      "cell_type": "code",
      "source": [
        "data.isnull().sum()"
      ],
      "metadata": {
        "id": "JWV0jAl43NrF",
        "outputId": "9c089927-d3c5-490c-cf59-a4b9303e8c45",
        "colab": {
          "base_uri": "https://localhost:8080/"
        }
      },
      "execution_count": 75,
      "outputs": [
        {
          "output_type": "execute_result",
          "data": {
            "text/plain": [
              "age               0\n",
              "job               0\n",
              "marital           0\n",
              "education         0\n",
              "default           0\n",
              "housing           0\n",
              "loan              0\n",
              "contact           0\n",
              "month             0\n",
              "day_of_week       0\n",
              "pdays             0\n",
              "previous          0\n",
              "poutcome          0\n",
              "emp.var.rate      0\n",
              "cons.price.idx    0\n",
              "cons.conf.idx     0\n",
              "euribor3m         0\n",
              "nr.employed       0\n",
              "approved          0\n",
              "dtype: int64"
            ]
          },
          "metadata": {},
          "execution_count": 75
        }
      ]
    },
    {
      "cell_type": "code",
      "source": [
        "data[\"pdays\"] = data[\"pdays\"].fillna(data[\"pdays\"].mode()[0])"
      ],
      "metadata": {
        "id": "AaLERfzK4klr"
      },
      "execution_count": 74,
      "outputs": []
    },
    {
      "cell_type": "code",
      "source": [
        "data['approved'].mask(data['approved'] == \"yes\", 1, inplace=True)\n",
        "data['approved'].mask(data['approved'] ==  \"no\", 0, inplace=True)"
      ],
      "metadata": {
        "id": "jKug5N8o34FW"
      },
      "execution_count": 79,
      "outputs": []
    },
    {
      "cell_type": "code",
      "source": [
        " for col in [ 'age', 'job', 'marital', 'education', 'default', 'housing',\n",
        "       'loan', 'contact', 'month', 'day_of_week', 'pdays', 'previous',\n",
        "       'poutcome', 'emp.var.rate', 'cons.price.idx', 'cons.conf.idx',\n",
        "       'euribor3m', 'nr.employed', 'approved']:\n",
        "    data[col] = data[col].astype('int')"
      ],
      "metadata": {
        "id": "LMJbqfwN3HJg"
      },
      "execution_count": 80,
      "outputs": []
    },
    {
      "cell_type": "code",
      "source": [
        "data.describe(include=\"all\")"
      ],
      "metadata": {
        "id": "TxJj6YVP1d55",
        "outputId": "02daeb31-65dd-41e5-ac59-736c8037f81a",
        "colab": {
          "base_uri": "https://localhost:8080/",
          "height": 458
        }
      },
      "execution_count": 78,
      "outputs": [
        {
          "output_type": "execute_result",
          "data": {
            "text/plain": [
              "               age          job      marital    education      default  \\\n",
              "count   4119.00000  4119.000000  4119.000000  4119.000000  4119.000000   \n",
              "unique         NaN          NaN          NaN          NaN          NaN   \n",
              "top            NaN          NaN          NaN          NaN          NaN   \n",
              "freq           NaN          NaN          NaN          NaN          NaN   \n",
              "mean       2.46419     3.594805     1.504491     2.830299     1.195436   \n",
              "std        1.04680     2.730164     0.694750     1.767054     0.397196   \n",
              "min        1.00000     1.000000     1.000000     1.000000     1.000000   \n",
              "25%        2.00000     2.000000     1.000000     1.000000     1.000000   \n",
              "50%        2.00000     3.000000     1.000000     2.000000     1.000000   \n",
              "75%        3.00000     5.000000     2.000000     4.000000     1.000000   \n",
              "max        6.00000    12.000000     4.000000     8.000000     3.000000   \n",
              "\n",
              "            housing         loan      contact        month  day_of_week  \\\n",
              "count   4119.000000  4119.000000  4119.000000  4119.000000  4119.000000   \n",
              "unique          NaN          NaN          NaN          NaN          NaN   \n",
              "top             NaN          NaN          NaN          NaN          NaN   \n",
              "freq            NaN          NaN          NaN          NaN          NaN   \n",
              "mean       2.081573     1.348386     1.356154     2.912115     2.940762   \n",
              "std        0.983915     0.741647     0.478920     1.968066     1.406599   \n",
              "min        1.000000     1.000000     1.000000     1.000000     1.000000   \n",
              "25%        1.000000     1.000000     1.000000     1.000000     2.000000   \n",
              "50%        3.000000     1.000000     1.000000     2.000000     3.000000   \n",
              "75%        3.000000     1.000000     2.000000     4.000000     4.000000   \n",
              "max        3.000000     3.000000     2.000000    10.000000     5.000000   \n",
              "\n",
              "              pdays     previous     poutcome  emp.var.rate  cons.price.idx  \\\n",
              "count   4119.000000  4119.000000  4119.000000   4119.000000     4119.000000   \n",
              "unique          NaN          NaN          NaN           NaN             NaN   \n",
              "top             NaN          NaN          NaN           NaN             NaN   \n",
              "freq            NaN          NaN          NaN           NaN             NaN   \n",
              "mean       1.961641     0.190337     1.179170      3.182811        1.924496   \n",
              "std        0.192084     0.541788     0.464832      1.040153        0.601423   \n",
              "min        1.000000     0.000000     1.000000      1.000000        1.000000   \n",
              "25%        2.000000     0.000000     1.000000      2.000000        2.000000   \n",
              "50%        2.000000     0.000000     1.000000      4.000000        2.000000   \n",
              "75%        2.000000     0.000000     1.000000      4.000000        2.000000   \n",
              "max        2.000000     6.000000     3.000000      4.000000        3.000000   \n",
              "\n",
              "        cons.conf.idx    euribor3m  nr.employed approved  \n",
              "count     4119.000000  4119.000000  4119.000000     4119  \n",
              "unique            NaN          NaN          NaN        2  \n",
              "top               NaN          NaN          NaN       no  \n",
              "freq              NaN          NaN          NaN     3668  \n",
              "mean         1.412964     1.674193     2.632921      NaN  \n",
              "std          0.524890     0.468733     0.561207      NaN  \n",
              "min          1.000000     1.000000     1.000000      NaN  \n",
              "25%          1.000000     1.000000     2.000000      NaN  \n",
              "50%          1.000000     2.000000     3.000000      NaN  \n",
              "75%          2.000000     2.000000     3.000000      NaN  \n",
              "max          3.000000     2.000000     3.000000      NaN  "
            ],
            "text/html": [
              "\n",
              "  <div id=\"df-7250d7da-8efe-4f3f-bc7c-40afabbd23cd\">\n",
              "    <div class=\"colab-df-container\">\n",
              "      <div>\n",
              "<style scoped>\n",
              "    .dataframe tbody tr th:only-of-type {\n",
              "        vertical-align: middle;\n",
              "    }\n",
              "\n",
              "    .dataframe tbody tr th {\n",
              "        vertical-align: top;\n",
              "    }\n",
              "\n",
              "    .dataframe thead th {\n",
              "        text-align: right;\n",
              "    }\n",
              "</style>\n",
              "<table border=\"1\" class=\"dataframe\">\n",
              "  <thead>\n",
              "    <tr style=\"text-align: right;\">\n",
              "      <th></th>\n",
              "      <th>age</th>\n",
              "      <th>job</th>\n",
              "      <th>marital</th>\n",
              "      <th>education</th>\n",
              "      <th>default</th>\n",
              "      <th>housing</th>\n",
              "      <th>loan</th>\n",
              "      <th>contact</th>\n",
              "      <th>month</th>\n",
              "      <th>day_of_week</th>\n",
              "      <th>pdays</th>\n",
              "      <th>previous</th>\n",
              "      <th>poutcome</th>\n",
              "      <th>emp.var.rate</th>\n",
              "      <th>cons.price.idx</th>\n",
              "      <th>cons.conf.idx</th>\n",
              "      <th>euribor3m</th>\n",
              "      <th>nr.employed</th>\n",
              "      <th>approved</th>\n",
              "    </tr>\n",
              "  </thead>\n",
              "  <tbody>\n",
              "    <tr>\n",
              "      <th>count</th>\n",
              "      <td>4119.00000</td>\n",
              "      <td>4119.000000</td>\n",
              "      <td>4119.000000</td>\n",
              "      <td>4119.000000</td>\n",
              "      <td>4119.000000</td>\n",
              "      <td>4119.000000</td>\n",
              "      <td>4119.000000</td>\n",
              "      <td>4119.000000</td>\n",
              "      <td>4119.000000</td>\n",
              "      <td>4119.000000</td>\n",
              "      <td>4119.000000</td>\n",
              "      <td>4119.000000</td>\n",
              "      <td>4119.000000</td>\n",
              "      <td>4119.000000</td>\n",
              "      <td>4119.000000</td>\n",
              "      <td>4119.000000</td>\n",
              "      <td>4119.000000</td>\n",
              "      <td>4119.000000</td>\n",
              "      <td>4119</td>\n",
              "    </tr>\n",
              "    <tr>\n",
              "      <th>unique</th>\n",
              "      <td>NaN</td>\n",
              "      <td>NaN</td>\n",
              "      <td>NaN</td>\n",
              "      <td>NaN</td>\n",
              "      <td>NaN</td>\n",
              "      <td>NaN</td>\n",
              "      <td>NaN</td>\n",
              "      <td>NaN</td>\n",
              "      <td>NaN</td>\n",
              "      <td>NaN</td>\n",
              "      <td>NaN</td>\n",
              "      <td>NaN</td>\n",
              "      <td>NaN</td>\n",
              "      <td>NaN</td>\n",
              "      <td>NaN</td>\n",
              "      <td>NaN</td>\n",
              "      <td>NaN</td>\n",
              "      <td>NaN</td>\n",
              "      <td>2</td>\n",
              "    </tr>\n",
              "    <tr>\n",
              "      <th>top</th>\n",
              "      <td>NaN</td>\n",
              "      <td>NaN</td>\n",
              "      <td>NaN</td>\n",
              "      <td>NaN</td>\n",
              "      <td>NaN</td>\n",
              "      <td>NaN</td>\n",
              "      <td>NaN</td>\n",
              "      <td>NaN</td>\n",
              "      <td>NaN</td>\n",
              "      <td>NaN</td>\n",
              "      <td>NaN</td>\n",
              "      <td>NaN</td>\n",
              "      <td>NaN</td>\n",
              "      <td>NaN</td>\n",
              "      <td>NaN</td>\n",
              "      <td>NaN</td>\n",
              "      <td>NaN</td>\n",
              "      <td>NaN</td>\n",
              "      <td>no</td>\n",
              "    </tr>\n",
              "    <tr>\n",
              "      <th>freq</th>\n",
              "      <td>NaN</td>\n",
              "      <td>NaN</td>\n",
              "      <td>NaN</td>\n",
              "      <td>NaN</td>\n",
              "      <td>NaN</td>\n",
              "      <td>NaN</td>\n",
              "      <td>NaN</td>\n",
              "      <td>NaN</td>\n",
              "      <td>NaN</td>\n",
              "      <td>NaN</td>\n",
              "      <td>NaN</td>\n",
              "      <td>NaN</td>\n",
              "      <td>NaN</td>\n",
              "      <td>NaN</td>\n",
              "      <td>NaN</td>\n",
              "      <td>NaN</td>\n",
              "      <td>NaN</td>\n",
              "      <td>NaN</td>\n",
              "      <td>3668</td>\n",
              "    </tr>\n",
              "    <tr>\n",
              "      <th>mean</th>\n",
              "      <td>2.46419</td>\n",
              "      <td>3.594805</td>\n",
              "      <td>1.504491</td>\n",
              "      <td>2.830299</td>\n",
              "      <td>1.195436</td>\n",
              "      <td>2.081573</td>\n",
              "      <td>1.348386</td>\n",
              "      <td>1.356154</td>\n",
              "      <td>2.912115</td>\n",
              "      <td>2.940762</td>\n",
              "      <td>1.961641</td>\n",
              "      <td>0.190337</td>\n",
              "      <td>1.179170</td>\n",
              "      <td>3.182811</td>\n",
              "      <td>1.924496</td>\n",
              "      <td>1.412964</td>\n",
              "      <td>1.674193</td>\n",
              "      <td>2.632921</td>\n",
              "      <td>NaN</td>\n",
              "    </tr>\n",
              "    <tr>\n",
              "      <th>std</th>\n",
              "      <td>1.04680</td>\n",
              "      <td>2.730164</td>\n",
              "      <td>0.694750</td>\n",
              "      <td>1.767054</td>\n",
              "      <td>0.397196</td>\n",
              "      <td>0.983915</td>\n",
              "      <td>0.741647</td>\n",
              "      <td>0.478920</td>\n",
              "      <td>1.968066</td>\n",
              "      <td>1.406599</td>\n",
              "      <td>0.192084</td>\n",
              "      <td>0.541788</td>\n",
              "      <td>0.464832</td>\n",
              "      <td>1.040153</td>\n",
              "      <td>0.601423</td>\n",
              "      <td>0.524890</td>\n",
              "      <td>0.468733</td>\n",
              "      <td>0.561207</td>\n",
              "      <td>NaN</td>\n",
              "    </tr>\n",
              "    <tr>\n",
              "      <th>min</th>\n",
              "      <td>1.00000</td>\n",
              "      <td>1.000000</td>\n",
              "      <td>1.000000</td>\n",
              "      <td>1.000000</td>\n",
              "      <td>1.000000</td>\n",
              "      <td>1.000000</td>\n",
              "      <td>1.000000</td>\n",
              "      <td>1.000000</td>\n",
              "      <td>1.000000</td>\n",
              "      <td>1.000000</td>\n",
              "      <td>1.000000</td>\n",
              "      <td>0.000000</td>\n",
              "      <td>1.000000</td>\n",
              "      <td>1.000000</td>\n",
              "      <td>1.000000</td>\n",
              "      <td>1.000000</td>\n",
              "      <td>1.000000</td>\n",
              "      <td>1.000000</td>\n",
              "      <td>NaN</td>\n",
              "    </tr>\n",
              "    <tr>\n",
              "      <th>25%</th>\n",
              "      <td>2.00000</td>\n",
              "      <td>2.000000</td>\n",
              "      <td>1.000000</td>\n",
              "      <td>1.000000</td>\n",
              "      <td>1.000000</td>\n",
              "      <td>1.000000</td>\n",
              "      <td>1.000000</td>\n",
              "      <td>1.000000</td>\n",
              "      <td>1.000000</td>\n",
              "      <td>2.000000</td>\n",
              "      <td>2.000000</td>\n",
              "      <td>0.000000</td>\n",
              "      <td>1.000000</td>\n",
              "      <td>2.000000</td>\n",
              "      <td>2.000000</td>\n",
              "      <td>1.000000</td>\n",
              "      <td>1.000000</td>\n",
              "      <td>2.000000</td>\n",
              "      <td>NaN</td>\n",
              "    </tr>\n",
              "    <tr>\n",
              "      <th>50%</th>\n",
              "      <td>2.00000</td>\n",
              "      <td>3.000000</td>\n",
              "      <td>1.000000</td>\n",
              "      <td>2.000000</td>\n",
              "      <td>1.000000</td>\n",
              "      <td>3.000000</td>\n",
              "      <td>1.000000</td>\n",
              "      <td>1.000000</td>\n",
              "      <td>2.000000</td>\n",
              "      <td>3.000000</td>\n",
              "      <td>2.000000</td>\n",
              "      <td>0.000000</td>\n",
              "      <td>1.000000</td>\n",
              "      <td>4.000000</td>\n",
              "      <td>2.000000</td>\n",
              "      <td>1.000000</td>\n",
              "      <td>2.000000</td>\n",
              "      <td>3.000000</td>\n",
              "      <td>NaN</td>\n",
              "    </tr>\n",
              "    <tr>\n",
              "      <th>75%</th>\n",
              "      <td>3.00000</td>\n",
              "      <td>5.000000</td>\n",
              "      <td>2.000000</td>\n",
              "      <td>4.000000</td>\n",
              "      <td>1.000000</td>\n",
              "      <td>3.000000</td>\n",
              "      <td>1.000000</td>\n",
              "      <td>2.000000</td>\n",
              "      <td>4.000000</td>\n",
              "      <td>4.000000</td>\n",
              "      <td>2.000000</td>\n",
              "      <td>0.000000</td>\n",
              "      <td>1.000000</td>\n",
              "      <td>4.000000</td>\n",
              "      <td>2.000000</td>\n",
              "      <td>2.000000</td>\n",
              "      <td>2.000000</td>\n",
              "      <td>3.000000</td>\n",
              "      <td>NaN</td>\n",
              "    </tr>\n",
              "    <tr>\n",
              "      <th>max</th>\n",
              "      <td>6.00000</td>\n",
              "      <td>12.000000</td>\n",
              "      <td>4.000000</td>\n",
              "      <td>8.000000</td>\n",
              "      <td>3.000000</td>\n",
              "      <td>3.000000</td>\n",
              "      <td>3.000000</td>\n",
              "      <td>2.000000</td>\n",
              "      <td>10.000000</td>\n",
              "      <td>5.000000</td>\n",
              "      <td>2.000000</td>\n",
              "      <td>6.000000</td>\n",
              "      <td>3.000000</td>\n",
              "      <td>4.000000</td>\n",
              "      <td>3.000000</td>\n",
              "      <td>3.000000</td>\n",
              "      <td>2.000000</td>\n",
              "      <td>3.000000</td>\n",
              "      <td>NaN</td>\n",
              "    </tr>\n",
              "  </tbody>\n",
              "</table>\n",
              "</div>\n",
              "      <button class=\"colab-df-convert\" onclick=\"convertToInteractive('df-7250d7da-8efe-4f3f-bc7c-40afabbd23cd')\"\n",
              "              title=\"Convert this dataframe to an interactive table.\"\n",
              "              style=\"display:none;\">\n",
              "        \n",
              "  <svg xmlns=\"http://www.w3.org/2000/svg\" height=\"24px\"viewBox=\"0 0 24 24\"\n",
              "       width=\"24px\">\n",
              "    <path d=\"M0 0h24v24H0V0z\" fill=\"none\"/>\n",
              "    <path d=\"M18.56 5.44l.94 2.06.94-2.06 2.06-.94-2.06-.94-.94-2.06-.94 2.06-2.06.94zm-11 1L8.5 8.5l.94-2.06 2.06-.94-2.06-.94L8.5 2.5l-.94 2.06-2.06.94zm10 10l.94 2.06.94-2.06 2.06-.94-2.06-.94-.94-2.06-.94 2.06-2.06.94z\"/><path d=\"M17.41 7.96l-1.37-1.37c-.4-.4-.92-.59-1.43-.59-.52 0-1.04.2-1.43.59L10.3 9.45l-7.72 7.72c-.78.78-.78 2.05 0 2.83L4 21.41c.39.39.9.59 1.41.59.51 0 1.02-.2 1.41-.59l7.78-7.78 2.81-2.81c.8-.78.8-2.07 0-2.86zM5.41 20L4 18.59l7.72-7.72 1.47 1.35L5.41 20z\"/>\n",
              "  </svg>\n",
              "      </button>\n",
              "      \n",
              "  <style>\n",
              "    .colab-df-container {\n",
              "      display:flex;\n",
              "      flex-wrap:wrap;\n",
              "      gap: 12px;\n",
              "    }\n",
              "\n",
              "    .colab-df-convert {\n",
              "      background-color: #E8F0FE;\n",
              "      border: none;\n",
              "      border-radius: 50%;\n",
              "      cursor: pointer;\n",
              "      display: none;\n",
              "      fill: #1967D2;\n",
              "      height: 32px;\n",
              "      padding: 0 0 0 0;\n",
              "      width: 32px;\n",
              "    }\n",
              "\n",
              "    .colab-df-convert:hover {\n",
              "      background-color: #E2EBFA;\n",
              "      box-shadow: 0px 1px 2px rgba(60, 64, 67, 0.3), 0px 1px 3px 1px rgba(60, 64, 67, 0.15);\n",
              "      fill: #174EA6;\n",
              "    }\n",
              "\n",
              "    [theme=dark] .colab-df-convert {\n",
              "      background-color: #3B4455;\n",
              "      fill: #D2E3FC;\n",
              "    }\n",
              "\n",
              "    [theme=dark] .colab-df-convert:hover {\n",
              "      background-color: #434B5C;\n",
              "      box-shadow: 0px 1px 3px 1px rgba(0, 0, 0, 0.15);\n",
              "      filter: drop-shadow(0px 1px 2px rgba(0, 0, 0, 0.3));\n",
              "      fill: #FFFFFF;\n",
              "    }\n",
              "  </style>\n",
              "\n",
              "      <script>\n",
              "        const buttonEl =\n",
              "          document.querySelector('#df-7250d7da-8efe-4f3f-bc7c-40afabbd23cd button.colab-df-convert');\n",
              "        buttonEl.style.display =\n",
              "          google.colab.kernel.accessAllowed ? 'block' : 'none';\n",
              "\n",
              "        async function convertToInteractive(key) {\n",
              "          const element = document.querySelector('#df-7250d7da-8efe-4f3f-bc7c-40afabbd23cd');\n",
              "          const dataTable =\n",
              "            await google.colab.kernel.invokeFunction('convertToInteractive',\n",
              "                                                     [key], {});\n",
              "          if (!dataTable) return;\n",
              "\n",
              "          const docLinkHtml = 'Like what you see? Visit the ' +\n",
              "            '<a target=\"_blank\" href=https://colab.research.google.com/notebooks/data_table.ipynb>data table notebook</a>'\n",
              "            + ' to learn more about interactive tables.';\n",
              "          element.innerHTML = '';\n",
              "          dataTable['output_type'] = 'display_data';\n",
              "          await google.colab.output.renderOutput(dataTable, element);\n",
              "          const docLink = document.createElement('div');\n",
              "          docLink.innerHTML = docLinkHtml;\n",
              "          element.appendChild(docLink);\n",
              "        }\n",
              "      </script>\n",
              "    </div>\n",
              "  </div>\n",
              "  "
            ]
          },
          "metadata": {},
          "execution_count": 78
        }
      ]
    },
    {
      "cell_type": "code",
      "source": [
        "X = data.drop('approved', axis=1)\n",
        "y = data['approved']"
      ],
      "metadata": {
        "id": "ay9qUmT94OQL"
      },
      "execution_count": 81,
      "outputs": []
    },
    {
      "cell_type": "code",
      "source": [
        "from sklearn.model_selection import train_test_split\n",
        "X_train, X_test, y_train, y_test = train_test_split(X, y, test_size=0.30, stratify=y, random_state=321)"
      ],
      "metadata": {
        "id": "2yjgIQH74OMw"
      },
      "execution_count": 82,
      "outputs": []
    },
    {
      "cell_type": "code",
      "source": [
        "from scipy.stats import chi2_contingency\n",
        "\n",
        "class CHAIDDecisionTree:\n",
        "    def __init__(self, alpha=0.05, min_samples_split=5, max_depth=None):\n",
        "        self.alpha = alpha\n",
        "        self.min_samples_split = min_samples_split\n",
        "        self.max_depth = max_depth\n",
        "    \n",
        "    def fit(self, X, y):\n",
        "        self.target_variable = y.name\n",
        "        data = pd.concat([X, y], axis=1)\n",
        "        self.tree = self._build_tree(data, depth=1)\n",
        "    \n",
        "    def predict(self, X):\n",
        "        return X.apply(self._traverse_tree, axis=1)\n",
        "    \n",
        "    def _build_tree(self, data, depth):\n",
        "        if data[self.target_variable].nunique() == 1 or \\\n",
        "           (self.max_depth is not None and depth > self.max_depth) or \\\n",
        "           len(data) < self.min_samples_split:\n",
        "            return data[self.target_variable].mode().iloc[0]\n",
        "        \n",
        "        best_variable = None\n",
        "        best_p = 1\n",
        "        for variable in data.columns:\n",
        "            if variable == self.target_variable:\n",
        "                continue\n",
        "            table = pd.crosstab(data[variable], data[self.target_variable])\n",
        "            chi2, p, dof, expected = chi2_contingency(table)\n",
        "            if p < best_p:\n",
        "                best_variable = variable\n",
        "                best_p = p\n",
        "        \n",
        "        if best_p > self.alpha:\n",
        "            return data[self.target_variable].mode().iloc[0]\n",
        "        \n",
        "        tree = {best_variable: {}}\n",
        "        for group in self._split_data(data, best_variable):\n",
        "            value = group[best_variable].iloc[0]\n",
        "            subtree = self._build_tree(group, depth+1)\n",
        "            tree[best_variable][value] = subtree\n",
        "        \n",
        "        return tree\n",
        "    \n",
        "    def _split_data(self, data, variable):\n",
        "        groups = data.groupby(variable)\n",
        "        return [groups.get_group(x) for x in groups.groups]\n",
        "    \n",
        "    def _traverse_tree(self, row):\n",
        "        node = self.tree\n",
        "        while isinstance(node, dict):\n",
        "            variable = list(node.keys())[0]\n",
        "            value = row[variable]\n",
        "            node = node[variable][value]\n",
        "        return node\n"
      ],
      "metadata": {
        "id": "mfgVsA2_4OKL"
      },
      "execution_count": 83,
      "outputs": []
    },
    {
      "cell_type": "code",
      "source": [
        "model1 = CHAIDDecisionTree(alpha=0.05,min_samples_split=5,max_depth=5)\n",
        "model1.fit(X, y)"
      ],
      "metadata": {
        "id": "UeSj4VvL5xUi"
      },
      "execution_count": 84,
      "outputs": []
    },
    {
      "cell_type": "code",
      "source": [
        "train_pred=model1.predict(X_train)\n",
        "test_pred=model1.predict(X_test)"
      ],
      "metadata": {
        "id": "8w9PZs7I5xQ8"
      },
      "execution_count": 85,
      "outputs": []
    },
    {
      "cell_type": "code",
      "source": [
        "def accuracy(actual,pridicted):\n",
        "    accuracy = np.mean(actual == pridicted)\n",
        "    return accuracy"
      ],
      "metadata": {
        "id": "XaCr0Dto5xOb"
      },
      "execution_count": 86,
      "outputs": []
    },
    {
      "cell_type": "code",
      "source": [
        "accuracy(y_train,train_pred)"
      ],
      "metadata": {
        "id": "vIUonmQb5w_K",
        "outputId": "117b4c66-90ec-4408-f9fe-b5d454c6a93c",
        "colab": {
          "base_uri": "https://localhost:8080/"
        }
      },
      "execution_count": 87,
      "outputs": [
        {
          "output_type": "execute_result",
          "data": {
            "text/plain": [
              "0.912244190079778"
            ]
          },
          "metadata": {},
          "execution_count": 87
        }
      ]
    },
    {
      "cell_type": "code",
      "source": [
        "accuracy(y_test,test_pred)"
      ],
      "metadata": {
        "id": "meei3prF5w7j",
        "outputId": "5e35700d-a6da-490f-8a6d-72a8be389aab",
        "colab": {
          "base_uri": "https://localhost:8080/"
        }
      },
      "execution_count": 88,
      "outputs": [
        {
          "output_type": "execute_result",
          "data": {
            "text/plain": [
              "0.9085760517799353"
            ]
          },
          "metadata": {},
          "execution_count": 88
        }
      ]
    },
    {
      "cell_type": "code",
      "source": [
        "model2 = CHAIDDecisionTree(alpha=0.4,min_samples_split=2,max_depth=7)\n",
        "model2.fit(X, y)"
      ],
      "metadata": {
        "id": "l_YpMGgf5w4-"
      },
      "execution_count": 89,
      "outputs": []
    },
    {
      "cell_type": "code",
      "source": [
        "train_pred1=model2.predict(X_train)\n",
        "test_pred1=model2.predict(X_test)"
      ],
      "metadata": {
        "id": "PhP1GBqf5w2Q"
      },
      "execution_count": 90,
      "outputs": []
    },
    {
      "cell_type": "code",
      "source": [
        "accuracy(y_train,train_pred1)"
      ],
      "metadata": {
        "id": "aHUWYbdj4OHU",
        "outputId": "3ec100c7-b04e-4a60-ee16-5ade4ec5e805",
        "colab": {
          "base_uri": "https://localhost:8080/"
        }
      },
      "execution_count": 91,
      "outputs": [
        {
          "output_type": "execute_result",
          "data": {
            "text/plain": [
              "0.9535206382240722"
            ]
          },
          "metadata": {},
          "execution_count": 91
        }
      ]
    },
    {
      "cell_type": "code",
      "source": [
        "accuracy(y_test,test_pred1)"
      ],
      "metadata": {
        "id": "gPqA08EZ6cwb",
        "outputId": "075e8b84-31b7-4466-b8dd-d681a61ebd19",
        "colab": {
          "base_uri": "https://localhost:8080/"
        }
      },
      "execution_count": 92,
      "outputs": [
        {
          "output_type": "execute_result",
          "data": {
            "text/plain": [
              "0.9546925566343042"
            ]
          },
          "metadata": {},
          "execution_count": 92
        }
      ]
    },
    {
      "cell_type": "code",
      "source": [
        "model3 = CHAIDDecisionTree(alpha=0.7,min_samples_split=2,max_depth=10)\n",
        "model3.fit(X, y)"
      ],
      "metadata": {
        "id": "jYp-ze_96fAN"
      },
      "execution_count": 93,
      "outputs": []
    },
    {
      "cell_type": "code",
      "source": [
        "train_pred2=model3.predict(X_train)\n",
        "test_pred2=model3.predict(X_test)"
      ],
      "metadata": {
        "id": "jF6iCGII6ioa"
      },
      "execution_count": 94,
      "outputs": []
    },
    {
      "cell_type": "code",
      "source": [
        "accuracy(y_train,train_pred2)"
      ],
      "metadata": {
        "id": "iSzg42-p6mN4",
        "outputId": "795794ae-d770-48ba-c00b-214539e88452",
        "colab": {
          "base_uri": "https://localhost:8080/"
        }
      },
      "execution_count": 95,
      "outputs": [
        {
          "output_type": "execute_result",
          "data": {
            "text/plain": [
              "0.9691293791189733"
            ]
          },
          "metadata": {},
          "execution_count": 95
        }
      ]
    },
    {
      "cell_type": "code",
      "source": [
        "accuracy(y_test,test_pred2)"
      ],
      "metadata": {
        "id": "GAL-f1PX6pmo",
        "outputId": "8f0b89ad-3e1f-47fc-f0dd-3caaec6e4c41",
        "colab": {
          "base_uri": "https://localhost:8080/"
        }
      },
      "execution_count": 96,
      "outputs": [
        {
          "output_type": "execute_result",
          "data": {
            "text/plain": [
              "0.9741100323624595"
            ]
          },
          "metadata": {},
          "execution_count": 96
        }
      ]
    },
    {
      "cell_type": "code",
      "source": [],
      "metadata": {
        "id": "xwmBlOCG6sGK"
      },
      "execution_count": null,
      "outputs": []
    }
  ]
}