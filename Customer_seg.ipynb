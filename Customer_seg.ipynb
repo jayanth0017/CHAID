{
 "cells": [
  {
   "cell_type": "code",
   "execution_count": 1,
   "id": "a5fccbc5",
   "metadata": {},
   "outputs": [],
   "source": [
    "import pandas as pd\n",
    "import numpy as np\n",
    "import seaborn as sns\n",
    "import matplotlib.pyplot as plt"
   ]
  },
  {
   "cell_type": "code",
   "execution_count": 2,
   "id": "0705f551",
   "metadata": {},
   "outputs": [],
   "source": [
    "df1=pd.read_excel(\"Emaildata_Train.xlsx\",header=0)\n",
    "df2=pd.read_excel(\"Customerdata_Train.xlsx\",header=0)\n",
    "df3=pd.read_excel(\"transactionsdata_Train.xlsx\",header=0)\n",
    "df4=pd.read_excel(\"Train.xlsx\",header=0)"
   ]
  },
  {
   "cell_type": "code",
   "execution_count": 3,
   "id": "6a9d1d51",
   "metadata": {},
   "outputs": [
    {
     "data": {
      "text/html": [
       "<div>\n",
       "<style scoped>\n",
       "    .dataframe tbody tr th:only-of-type {\n",
       "        vertical-align: middle;\n",
       "    }\n",
       "\n",
       "    .dataframe tbody tr th {\n",
       "        vertical-align: top;\n",
       "    }\n",
       "\n",
       "    .dataframe thead th {\n",
       "        text-align: right;\n",
       "    }\n",
       "</style>\n",
       "<table border=\"1\" class=\"dataframe\">\n",
       "  <thead>\n",
       "    <tr style=\"text-align: right;\">\n",
       "      <th></th>\n",
       "      <th>CustomerID</th>\n",
       "      <th>DateOfemail</th>\n",
       "      <th>EmailType</th>\n",
       "      <th>timestamp</th>\n",
       "      <th>MailOpened</th>\n",
       "      <th>MailClicked</th>\n",
       "    </tr>\n",
       "  </thead>\n",
       "  <tbody>\n",
       "    <tr>\n",
       "      <th>0</th>\n",
       "      <td>C16368</td>\n",
       "      <td>2012-09-28</td>\n",
       "      <td>WelcomeEmail</td>\n",
       "      <td>15:56:50</td>\n",
       "      <td>yes</td>\n",
       "      <td>NotApplicable</td>\n",
       "    </tr>\n",
       "    <tr>\n",
       "      <th>1</th>\n",
       "      <td>C20345</td>\n",
       "      <td>2010-12-19</td>\n",
       "      <td>WelcomeEmail</td>\n",
       "      <td>15:10:30</td>\n",
       "      <td>yes</td>\n",
       "      <td>NotApplicable</td>\n",
       "    </tr>\n",
       "    <tr>\n",
       "      <th>2</th>\n",
       "      <td>C17683</td>\n",
       "      <td>2010-10-03</td>\n",
       "      <td>WelcomeEmail</td>\n",
       "      <td>17:12:24</td>\n",
       "      <td>yes</td>\n",
       "      <td>NotApplicable</td>\n",
       "    </tr>\n",
       "    <tr>\n",
       "      <th>3</th>\n",
       "      <td>C18647</td>\n",
       "      <td>2010-11-27</td>\n",
       "      <td>WelcomeEmail</td>\n",
       "      <td>16:59:02</td>\n",
       "      <td>yes</td>\n",
       "      <td>NotApplicable</td>\n",
       "    </tr>\n",
       "    <tr>\n",
       "      <th>4</th>\n",
       "      <td>C36692</td>\n",
       "      <td>2009-12-04</td>\n",
       "      <td>WelcomeEmail</td>\n",
       "      <td>17:27:22</td>\n",
       "      <td>yes</td>\n",
       "      <td>NotApplicable</td>\n",
       "    </tr>\n",
       "    <tr>\n",
       "      <th>...</th>\n",
       "      <td>...</td>\n",
       "      <td>...</td>\n",
       "      <td>...</td>\n",
       "      <td>...</td>\n",
       "      <td>...</td>\n",
       "      <td>...</td>\n",
       "    </tr>\n",
       "    <tr>\n",
       "      <th>517667</th>\n",
       "      <td>C36140</td>\n",
       "      <td>2018-01-18</td>\n",
       "      <td>CustomizedEmail</td>\n",
       "      <td>14:04:44</td>\n",
       "      <td>yes</td>\n",
       "      <td>yes</td>\n",
       "    </tr>\n",
       "    <tr>\n",
       "      <th>517668</th>\n",
       "      <td>C36140</td>\n",
       "      <td>2018-01-21</td>\n",
       "      <td>CustomizedEmail</td>\n",
       "      <td>16:17:16</td>\n",
       "      <td>no</td>\n",
       "      <td>no</td>\n",
       "    </tr>\n",
       "    <tr>\n",
       "      <th>517669</th>\n",
       "      <td>C36140</td>\n",
       "      <td>2018-01-20</td>\n",
       "      <td>CustomizedEmail</td>\n",
       "      <td>12:17:34</td>\n",
       "      <td>yes</td>\n",
       "      <td>yes</td>\n",
       "    </tr>\n",
       "    <tr>\n",
       "      <th>517670</th>\n",
       "      <td>C36140</td>\n",
       "      <td>2018-01-20</td>\n",
       "      <td>CustomizedEmail</td>\n",
       "      <td>16:31:18</td>\n",
       "      <td>yes</td>\n",
       "      <td>no</td>\n",
       "    </tr>\n",
       "    <tr>\n",
       "      <th>517671</th>\n",
       "      <td>C36140</td>\n",
       "      <td>2018-01-21</td>\n",
       "      <td>CustomizedEmail</td>\n",
       "      <td>14:23:16</td>\n",
       "      <td>yes</td>\n",
       "      <td>yes</td>\n",
       "    </tr>\n",
       "  </tbody>\n",
       "</table>\n",
       "<p>517672 rows × 6 columns</p>\n",
       "</div>"
      ],
      "text/plain": [
       "       CustomerID DateOfemail        EmailType timestamp MailOpened  \\\n",
       "0          C16368  2012-09-28     WelcomeEmail  15:56:50        yes   \n",
       "1          C20345  2010-12-19     WelcomeEmail  15:10:30        yes   \n",
       "2          C17683  2010-10-03     WelcomeEmail  17:12:24        yes   \n",
       "3          C18647  2010-11-27     WelcomeEmail  16:59:02        yes   \n",
       "4          C36692  2009-12-04     WelcomeEmail  17:27:22        yes   \n",
       "...           ...         ...              ...       ...        ...   \n",
       "517667     C36140  2018-01-18  CustomizedEmail  14:04:44        yes   \n",
       "517668     C36140  2018-01-21  CustomizedEmail  16:17:16         no   \n",
       "517669     C36140  2018-01-20  CustomizedEmail  12:17:34        yes   \n",
       "517670     C36140  2018-01-20  CustomizedEmail  16:31:18        yes   \n",
       "517671     C36140  2018-01-21  CustomizedEmail  14:23:16        yes   \n",
       "\n",
       "          MailClicked  \n",
       "0       NotApplicable  \n",
       "1       NotApplicable  \n",
       "2       NotApplicable  \n",
       "3       NotApplicable  \n",
       "4       NotApplicable  \n",
       "...               ...  \n",
       "517667            yes  \n",
       "517668             no  \n",
       "517669            yes  \n",
       "517670             no  \n",
       "517671            yes  \n",
       "\n",
       "[517672 rows x 6 columns]"
      ]
     },
     "execution_count": 3,
     "metadata": {},
     "output_type": "execute_result"
    }
   ],
   "source": [
    "df1"
   ]
  },
  {
   "cell_type": "code",
   "execution_count": 4,
   "id": "0001fc8d",
   "metadata": {},
   "outputs": [],
   "source": [
    "df1.drop(columns=[\"DateOfemail\",\"timestamp\"],axis=1,inplace=True)"
   ]
  },
  {
   "cell_type": "code",
   "execution_count": 5,
   "id": "5a8b9c8b",
   "metadata": {},
   "outputs": [
    {
     "name": "stdout",
     "output_type": "stream",
     "text": [
      "23820\n"
     ]
    }
   ],
   "source": [
    "print(df1['CustomerID'].nunique())"
   ]
  },
  {
   "cell_type": "code",
   "execution_count": 6,
   "id": "708d9e52",
   "metadata": {},
   "outputs": [
    {
     "data": {
      "text/plain": [
       "459843"
      ]
     },
     "execution_count": 6,
     "metadata": {},
     "output_type": "execute_result"
    }
   ],
   "source": [
    "df1.duplicated().sum()"
   ]
  },
  {
   "cell_type": "code",
   "execution_count": 7,
   "id": "6ec54b5c",
   "metadata": {},
   "outputs": [],
   "source": [
    "df1.drop_duplicates(subset=None, keep='first', inplace=True)"
   ]
  },
  {
   "cell_type": "code",
   "execution_count": 8,
   "id": "6d340aca",
   "metadata": {},
   "outputs": [
    {
     "data": {
      "text/plain": [
       "no               25373\n",
       "NotApplicable    23820\n",
       "yes               8636\n",
       "Name: MailClicked, dtype: int64"
      ]
     },
     "execution_count": 8,
     "metadata": {},
     "output_type": "execute_result"
    }
   ],
   "source": [
    "df1[\"MailClicked\"].value_counts() "
   ]
  },
  {
   "cell_type": "code",
   "execution_count": 9,
   "id": "c652aeac",
   "metadata": {},
   "outputs": [
    {
     "data": {
      "text/html": [
       "<div>\n",
       "<style scoped>\n",
       "    .dataframe tbody tr th:only-of-type {\n",
       "        vertical-align: middle;\n",
       "    }\n",
       "\n",
       "    .dataframe tbody tr th {\n",
       "        vertical-align: top;\n",
       "    }\n",
       "\n",
       "    .dataframe thead th {\n",
       "        text-align: right;\n",
       "    }\n",
       "</style>\n",
       "<table border=\"1\" class=\"dataframe\">\n",
       "  <thead>\n",
       "    <tr style=\"text-align: right;\">\n",
       "      <th></th>\n",
       "      <th>CustomerID</th>\n",
       "      <th>EmailType</th>\n",
       "      <th>MailOpened</th>\n",
       "      <th>MailClicked</th>\n",
       "    </tr>\n",
       "  </thead>\n",
       "  <tbody>\n",
       "    <tr>\n",
       "      <th>0</th>\n",
       "      <td>C16368</td>\n",
       "      <td>WelcomeEmail</td>\n",
       "      <td>yes</td>\n",
       "      <td>NotApplicable</td>\n",
       "    </tr>\n",
       "    <tr>\n",
       "      <th>1</th>\n",
       "      <td>C20345</td>\n",
       "      <td>WelcomeEmail</td>\n",
       "      <td>yes</td>\n",
       "      <td>NotApplicable</td>\n",
       "    </tr>\n",
       "    <tr>\n",
       "      <th>2</th>\n",
       "      <td>C17683</td>\n",
       "      <td>WelcomeEmail</td>\n",
       "      <td>yes</td>\n",
       "      <td>NotApplicable</td>\n",
       "    </tr>\n",
       "    <tr>\n",
       "      <th>3</th>\n",
       "      <td>C18647</td>\n",
       "      <td>WelcomeEmail</td>\n",
       "      <td>yes</td>\n",
       "      <td>NotApplicable</td>\n",
       "    </tr>\n",
       "    <tr>\n",
       "      <th>4</th>\n",
       "      <td>C36692</td>\n",
       "      <td>WelcomeEmail</td>\n",
       "      <td>yes</td>\n",
       "      <td>NotApplicable</td>\n",
       "    </tr>\n",
       "    <tr>\n",
       "      <th>...</th>\n",
       "      <td>...</td>\n",
       "      <td>...</td>\n",
       "      <td>...</td>\n",
       "      <td>...</td>\n",
       "    </tr>\n",
       "    <tr>\n",
       "      <th>23815</th>\n",
       "      <td>C23511</td>\n",
       "      <td>WelcomeEmail</td>\n",
       "      <td>yes</td>\n",
       "      <td>NotApplicable</td>\n",
       "    </tr>\n",
       "    <tr>\n",
       "      <th>23816</th>\n",
       "      <td>C12197</td>\n",
       "      <td>WelcomeEmail</td>\n",
       "      <td>yes</td>\n",
       "      <td>NotApplicable</td>\n",
       "    </tr>\n",
       "    <tr>\n",
       "      <th>23817</th>\n",
       "      <td>C40967</td>\n",
       "      <td>WelcomeEmail</td>\n",
       "      <td>yes</td>\n",
       "      <td>NotApplicable</td>\n",
       "    </tr>\n",
       "    <tr>\n",
       "      <th>23818</th>\n",
       "      <td>C36140</td>\n",
       "      <td>WelcomeEmail</td>\n",
       "      <td>yes</td>\n",
       "      <td>NotApplicable</td>\n",
       "    </tr>\n",
       "    <tr>\n",
       "      <th>23819</th>\n",
       "      <td>C42003</td>\n",
       "      <td>WelcomeEmail</td>\n",
       "      <td>yes</td>\n",
       "      <td>NotApplicable</td>\n",
       "    </tr>\n",
       "  </tbody>\n",
       "</table>\n",
       "<p>23820 rows × 4 columns</p>\n",
       "</div>"
      ],
      "text/plain": [
       "      CustomerID     EmailType MailOpened    MailClicked\n",
       "0         C16368  WelcomeEmail        yes  NotApplicable\n",
       "1         C20345  WelcomeEmail        yes  NotApplicable\n",
       "2         C17683  WelcomeEmail        yes  NotApplicable\n",
       "3         C18647  WelcomeEmail        yes  NotApplicable\n",
       "4         C36692  WelcomeEmail        yes  NotApplicable\n",
       "...          ...           ...        ...            ...\n",
       "23815     C23511  WelcomeEmail        yes  NotApplicable\n",
       "23816     C12197  WelcomeEmail        yes  NotApplicable\n",
       "23817     C40967  WelcomeEmail        yes  NotApplicable\n",
       "23818     C36140  WelcomeEmail        yes  NotApplicable\n",
       "23819     C42003  WelcomeEmail        yes  NotApplicable\n",
       "\n",
       "[23820 rows x 4 columns]"
      ]
     },
     "execution_count": 9,
     "metadata": {},
     "output_type": "execute_result"
    }
   ],
   "source": [
    "df1=df1.loc[(df1['MailClicked']=='NotApplicable'),]\n",
    "df1"
   ]
  },
  {
   "cell_type": "code",
   "execution_count": 10,
   "id": "c825ab83",
   "metadata": {},
   "outputs": [
    {
     "name": "stdout",
     "output_type": "stream",
     "text": [
      "23820\n"
     ]
    }
   ],
   "source": [
    "print(df2['CustomerID'].nunique())"
   ]
  },
  {
   "cell_type": "code",
   "execution_count": 11,
   "id": "5e1f43f1",
   "metadata": {},
   "outputs": [
    {
     "data": {
      "text/html": [
       "<div>\n",
       "<style scoped>\n",
       "    .dataframe tbody tr th:only-of-type {\n",
       "        vertical-align: middle;\n",
       "    }\n",
       "\n",
       "    .dataframe tbody tr th {\n",
       "        vertical-align: top;\n",
       "    }\n",
       "\n",
       "    .dataframe thead th {\n",
       "        text-align: right;\n",
       "    }\n",
       "</style>\n",
       "<table border=\"1\" class=\"dataframe\">\n",
       "  <thead>\n",
       "    <tr style=\"text-align: right;\">\n",
       "      <th></th>\n",
       "      <th>CustomerID</th>\n",
       "      <th>City</th>\n",
       "      <th>DateOfRegistration</th>\n",
       "      <th>OnlineCommunication</th>\n",
       "      <th>AutomaticRefill</th>\n",
       "      <th>DoorstepDelivery</th>\n",
       "      <th>PreferredDeliveryDay</th>\n",
       "    </tr>\n",
       "  </thead>\n",
       "  <tbody>\n",
       "    <tr>\n",
       "      <th>0</th>\n",
       "      <td>C16368</td>\n",
       "      <td>CITY2</td>\n",
       "      <td>2012-09-28</td>\n",
       "      <td>0</td>\n",
       "      <td>0</td>\n",
       "      <td>0</td>\n",
       "      <td>Monday</td>\n",
       "    </tr>\n",
       "    <tr>\n",
       "      <th>1</th>\n",
       "      <td>C20345</td>\n",
       "      <td>CITY2</td>\n",
       "      <td>2010-12-19</td>\n",
       "      <td>1</td>\n",
       "      <td>1</td>\n",
       "      <td>1</td>\n",
       "      <td>Friday</td>\n",
       "    </tr>\n",
       "    <tr>\n",
       "      <th>2</th>\n",
       "      <td>C17683</td>\n",
       "      <td>CITY2</td>\n",
       "      <td>2010-10-03</td>\n",
       "      <td>0</td>\n",
       "      <td>0</td>\n",
       "      <td>0</td>\n",
       "      <td>Wednesday</td>\n",
       "    </tr>\n",
       "    <tr>\n",
       "      <th>3</th>\n",
       "      <td>C18647</td>\n",
       "      <td>CITY4</td>\n",
       "      <td>2010-11-27</td>\n",
       "      <td>0</td>\n",
       "      <td>0</td>\n",
       "      <td>0</td>\n",
       "      <td>Monday</td>\n",
       "    </tr>\n",
       "    <tr>\n",
       "      <th>4</th>\n",
       "      <td>C36692</td>\n",
       "      <td>CITY2</td>\n",
       "      <td>2009-12-04</td>\n",
       "      <td>1</td>\n",
       "      <td>1</td>\n",
       "      <td>0</td>\n",
       "      <td>Friday</td>\n",
       "    </tr>\n",
       "    <tr>\n",
       "      <th>...</th>\n",
       "      <td>...</td>\n",
       "      <td>...</td>\n",
       "      <td>...</td>\n",
       "      <td>...</td>\n",
       "      <td>...</td>\n",
       "      <td>...</td>\n",
       "      <td>...</td>\n",
       "    </tr>\n",
       "    <tr>\n",
       "      <th>23815</th>\n",
       "      <td>C23511</td>\n",
       "      <td>CITY2</td>\n",
       "      <td>2018-01-17</td>\n",
       "      <td>1</td>\n",
       "      <td>1</td>\n",
       "      <td>0</td>\n",
       "      <td>Friday</td>\n",
       "    </tr>\n",
       "    <tr>\n",
       "      <th>23816</th>\n",
       "      <td>C12197</td>\n",
       "      <td>CITY3</td>\n",
       "      <td>2018-01-17</td>\n",
       "      <td>1</td>\n",
       "      <td>0</td>\n",
       "      <td>1</td>\n",
       "      <td>Friday</td>\n",
       "    </tr>\n",
       "    <tr>\n",
       "      <th>23817</th>\n",
       "      <td>C40967</td>\n",
       "      <td>CITY3</td>\n",
       "      <td>2018-01-17</td>\n",
       "      <td>1</td>\n",
       "      <td>0</td>\n",
       "      <td>0</td>\n",
       "      <td>Saturday</td>\n",
       "    </tr>\n",
       "    <tr>\n",
       "      <th>23818</th>\n",
       "      <td>C36140</td>\n",
       "      <td>CITY3</td>\n",
       "      <td>2018-01-17</td>\n",
       "      <td>1</td>\n",
       "      <td>1</td>\n",
       "      <td>0</td>\n",
       "      <td>Saturday</td>\n",
       "    </tr>\n",
       "    <tr>\n",
       "      <th>23819</th>\n",
       "      <td>C42003</td>\n",
       "      <td>CITY4</td>\n",
       "      <td>2018-01-17</td>\n",
       "      <td>1</td>\n",
       "      <td>0</td>\n",
       "      <td>0</td>\n",
       "      <td>Friday</td>\n",
       "    </tr>\n",
       "  </tbody>\n",
       "</table>\n",
       "<p>23820 rows × 7 columns</p>\n",
       "</div>"
      ],
      "text/plain": [
       "      CustomerID   City DateOfRegistration  OnlineCommunication  \\\n",
       "0         C16368  CITY2         2012-09-28                    0   \n",
       "1         C20345  CITY2         2010-12-19                    1   \n",
       "2         C17683  CITY2         2010-10-03                    0   \n",
       "3         C18647  CITY4         2010-11-27                    0   \n",
       "4         C36692  CITY2         2009-12-04                    1   \n",
       "...          ...    ...                ...                  ...   \n",
       "23815     C23511  CITY2         2018-01-17                    1   \n",
       "23816     C12197  CITY3         2018-01-17                    1   \n",
       "23817     C40967  CITY3         2018-01-17                    1   \n",
       "23818     C36140  CITY3         2018-01-17                    1   \n",
       "23819     C42003  CITY4         2018-01-17                    1   \n",
       "\n",
       "       AutomaticRefill  DoorstepDelivery PreferredDeliveryDay  \n",
       "0                    0                 0               Monday  \n",
       "1                    1                 1               Friday  \n",
       "2                    0                 0            Wednesday  \n",
       "3                    0                 0               Monday  \n",
       "4                    1                 0               Friday  \n",
       "...                ...               ...                  ...  \n",
       "23815                1                 0               Friday  \n",
       "23816                0                 1               Friday  \n",
       "23817                0                 0             Saturday  \n",
       "23818                1                 0             Saturday  \n",
       "23819                0                 0               Friday  \n",
       "\n",
       "[23820 rows x 7 columns]"
      ]
     },
     "execution_count": 11,
     "metadata": {},
     "output_type": "execute_result"
    }
   ],
   "source": [
    "df2"
   ]
  },
  {
   "cell_type": "code",
   "execution_count": 12,
   "id": "a49b0de6",
   "metadata": {},
   "outputs": [],
   "source": [
    "df2.drop(columns=[\"DateOfRegistration\"],axis=1,inplace=True)"
   ]
  },
  {
   "cell_type": "code",
   "execution_count": 13,
   "id": "a23cfe11",
   "metadata": {},
   "outputs": [
    {
     "data": {
      "text/html": [
       "<div>\n",
       "<style scoped>\n",
       "    .dataframe tbody tr th:only-of-type {\n",
       "        vertical-align: middle;\n",
       "    }\n",
       "\n",
       "    .dataframe tbody tr th {\n",
       "        vertical-align: top;\n",
       "    }\n",
       "\n",
       "    .dataframe thead th {\n",
       "        text-align: right;\n",
       "    }\n",
       "</style>\n",
       "<table border=\"1\" class=\"dataframe\">\n",
       "  <thead>\n",
       "    <tr style=\"text-align: right;\">\n",
       "      <th></th>\n",
       "      <th>CustomerID</th>\n",
       "      <th>DateOfOrder</th>\n",
       "      <th>timestamp</th>\n",
       "      <th>OrderQuantity</th>\n",
       "    </tr>\n",
       "  </thead>\n",
       "  <tbody>\n",
       "    <tr>\n",
       "      <th>0</th>\n",
       "      <td>C16368</td>\n",
       "      <td>2013-08-11</td>\n",
       "      <td>15:17:52</td>\n",
       "      <td>15</td>\n",
       "    </tr>\n",
       "    <tr>\n",
       "      <th>1</th>\n",
       "      <td>C20345</td>\n",
       "      <td>2011-04-01</td>\n",
       "      <td>19:50:00</td>\n",
       "      <td>92</td>\n",
       "    </tr>\n",
       "    <tr>\n",
       "      <th>2</th>\n",
       "      <td>C20345</td>\n",
       "      <td>2012-06-29</td>\n",
       "      <td>15:11:56</td>\n",
       "      <td>95</td>\n",
       "    </tr>\n",
       "    <tr>\n",
       "      <th>3</th>\n",
       "      <td>C20345</td>\n",
       "      <td>2012-09-22</td>\n",
       "      <td>20:49:10</td>\n",
       "      <td>74</td>\n",
       "    </tr>\n",
       "    <tr>\n",
       "      <th>4</th>\n",
       "      <td>C20345</td>\n",
       "      <td>2011-08-23</td>\n",
       "      <td>11:50:26</td>\n",
       "      <td>81</td>\n",
       "    </tr>\n",
       "    <tr>\n",
       "      <th>...</th>\n",
       "      <td>...</td>\n",
       "      <td>...</td>\n",
       "      <td>...</td>\n",
       "      <td>...</td>\n",
       "    </tr>\n",
       "    <tr>\n",
       "      <th>104750</th>\n",
       "      <td>C12197</td>\n",
       "      <td>2018-01-17</td>\n",
       "      <td>14:35:40</td>\n",
       "      <td>56</td>\n",
       "    </tr>\n",
       "    <tr>\n",
       "      <th>104751</th>\n",
       "      <td>C40967</td>\n",
       "      <td>2018-01-17</td>\n",
       "      <td>17:15:20</td>\n",
       "      <td>35</td>\n",
       "    </tr>\n",
       "    <tr>\n",
       "      <th>104752</th>\n",
       "      <td>C36140</td>\n",
       "      <td>2018-01-17</td>\n",
       "      <td>13:12:54</td>\n",
       "      <td>47</td>\n",
       "    </tr>\n",
       "    <tr>\n",
       "      <th>104753</th>\n",
       "      <td>C36140</td>\n",
       "      <td>2018-01-21</td>\n",
       "      <td>21:12:52</td>\n",
       "      <td>53</td>\n",
       "    </tr>\n",
       "    <tr>\n",
       "      <th>104754</th>\n",
       "      <td>C42003</td>\n",
       "      <td>2018-01-17</td>\n",
       "      <td>16:34:46</td>\n",
       "      <td>41</td>\n",
       "    </tr>\n",
       "  </tbody>\n",
       "</table>\n",
       "<p>104755 rows × 4 columns</p>\n",
       "</div>"
      ],
      "text/plain": [
       "       CustomerID DateOfOrder timestamp  OrderQuantity\n",
       "0          C16368  2013-08-11  15:17:52             15\n",
       "1          C20345  2011-04-01  19:50:00             92\n",
       "2          C20345  2012-06-29  15:11:56             95\n",
       "3          C20345  2012-09-22  20:49:10             74\n",
       "4          C20345  2011-08-23  11:50:26             81\n",
       "...           ...         ...       ...            ...\n",
       "104750     C12197  2018-01-17  14:35:40             56\n",
       "104751     C40967  2018-01-17  17:15:20             35\n",
       "104752     C36140  2018-01-17  13:12:54             47\n",
       "104753     C36140  2018-01-21  21:12:52             53\n",
       "104754     C42003  2018-01-17  16:34:46             41\n",
       "\n",
       "[104755 rows x 4 columns]"
      ]
     },
     "execution_count": 13,
     "metadata": {},
     "output_type": "execute_result"
    }
   ],
   "source": [
    "df3"
   ]
  },
  {
   "cell_type": "code",
   "execution_count": 14,
   "id": "c951e9e8",
   "metadata": {},
   "outputs": [
    {
     "data": {
      "text/plain": [
       "23820"
      ]
     },
     "execution_count": 14,
     "metadata": {},
     "output_type": "execute_result"
    }
   ],
   "source": [
    "df3.CustomerID.nunique()"
   ]
  },
  {
   "cell_type": "code",
   "execution_count": 15,
   "id": "ad95c14e",
   "metadata": {},
   "outputs": [],
   "source": [
    "df3.drop(columns=[\"DateOfOrder\",\"timestamp\"],axis=1,inplace=True)"
   ]
  },
  {
   "cell_type": "code",
   "execution_count": 16,
   "id": "c1f98dc3",
   "metadata": {},
   "outputs": [
    {
     "data": {
      "text/html": [
       "<div>\n",
       "<style scoped>\n",
       "    .dataframe tbody tr th:only-of-type {\n",
       "        vertical-align: middle;\n",
       "    }\n",
       "\n",
       "    .dataframe tbody tr th {\n",
       "        vertical-align: top;\n",
       "    }\n",
       "\n",
       "    .dataframe thead th {\n",
       "        text-align: right;\n",
       "    }\n",
       "</style>\n",
       "<table border=\"1\" class=\"dataframe\">\n",
       "  <thead>\n",
       "    <tr style=\"text-align: right;\">\n",
       "      <th></th>\n",
       "      <th>CustomerID</th>\n",
       "      <th>OrderQuantity</th>\n",
       "    </tr>\n",
       "  </thead>\n",
       "  <tbody>\n",
       "    <tr>\n",
       "      <th>0</th>\n",
       "      <td>C16368</td>\n",
       "      <td>15</td>\n",
       "    </tr>\n",
       "    <tr>\n",
       "      <th>1</th>\n",
       "      <td>C20345</td>\n",
       "      <td>92</td>\n",
       "    </tr>\n",
       "    <tr>\n",
       "      <th>2</th>\n",
       "      <td>C20345</td>\n",
       "      <td>95</td>\n",
       "    </tr>\n",
       "    <tr>\n",
       "      <th>3</th>\n",
       "      <td>C20345</td>\n",
       "      <td>74</td>\n",
       "    </tr>\n",
       "    <tr>\n",
       "      <th>4</th>\n",
       "      <td>C20345</td>\n",
       "      <td>81</td>\n",
       "    </tr>\n",
       "    <tr>\n",
       "      <th>...</th>\n",
       "      <td>...</td>\n",
       "      <td>...</td>\n",
       "    </tr>\n",
       "    <tr>\n",
       "      <th>104750</th>\n",
       "      <td>C12197</td>\n",
       "      <td>56</td>\n",
       "    </tr>\n",
       "    <tr>\n",
       "      <th>104751</th>\n",
       "      <td>C40967</td>\n",
       "      <td>35</td>\n",
       "    </tr>\n",
       "    <tr>\n",
       "      <th>104752</th>\n",
       "      <td>C36140</td>\n",
       "      <td>47</td>\n",
       "    </tr>\n",
       "    <tr>\n",
       "      <th>104753</th>\n",
       "      <td>C36140</td>\n",
       "      <td>53</td>\n",
       "    </tr>\n",
       "    <tr>\n",
       "      <th>104754</th>\n",
       "      <td>C42003</td>\n",
       "      <td>41</td>\n",
       "    </tr>\n",
       "  </tbody>\n",
       "</table>\n",
       "<p>104755 rows × 2 columns</p>\n",
       "</div>"
      ],
      "text/plain": [
       "       CustomerID  OrderQuantity\n",
       "0          C16368             15\n",
       "1          C20345             92\n",
       "2          C20345             95\n",
       "3          C20345             74\n",
       "4          C20345             81\n",
       "...           ...            ...\n",
       "104750     C12197             56\n",
       "104751     C40967             35\n",
       "104752     C36140             47\n",
       "104753     C36140             53\n",
       "104754     C42003             41\n",
       "\n",
       "[104755 rows x 2 columns]"
      ]
     },
     "execution_count": 16,
     "metadata": {},
     "output_type": "execute_result"
    }
   ],
   "source": [
    "df3"
   ]
  },
  {
   "cell_type": "code",
   "execution_count": 17,
   "id": "fbc1c65a",
   "metadata": {},
   "outputs": [
    {
     "data": {
      "text/plain": [
       "30272"
      ]
     },
     "execution_count": 17,
     "metadata": {},
     "output_type": "execute_result"
    }
   ],
   "source": [
    "df3.duplicated().sum()"
   ]
  },
  {
   "cell_type": "code",
   "execution_count": 18,
   "id": "1585a721",
   "metadata": {},
   "outputs": [],
   "source": [
    "df3.drop_duplicates(subset=None, keep='first', inplace=True)"
   ]
  },
  {
   "cell_type": "code",
   "execution_count": 19,
   "id": "6da191d8",
   "metadata": {},
   "outputs": [
    {
     "data": {
      "text/plain": [
       "50663"
      ]
     },
     "execution_count": 19,
     "metadata": {},
     "output_type": "execute_result"
    }
   ],
   "source": [
    "df3.duplicated(\"CustomerID\").sum()"
   ]
  },
  {
   "cell_type": "code",
   "execution_count": 20,
   "id": "a0922f75",
   "metadata": {},
   "outputs": [],
   "source": [
    "df3 = df3.drop_duplicates(subset=['CustomerID'], keep='first')"
   ]
  },
  {
   "cell_type": "code",
   "execution_count": 21,
   "id": "b1a79878",
   "metadata": {},
   "outputs": [
    {
     "data": {
      "text/html": [
       "<div>\n",
       "<style scoped>\n",
       "    .dataframe tbody tr th:only-of-type {\n",
       "        vertical-align: middle;\n",
       "    }\n",
       "\n",
       "    .dataframe tbody tr th {\n",
       "        vertical-align: top;\n",
       "    }\n",
       "\n",
       "    .dataframe thead th {\n",
       "        text-align: right;\n",
       "    }\n",
       "</style>\n",
       "<table border=\"1\" class=\"dataframe\">\n",
       "  <thead>\n",
       "    <tr style=\"text-align: right;\">\n",
       "      <th></th>\n",
       "      <th>CustomerID</th>\n",
       "      <th>OrderQuantity</th>\n",
       "    </tr>\n",
       "  </thead>\n",
       "  <tbody>\n",
       "    <tr>\n",
       "      <th>0</th>\n",
       "      <td>C16368</td>\n",
       "      <td>15</td>\n",
       "    </tr>\n",
       "    <tr>\n",
       "      <th>1</th>\n",
       "      <td>C20345</td>\n",
       "      <td>92</td>\n",
       "    </tr>\n",
       "    <tr>\n",
       "      <th>187</th>\n",
       "      <td>C17683</td>\n",
       "      <td>27</td>\n",
       "    </tr>\n",
       "    <tr>\n",
       "      <th>200</th>\n",
       "      <td>C18647</td>\n",
       "      <td>110</td>\n",
       "    </tr>\n",
       "    <tr>\n",
       "      <th>207</th>\n",
       "      <td>C36692</td>\n",
       "      <td>75</td>\n",
       "    </tr>\n",
       "    <tr>\n",
       "      <th>...</th>\n",
       "      <td>...</td>\n",
       "      <td>...</td>\n",
       "    </tr>\n",
       "    <tr>\n",
       "      <th>104749</th>\n",
       "      <td>C23511</td>\n",
       "      <td>41</td>\n",
       "    </tr>\n",
       "    <tr>\n",
       "      <th>104750</th>\n",
       "      <td>C12197</td>\n",
       "      <td>56</td>\n",
       "    </tr>\n",
       "    <tr>\n",
       "      <th>104751</th>\n",
       "      <td>C40967</td>\n",
       "      <td>35</td>\n",
       "    </tr>\n",
       "    <tr>\n",
       "      <th>104752</th>\n",
       "      <td>C36140</td>\n",
       "      <td>47</td>\n",
       "    </tr>\n",
       "    <tr>\n",
       "      <th>104754</th>\n",
       "      <td>C42003</td>\n",
       "      <td>41</td>\n",
       "    </tr>\n",
       "  </tbody>\n",
       "</table>\n",
       "<p>23820 rows × 2 columns</p>\n",
       "</div>"
      ],
      "text/plain": [
       "       CustomerID  OrderQuantity\n",
       "0          C16368             15\n",
       "1          C20345             92\n",
       "187        C17683             27\n",
       "200        C18647            110\n",
       "207        C36692             75\n",
       "...           ...            ...\n",
       "104749     C23511             41\n",
       "104750     C12197             56\n",
       "104751     C40967             35\n",
       "104752     C36140             47\n",
       "104754     C42003             41\n",
       "\n",
       "[23820 rows x 2 columns]"
      ]
     },
     "execution_count": 21,
     "metadata": {},
     "output_type": "execute_result"
    }
   ],
   "source": [
    "df3"
   ]
  },
  {
   "cell_type": "code",
   "execution_count": 22,
   "id": "171ffc64",
   "metadata": {},
   "outputs": [
    {
     "data": {
      "text/html": [
       "<div>\n",
       "<style scoped>\n",
       "    .dataframe tbody tr th:only-of-type {\n",
       "        vertical-align: middle;\n",
       "    }\n",
       "\n",
       "    .dataframe tbody tr th {\n",
       "        vertical-align: top;\n",
       "    }\n",
       "\n",
       "    .dataframe thead th {\n",
       "        text-align: right;\n",
       "    }\n",
       "</style>\n",
       "<table border=\"1\" class=\"dataframe\">\n",
       "  <thead>\n",
       "    <tr style=\"text-align: right;\">\n",
       "      <th></th>\n",
       "      <th>CustomerID</th>\n",
       "      <th>RetentionPotential</th>\n",
       "    </tr>\n",
       "  </thead>\n",
       "  <tbody>\n",
       "    <tr>\n",
       "      <th>0</th>\n",
       "      <td>C37869</td>\n",
       "      <td>Low</td>\n",
       "    </tr>\n",
       "    <tr>\n",
       "      <th>1</th>\n",
       "      <td>C33841</td>\n",
       "      <td>Low</td>\n",
       "    </tr>\n",
       "    <tr>\n",
       "      <th>2</th>\n",
       "      <td>C29464</td>\n",
       "      <td>Low</td>\n",
       "    </tr>\n",
       "    <tr>\n",
       "      <th>3</th>\n",
       "      <td>C28158</td>\n",
       "      <td>Low</td>\n",
       "    </tr>\n",
       "    <tr>\n",
       "      <th>4</th>\n",
       "      <td>C22785</td>\n",
       "      <td>High</td>\n",
       "    </tr>\n",
       "    <tr>\n",
       "      <th>...</th>\n",
       "      <td>...</td>\n",
       "      <td>...</td>\n",
       "    </tr>\n",
       "    <tr>\n",
       "      <th>23815</th>\n",
       "      <td>C14975</td>\n",
       "      <td>Low</td>\n",
       "    </tr>\n",
       "    <tr>\n",
       "      <th>23816</th>\n",
       "      <td>C30392</td>\n",
       "      <td>Low</td>\n",
       "    </tr>\n",
       "    <tr>\n",
       "      <th>23817</th>\n",
       "      <td>C41735</td>\n",
       "      <td>Low</td>\n",
       "    </tr>\n",
       "    <tr>\n",
       "      <th>23818</th>\n",
       "      <td>C26055</td>\n",
       "      <td>Low</td>\n",
       "    </tr>\n",
       "    <tr>\n",
       "      <th>23819</th>\n",
       "      <td>C25058</td>\n",
       "      <td>High</td>\n",
       "    </tr>\n",
       "  </tbody>\n",
       "</table>\n",
       "<p>23820 rows × 2 columns</p>\n",
       "</div>"
      ],
      "text/plain": [
       "      CustomerID RetentionPotential\n",
       "0         C37869                Low\n",
       "1         C33841                Low\n",
       "2         C29464                Low\n",
       "3         C28158                Low\n",
       "4         C22785               High\n",
       "...          ...                ...\n",
       "23815     C14975                Low\n",
       "23816     C30392                Low\n",
       "23817     C41735                Low\n",
       "23818     C26055                Low\n",
       "23819     C25058               High\n",
       "\n",
       "[23820 rows x 2 columns]"
      ]
     },
     "execution_count": 22,
     "metadata": {},
     "output_type": "execute_result"
    }
   ],
   "source": [
    "df4"
   ]
  },
  {
   "cell_type": "code",
   "execution_count": 23,
   "id": "7592e7e5",
   "metadata": {},
   "outputs": [
    {
     "data": {
      "text/plain": [
       "Low       80.541562\n",
       "High      15.768262\n",
       "Medium     3.690176\n",
       "Name: RetentionPotential, dtype: float64"
      ]
     },
     "execution_count": 23,
     "metadata": {},
     "output_type": "execute_result"
    }
   ],
   "source": [
    "df4[\"RetentionPotential\"].value_counts(normalize=True) * 100"
   ]
  },
  {
   "cell_type": "code",
   "execution_count": 24,
   "id": "6d9550ee",
   "metadata": {},
   "outputs": [],
   "source": [
    "Df1 = pd.merge(df1, df2, on='CustomerID')"
   ]
  },
  {
   "cell_type": "code",
   "execution_count": 25,
   "id": "1d60fb9e",
   "metadata": {},
   "outputs": [
    {
     "data": {
      "text/html": [
       "<div>\n",
       "<style scoped>\n",
       "    .dataframe tbody tr th:only-of-type {\n",
       "        vertical-align: middle;\n",
       "    }\n",
       "\n",
       "    .dataframe tbody tr th {\n",
       "        vertical-align: top;\n",
       "    }\n",
       "\n",
       "    .dataframe thead th {\n",
       "        text-align: right;\n",
       "    }\n",
       "</style>\n",
       "<table border=\"1\" class=\"dataframe\">\n",
       "  <thead>\n",
       "    <tr style=\"text-align: right;\">\n",
       "      <th></th>\n",
       "      <th>CustomerID</th>\n",
       "      <th>EmailType</th>\n",
       "      <th>MailOpened</th>\n",
       "      <th>MailClicked</th>\n",
       "      <th>City</th>\n",
       "      <th>OnlineCommunication</th>\n",
       "      <th>AutomaticRefill</th>\n",
       "      <th>DoorstepDelivery</th>\n",
       "      <th>PreferredDeliveryDay</th>\n",
       "    </tr>\n",
       "  </thead>\n",
       "  <tbody>\n",
       "    <tr>\n",
       "      <th>0</th>\n",
       "      <td>C16368</td>\n",
       "      <td>WelcomeEmail</td>\n",
       "      <td>yes</td>\n",
       "      <td>NotApplicable</td>\n",
       "      <td>CITY2</td>\n",
       "      <td>0</td>\n",
       "      <td>0</td>\n",
       "      <td>0</td>\n",
       "      <td>Monday</td>\n",
       "    </tr>\n",
       "    <tr>\n",
       "      <th>1</th>\n",
       "      <td>C20345</td>\n",
       "      <td>WelcomeEmail</td>\n",
       "      <td>yes</td>\n",
       "      <td>NotApplicable</td>\n",
       "      <td>CITY2</td>\n",
       "      <td>1</td>\n",
       "      <td>1</td>\n",
       "      <td>1</td>\n",
       "      <td>Friday</td>\n",
       "    </tr>\n",
       "    <tr>\n",
       "      <th>2</th>\n",
       "      <td>C17683</td>\n",
       "      <td>WelcomeEmail</td>\n",
       "      <td>yes</td>\n",
       "      <td>NotApplicable</td>\n",
       "      <td>CITY2</td>\n",
       "      <td>0</td>\n",
       "      <td>0</td>\n",
       "      <td>0</td>\n",
       "      <td>Wednesday</td>\n",
       "    </tr>\n",
       "    <tr>\n",
       "      <th>3</th>\n",
       "      <td>C18647</td>\n",
       "      <td>WelcomeEmail</td>\n",
       "      <td>yes</td>\n",
       "      <td>NotApplicable</td>\n",
       "      <td>CITY4</td>\n",
       "      <td>0</td>\n",
       "      <td>0</td>\n",
       "      <td>0</td>\n",
       "      <td>Monday</td>\n",
       "    </tr>\n",
       "    <tr>\n",
       "      <th>4</th>\n",
       "      <td>C36692</td>\n",
       "      <td>WelcomeEmail</td>\n",
       "      <td>yes</td>\n",
       "      <td>NotApplicable</td>\n",
       "      <td>CITY2</td>\n",
       "      <td>1</td>\n",
       "      <td>1</td>\n",
       "      <td>0</td>\n",
       "      <td>Friday</td>\n",
       "    </tr>\n",
       "    <tr>\n",
       "      <th>...</th>\n",
       "      <td>...</td>\n",
       "      <td>...</td>\n",
       "      <td>...</td>\n",
       "      <td>...</td>\n",
       "      <td>...</td>\n",
       "      <td>...</td>\n",
       "      <td>...</td>\n",
       "      <td>...</td>\n",
       "      <td>...</td>\n",
       "    </tr>\n",
       "    <tr>\n",
       "      <th>23815</th>\n",
       "      <td>C23511</td>\n",
       "      <td>WelcomeEmail</td>\n",
       "      <td>yes</td>\n",
       "      <td>NotApplicable</td>\n",
       "      <td>CITY2</td>\n",
       "      <td>1</td>\n",
       "      <td>1</td>\n",
       "      <td>0</td>\n",
       "      <td>Friday</td>\n",
       "    </tr>\n",
       "    <tr>\n",
       "      <th>23816</th>\n",
       "      <td>C12197</td>\n",
       "      <td>WelcomeEmail</td>\n",
       "      <td>yes</td>\n",
       "      <td>NotApplicable</td>\n",
       "      <td>CITY3</td>\n",
       "      <td>1</td>\n",
       "      <td>0</td>\n",
       "      <td>1</td>\n",
       "      <td>Friday</td>\n",
       "    </tr>\n",
       "    <tr>\n",
       "      <th>23817</th>\n",
       "      <td>C40967</td>\n",
       "      <td>WelcomeEmail</td>\n",
       "      <td>yes</td>\n",
       "      <td>NotApplicable</td>\n",
       "      <td>CITY3</td>\n",
       "      <td>1</td>\n",
       "      <td>0</td>\n",
       "      <td>0</td>\n",
       "      <td>Saturday</td>\n",
       "    </tr>\n",
       "    <tr>\n",
       "      <th>23818</th>\n",
       "      <td>C36140</td>\n",
       "      <td>WelcomeEmail</td>\n",
       "      <td>yes</td>\n",
       "      <td>NotApplicable</td>\n",
       "      <td>CITY3</td>\n",
       "      <td>1</td>\n",
       "      <td>1</td>\n",
       "      <td>0</td>\n",
       "      <td>Saturday</td>\n",
       "    </tr>\n",
       "    <tr>\n",
       "      <th>23819</th>\n",
       "      <td>C42003</td>\n",
       "      <td>WelcomeEmail</td>\n",
       "      <td>yes</td>\n",
       "      <td>NotApplicable</td>\n",
       "      <td>CITY4</td>\n",
       "      <td>1</td>\n",
       "      <td>0</td>\n",
       "      <td>0</td>\n",
       "      <td>Friday</td>\n",
       "    </tr>\n",
       "  </tbody>\n",
       "</table>\n",
       "<p>23820 rows × 9 columns</p>\n",
       "</div>"
      ],
      "text/plain": [
       "      CustomerID     EmailType MailOpened    MailClicked   City  \\\n",
       "0         C16368  WelcomeEmail        yes  NotApplicable  CITY2   \n",
       "1         C20345  WelcomeEmail        yes  NotApplicable  CITY2   \n",
       "2         C17683  WelcomeEmail        yes  NotApplicable  CITY2   \n",
       "3         C18647  WelcomeEmail        yes  NotApplicable  CITY4   \n",
       "4         C36692  WelcomeEmail        yes  NotApplicable  CITY2   \n",
       "...          ...           ...        ...            ...    ...   \n",
       "23815     C23511  WelcomeEmail        yes  NotApplicable  CITY2   \n",
       "23816     C12197  WelcomeEmail        yes  NotApplicable  CITY3   \n",
       "23817     C40967  WelcomeEmail        yes  NotApplicable  CITY3   \n",
       "23818     C36140  WelcomeEmail        yes  NotApplicable  CITY3   \n",
       "23819     C42003  WelcomeEmail        yes  NotApplicable  CITY4   \n",
       "\n",
       "       OnlineCommunication  AutomaticRefill  DoorstepDelivery  \\\n",
       "0                        0                0                 0   \n",
       "1                        1                1                 1   \n",
       "2                        0                0                 0   \n",
       "3                        0                0                 0   \n",
       "4                        1                1                 0   \n",
       "...                    ...              ...               ...   \n",
       "23815                    1                1                 0   \n",
       "23816                    1                0                 1   \n",
       "23817                    1                0                 0   \n",
       "23818                    1                1                 0   \n",
       "23819                    1                0                 0   \n",
       "\n",
       "      PreferredDeliveryDay  \n",
       "0                   Monday  \n",
       "1                   Friday  \n",
       "2                Wednesday  \n",
       "3                   Monday  \n",
       "4                   Friday  \n",
       "...                    ...  \n",
       "23815               Friday  \n",
       "23816               Friday  \n",
       "23817             Saturday  \n",
       "23818             Saturday  \n",
       "23819               Friday  \n",
       "\n",
       "[23820 rows x 9 columns]"
      ]
     },
     "execution_count": 25,
     "metadata": {},
     "output_type": "execute_result"
    }
   ],
   "source": [
    "Df1"
   ]
  },
  {
   "cell_type": "code",
   "execution_count": 26,
   "id": "3c529c63",
   "metadata": {},
   "outputs": [],
   "source": [
    "Df2=pd.merge(df3, df4, on='CustomerID')"
   ]
  },
  {
   "cell_type": "code",
   "execution_count": 27,
   "id": "389a29a9",
   "metadata": {},
   "outputs": [
    {
     "data": {
      "text/html": [
       "<div>\n",
       "<style scoped>\n",
       "    .dataframe tbody tr th:only-of-type {\n",
       "        vertical-align: middle;\n",
       "    }\n",
       "\n",
       "    .dataframe tbody tr th {\n",
       "        vertical-align: top;\n",
       "    }\n",
       "\n",
       "    .dataframe thead th {\n",
       "        text-align: right;\n",
       "    }\n",
       "</style>\n",
       "<table border=\"1\" class=\"dataframe\">\n",
       "  <thead>\n",
       "    <tr style=\"text-align: right;\">\n",
       "      <th></th>\n",
       "      <th>CustomerID</th>\n",
       "      <th>OrderQuantity</th>\n",
       "      <th>RetentionPotential</th>\n",
       "    </tr>\n",
       "  </thead>\n",
       "  <tbody>\n",
       "    <tr>\n",
       "      <th>0</th>\n",
       "      <td>C16368</td>\n",
       "      <td>15</td>\n",
       "      <td>High</td>\n",
       "    </tr>\n",
       "    <tr>\n",
       "      <th>1</th>\n",
       "      <td>C20345</td>\n",
       "      <td>92</td>\n",
       "      <td>Low</td>\n",
       "    </tr>\n",
       "    <tr>\n",
       "      <th>2</th>\n",
       "      <td>C17683</td>\n",
       "      <td>27</td>\n",
       "      <td>Medium</td>\n",
       "    </tr>\n",
       "    <tr>\n",
       "      <th>3</th>\n",
       "      <td>C18647</td>\n",
       "      <td>110</td>\n",
       "      <td>Low</td>\n",
       "    </tr>\n",
       "    <tr>\n",
       "      <th>4</th>\n",
       "      <td>C36692</td>\n",
       "      <td>75</td>\n",
       "      <td>Low</td>\n",
       "    </tr>\n",
       "    <tr>\n",
       "      <th>...</th>\n",
       "      <td>...</td>\n",
       "      <td>...</td>\n",
       "      <td>...</td>\n",
       "    </tr>\n",
       "    <tr>\n",
       "      <th>23815</th>\n",
       "      <td>C23511</td>\n",
       "      <td>41</td>\n",
       "      <td>Low</td>\n",
       "    </tr>\n",
       "    <tr>\n",
       "      <th>23816</th>\n",
       "      <td>C12197</td>\n",
       "      <td>56</td>\n",
       "      <td>Low</td>\n",
       "    </tr>\n",
       "    <tr>\n",
       "      <th>23817</th>\n",
       "      <td>C40967</td>\n",
       "      <td>35</td>\n",
       "      <td>Low</td>\n",
       "    </tr>\n",
       "    <tr>\n",
       "      <th>23818</th>\n",
       "      <td>C36140</td>\n",
       "      <td>47</td>\n",
       "      <td>Low</td>\n",
       "    </tr>\n",
       "    <tr>\n",
       "      <th>23819</th>\n",
       "      <td>C42003</td>\n",
       "      <td>41</td>\n",
       "      <td>Low</td>\n",
       "    </tr>\n",
       "  </tbody>\n",
       "</table>\n",
       "<p>23820 rows × 3 columns</p>\n",
       "</div>"
      ],
      "text/plain": [
       "      CustomerID  OrderQuantity RetentionPotential\n",
       "0         C16368             15               High\n",
       "1         C20345             92                Low\n",
       "2         C17683             27             Medium\n",
       "3         C18647            110                Low\n",
       "4         C36692             75                Low\n",
       "...          ...            ...                ...\n",
       "23815     C23511             41                Low\n",
       "23816     C12197             56                Low\n",
       "23817     C40967             35                Low\n",
       "23818     C36140             47                Low\n",
       "23819     C42003             41                Low\n",
       "\n",
       "[23820 rows x 3 columns]"
      ]
     },
     "execution_count": 27,
     "metadata": {},
     "output_type": "execute_result"
    }
   ],
   "source": [
    "Df2"
   ]
  },
  {
   "cell_type": "code",
   "execution_count": 28,
   "id": "e3b6bab8",
   "metadata": {},
   "outputs": [],
   "source": [
    "data=pd.merge(Df1, Df2, on='CustomerID')"
   ]
  },
  {
   "cell_type": "code",
   "execution_count": 29,
   "id": "d3f954ee",
   "metadata": {},
   "outputs": [
    {
     "data": {
      "text/html": [
       "<div>\n",
       "<style scoped>\n",
       "    .dataframe tbody tr th:only-of-type {\n",
       "        vertical-align: middle;\n",
       "    }\n",
       "\n",
       "    .dataframe tbody tr th {\n",
       "        vertical-align: top;\n",
       "    }\n",
       "\n",
       "    .dataframe thead th {\n",
       "        text-align: right;\n",
       "    }\n",
       "</style>\n",
       "<table border=\"1\" class=\"dataframe\">\n",
       "  <thead>\n",
       "    <tr style=\"text-align: right;\">\n",
       "      <th></th>\n",
       "      <th>CustomerID</th>\n",
       "      <th>EmailType</th>\n",
       "      <th>MailOpened</th>\n",
       "      <th>MailClicked</th>\n",
       "      <th>City</th>\n",
       "      <th>OnlineCommunication</th>\n",
       "      <th>AutomaticRefill</th>\n",
       "      <th>DoorstepDelivery</th>\n",
       "      <th>PreferredDeliveryDay</th>\n",
       "      <th>OrderQuantity</th>\n",
       "      <th>RetentionPotential</th>\n",
       "    </tr>\n",
       "  </thead>\n",
       "  <tbody>\n",
       "    <tr>\n",
       "      <th>0</th>\n",
       "      <td>C16368</td>\n",
       "      <td>WelcomeEmail</td>\n",
       "      <td>yes</td>\n",
       "      <td>NotApplicable</td>\n",
       "      <td>CITY2</td>\n",
       "      <td>0</td>\n",
       "      <td>0</td>\n",
       "      <td>0</td>\n",
       "      <td>Monday</td>\n",
       "      <td>15</td>\n",
       "      <td>High</td>\n",
       "    </tr>\n",
       "    <tr>\n",
       "      <th>1</th>\n",
       "      <td>C20345</td>\n",
       "      <td>WelcomeEmail</td>\n",
       "      <td>yes</td>\n",
       "      <td>NotApplicable</td>\n",
       "      <td>CITY2</td>\n",
       "      <td>1</td>\n",
       "      <td>1</td>\n",
       "      <td>1</td>\n",
       "      <td>Friday</td>\n",
       "      <td>92</td>\n",
       "      <td>Low</td>\n",
       "    </tr>\n",
       "    <tr>\n",
       "      <th>2</th>\n",
       "      <td>C17683</td>\n",
       "      <td>WelcomeEmail</td>\n",
       "      <td>yes</td>\n",
       "      <td>NotApplicable</td>\n",
       "      <td>CITY2</td>\n",
       "      <td>0</td>\n",
       "      <td>0</td>\n",
       "      <td>0</td>\n",
       "      <td>Wednesday</td>\n",
       "      <td>27</td>\n",
       "      <td>Medium</td>\n",
       "    </tr>\n",
       "    <tr>\n",
       "      <th>3</th>\n",
       "      <td>C18647</td>\n",
       "      <td>WelcomeEmail</td>\n",
       "      <td>yes</td>\n",
       "      <td>NotApplicable</td>\n",
       "      <td>CITY4</td>\n",
       "      <td>0</td>\n",
       "      <td>0</td>\n",
       "      <td>0</td>\n",
       "      <td>Monday</td>\n",
       "      <td>110</td>\n",
       "      <td>Low</td>\n",
       "    </tr>\n",
       "    <tr>\n",
       "      <th>4</th>\n",
       "      <td>C36692</td>\n",
       "      <td>WelcomeEmail</td>\n",
       "      <td>yes</td>\n",
       "      <td>NotApplicable</td>\n",
       "      <td>CITY2</td>\n",
       "      <td>1</td>\n",
       "      <td>1</td>\n",
       "      <td>0</td>\n",
       "      <td>Friday</td>\n",
       "      <td>75</td>\n",
       "      <td>Low</td>\n",
       "    </tr>\n",
       "    <tr>\n",
       "      <th>...</th>\n",
       "      <td>...</td>\n",
       "      <td>...</td>\n",
       "      <td>...</td>\n",
       "      <td>...</td>\n",
       "      <td>...</td>\n",
       "      <td>...</td>\n",
       "      <td>...</td>\n",
       "      <td>...</td>\n",
       "      <td>...</td>\n",
       "      <td>...</td>\n",
       "      <td>...</td>\n",
       "    </tr>\n",
       "    <tr>\n",
       "      <th>23815</th>\n",
       "      <td>C23511</td>\n",
       "      <td>WelcomeEmail</td>\n",
       "      <td>yes</td>\n",
       "      <td>NotApplicable</td>\n",
       "      <td>CITY2</td>\n",
       "      <td>1</td>\n",
       "      <td>1</td>\n",
       "      <td>0</td>\n",
       "      <td>Friday</td>\n",
       "      <td>41</td>\n",
       "      <td>Low</td>\n",
       "    </tr>\n",
       "    <tr>\n",
       "      <th>23816</th>\n",
       "      <td>C12197</td>\n",
       "      <td>WelcomeEmail</td>\n",
       "      <td>yes</td>\n",
       "      <td>NotApplicable</td>\n",
       "      <td>CITY3</td>\n",
       "      <td>1</td>\n",
       "      <td>0</td>\n",
       "      <td>1</td>\n",
       "      <td>Friday</td>\n",
       "      <td>56</td>\n",
       "      <td>Low</td>\n",
       "    </tr>\n",
       "    <tr>\n",
       "      <th>23817</th>\n",
       "      <td>C40967</td>\n",
       "      <td>WelcomeEmail</td>\n",
       "      <td>yes</td>\n",
       "      <td>NotApplicable</td>\n",
       "      <td>CITY3</td>\n",
       "      <td>1</td>\n",
       "      <td>0</td>\n",
       "      <td>0</td>\n",
       "      <td>Saturday</td>\n",
       "      <td>35</td>\n",
       "      <td>Low</td>\n",
       "    </tr>\n",
       "    <tr>\n",
       "      <th>23818</th>\n",
       "      <td>C36140</td>\n",
       "      <td>WelcomeEmail</td>\n",
       "      <td>yes</td>\n",
       "      <td>NotApplicable</td>\n",
       "      <td>CITY3</td>\n",
       "      <td>1</td>\n",
       "      <td>1</td>\n",
       "      <td>0</td>\n",
       "      <td>Saturday</td>\n",
       "      <td>47</td>\n",
       "      <td>Low</td>\n",
       "    </tr>\n",
       "    <tr>\n",
       "      <th>23819</th>\n",
       "      <td>C42003</td>\n",
       "      <td>WelcomeEmail</td>\n",
       "      <td>yes</td>\n",
       "      <td>NotApplicable</td>\n",
       "      <td>CITY4</td>\n",
       "      <td>1</td>\n",
       "      <td>0</td>\n",
       "      <td>0</td>\n",
       "      <td>Friday</td>\n",
       "      <td>41</td>\n",
       "      <td>Low</td>\n",
       "    </tr>\n",
       "  </tbody>\n",
       "</table>\n",
       "<p>23820 rows × 11 columns</p>\n",
       "</div>"
      ],
      "text/plain": [
       "      CustomerID     EmailType MailOpened    MailClicked   City  \\\n",
       "0         C16368  WelcomeEmail        yes  NotApplicable  CITY2   \n",
       "1         C20345  WelcomeEmail        yes  NotApplicable  CITY2   \n",
       "2         C17683  WelcomeEmail        yes  NotApplicable  CITY2   \n",
       "3         C18647  WelcomeEmail        yes  NotApplicable  CITY4   \n",
       "4         C36692  WelcomeEmail        yes  NotApplicable  CITY2   \n",
       "...          ...           ...        ...            ...    ...   \n",
       "23815     C23511  WelcomeEmail        yes  NotApplicable  CITY2   \n",
       "23816     C12197  WelcomeEmail        yes  NotApplicable  CITY3   \n",
       "23817     C40967  WelcomeEmail        yes  NotApplicable  CITY3   \n",
       "23818     C36140  WelcomeEmail        yes  NotApplicable  CITY3   \n",
       "23819     C42003  WelcomeEmail        yes  NotApplicable  CITY4   \n",
       "\n",
       "       OnlineCommunication  AutomaticRefill  DoorstepDelivery  \\\n",
       "0                        0                0                 0   \n",
       "1                        1                1                 1   \n",
       "2                        0                0                 0   \n",
       "3                        0                0                 0   \n",
       "4                        1                1                 0   \n",
       "...                    ...              ...               ...   \n",
       "23815                    1                1                 0   \n",
       "23816                    1                0                 1   \n",
       "23817                    1                0                 0   \n",
       "23818                    1                1                 0   \n",
       "23819                    1                0                 0   \n",
       "\n",
       "      PreferredDeliveryDay  OrderQuantity RetentionPotential  \n",
       "0                   Monday             15               High  \n",
       "1                   Friday             92                Low  \n",
       "2                Wednesday             27             Medium  \n",
       "3                   Monday            110                Low  \n",
       "4                   Friday             75                Low  \n",
       "...                    ...            ...                ...  \n",
       "23815               Friday             41                Low  \n",
       "23816               Friday             56                Low  \n",
       "23817             Saturday             35                Low  \n",
       "23818             Saturday             47                Low  \n",
       "23819               Friday             41                Low  \n",
       "\n",
       "[23820 rows x 11 columns]"
      ]
     },
     "execution_count": 29,
     "metadata": {},
     "output_type": "execute_result"
    }
   ],
   "source": [
    "data"
   ]
  },
  {
   "cell_type": "code",
   "execution_count": 30,
   "id": "baf3a627",
   "metadata": {},
   "outputs": [
    {
     "data": {
      "text/plain": [
       "CustomerID              0\n",
       "EmailType               0\n",
       "MailOpened              0\n",
       "MailClicked             0\n",
       "City                    0\n",
       "OnlineCommunication     0\n",
       "AutomaticRefill         0\n",
       "DoorstepDelivery        0\n",
       "PreferredDeliveryDay    0\n",
       "OrderQuantity           0\n",
       "RetentionPotential      0\n",
       "dtype: int64"
      ]
     },
     "execution_count": 30,
     "metadata": {},
     "output_type": "execute_result"
    }
   ],
   "source": [
    "data.isnull().sum()"
   ]
  },
  {
   "cell_type": "code",
   "execution_count": 31,
   "id": "8b06003d",
   "metadata": {},
   "outputs": [
    {
     "data": {
      "text/plain": [
       "0"
      ]
     },
     "execution_count": 31,
     "metadata": {},
     "output_type": "execute_result"
    }
   ],
   "source": [
    "data.duplicated().sum()"
   ]
  },
  {
   "cell_type": "code",
   "execution_count": 32,
   "id": "b6f1949e",
   "metadata": {},
   "outputs": [
    {
     "data": {
      "text/plain": [
       "CustomerID              object\n",
       "EmailType               object\n",
       "MailOpened              object\n",
       "MailClicked             object\n",
       "City                    object\n",
       "OnlineCommunication      int64\n",
       "AutomaticRefill          int64\n",
       "DoorstepDelivery         int64\n",
       "PreferredDeliveryDay    object\n",
       "OrderQuantity            int64\n",
       "RetentionPotential      object\n",
       "dtype: object"
      ]
     },
     "execution_count": 32,
     "metadata": {},
     "output_type": "execute_result"
    }
   ],
   "source": [
    "data.dtypes"
   ]
  },
  {
   "cell_type": "code",
   "execution_count": 33,
   "id": "e8c0b046",
   "metadata": {},
   "outputs": [],
   "source": [
    "data.drop(columns=[\"CustomerID\"],axis=1,inplace=True)"
   ]
  },
  {
   "cell_type": "code",
   "execution_count": 34,
   "id": "5b880806",
   "metadata": {},
   "outputs": [
    {
     "data": {
      "text/plain": [
       "EmailType               object\n",
       "MailOpened              object\n",
       "MailClicked             object\n",
       "City                    object\n",
       "OnlineCommunication      int64\n",
       "AutomaticRefill          int64\n",
       "DoorstepDelivery         int64\n",
       "PreferredDeliveryDay    object\n",
       "OrderQuantity            int64\n",
       "RetentionPotential      object\n",
       "dtype: object"
      ]
     },
     "execution_count": 34,
     "metadata": {},
     "output_type": "execute_result"
    }
   ],
   "source": [
    "data.dtypes"
   ]
  },
  {
   "cell_type": "code",
   "execution_count": 35,
   "id": "87f6ea0b",
   "metadata": {},
   "outputs": [
    {
     "data": {
      "text/plain": [
       "array([  15,   92,   27,  110,   75,   73,   95,  109,  127,  112,   55,\n",
       "         57,   94,   22,   30,   82,  113,   78,   68,   31,   77,   61,\n",
       "        114,   16,  108,  171,   44,   29,   37,   32,   23,  117,   33,\n",
       "         54,  102,  175,   58,   56,   40,   45,   25,   41,   70,   51,\n",
       "         64,   24,  166,   74,   81,  165,   53,   34,   19,   28,  107,\n",
       "        153,   36,  115,   38,  140,   50,   43,   17,  303,   67,   80,\n",
       "         62,  122,   76,   85,   21,   35,   48,  182,   96,   20,  157,\n",
       "         91,   60,  130,   59,   63,   49,   42,  139,   87,  149,  202,\n",
       "         26,  201,   93,  136,  273,  147,  203,  125,   12,   39,  154,\n",
       "        151,  135,   98,   52,   72,  123,    5,  119,   65,  106,  126,\n",
       "        230,  184,  116,   66,   84,  104,   11,  103,   97,   79,  138,\n",
       "        101,  144,  141,  221,   69,   46,   90,  161,  100,  133,   86,\n",
       "         14,   47,  121,    3,    6,  214,  146,   71,  132,  164,   99,\n",
       "          8,  134,  158,  160,  225,   89,  234,  294,  152,  129,  105,\n",
       "        150,  145,  118,  159,  162,  204,  191,  199,  142,  239,   83,\n",
       "        185,  111,  189,  170,  155,  181,  209,  193,  168,   18,  131,\n",
       "        253,  177,   88,  224,  192,  128,  206,  277,  148,  197,  217,\n",
       "        173,    9,  163,  180,  211,  120,  419,  137,  156,  124,  260,\n",
       "        198,  179,  167,  207,  172,  215,  529,  370,  208,  176,  220,\n",
       "        299,  501,  196,  212,  190,  226,  195,  249,  259,  287,   13,\n",
       "        219,  143,  377,  228,    7,  263,  231,  174,  246,  296,  183,\n",
       "        266,  227,  213,  258,  238,  325,  210,  261,  188,  439,  293,\n",
       "        357,   10,  537,  623,  324,  269,  232,  194,  276,  321,  264,\n",
       "        169,  216,  178,  298,  186,  187,  309,    1,  242,  254,    4,\n",
       "        282,  244,  200,  279,  241, 1501,  218,  354,  395,  233,  223,\n",
       "        500,  205,  343,  286,  248,  295,    0,  222,  237,  288,  243,\n",
       "        245,  270,  452,  274,  247,  310,  371,  342,    2,  420,  262,\n",
       "        358,  255,  378,  289,  252,  267,  256,  250,  272,  329,  235,\n",
       "        271,  257,  302,  300,  414,  392,  268,  236,  531,  297],\n",
       "      dtype=int64)"
      ]
     },
     "execution_count": 35,
     "metadata": {},
     "output_type": "execute_result"
    }
   ],
   "source": [
    "data.OrderQuantity.unique()"
   ]
  },
  {
   "cell_type": "code",
   "execution_count": 36,
   "id": "d94fce28",
   "metadata": {},
   "outputs": [
    {
     "name": "stderr",
     "output_type": "stream",
     "text": [
      "C:\\Users\\Madunala Jayanth\\anaconda3\\lib\\site-packages\\seaborn\\distributions.py:2619: FutureWarning: `distplot` is a deprecated function and will be removed in a future version. Please adapt your code to use either `displot` (a figure-level function with similar flexibility) or `histplot` (an axes-level function for histograms).\n",
      "  warnings.warn(msg, FutureWarning)\n"
     ]
    },
    {
     "data": {
      "text/plain": [
       "<AxesSubplot:xlabel='OrderQuantity', ylabel='Density'>"
      ]
     },
     "execution_count": 36,
     "metadata": {},
     "output_type": "execute_result"
    },
    {
     "data": {
      "image/png": "[encoded data removed]",
      "text/plain": [
       "<Figure size 432x288 with 1 Axes>"
      ]
     },
     "metadata": {},
     "output_type": "display_data"
    }
   ],
   "source": [
    "sns.set_style('whitegrid')\n",
    "sns.distplot(data['OrderQuantity'], color ='red',bins=10)"
   ]
  },
  {
   "cell_type": "code",
   "execution_count": 37,
   "id": "87aeed69",
   "metadata": {},
   "outputs": [],
   "source": [
    "data['OrderQuantity']=pd.cut(data['OrderQuantity'], [0,100,1400] ,labels=[\"1\",\"2\"] , right=True)"
   ]
  },
  {
   "cell_type": "code",
   "execution_count": 38,
   "id": "52aca6d0",
   "metadata": {},
   "outputs": [
    {
     "name": "stderr",
     "output_type": "stream",
     "text": [
      "C:\\Users\\Madunala Jayanth\\anaconda3\\lib\\site-packages\\seaborn\\distributions.py:2619: FutureWarning: `distplot` is a deprecated function and will be removed in a future version. Please adapt your code to use either `displot` (a figure-level function with similar flexibility) or `histplot` (an axes-level function for histograms).\n",
      "  warnings.warn(msg, FutureWarning)\n"
     ]
    },
    {
     "data": {
      "text/plain": [
       "<AxesSubplot:xlabel='DoorstepDelivery', ylabel='Density'>"
      ]
     },
     "execution_count": 38,
     "metadata": {},
     "output_type": "execute_result"
    },
    {
     "data": {
      "image/png": "[encoded data removed]",
      "text/plain": [
       "<Figure size 432x288 with 1 Axes>"
      ]
     },
     "metadata": {},
     "output_type": "display_data"
    }
   ],
   "source": [
    "sns.set_style('whitegrid')\n",
    "sns.distplot(data[\"DoorstepDelivery\"], color ='red',bins=10)"
   ]
  },
  {
   "cell_type": "code",
   "execution_count": 39,
   "id": "95f42dda",
   "metadata": {},
   "outputs": [
    {
     "data": {
      "text/plain": [
       "EmailType                 object\n",
       "MailOpened                object\n",
       "MailClicked               object\n",
       "City                      object\n",
       "OnlineCommunication        int64\n",
       "AutomaticRefill            int64\n",
       "DoorstepDelivery           int64\n",
       "PreferredDeliveryDay      object\n",
       "OrderQuantity           category\n",
       "RetentionPotential        object\n",
       "dtype: object"
      ]
     },
     "execution_count": 39,
     "metadata": {},
     "output_type": "execute_result"
    }
   ],
   "source": [
    "data.dtypes"
   ]
  },
  {
   "cell_type": "code",
   "execution_count": 40,
   "id": "dab61c69",
   "metadata": {},
   "outputs": [
    {
     "data": {
      "text/plain": [
       "Index(['EmailType', 'MailOpened', 'MailClicked', 'City', 'OnlineCommunication',\n",
       "       'AutomaticRefill', 'DoorstepDelivery', 'PreferredDeliveryDay',\n",
       "       'OrderQuantity', 'RetentionPotential'],\n",
       "      dtype='object')"
      ]
     },
     "execution_count": 40,
     "metadata": {},
     "output_type": "execute_result"
    }
   ],
   "source": [
    "data.columns"
   ]
  },
  {
   "cell_type": "code",
   "execution_count": 41,
   "id": "dd1ef437",
   "metadata": {},
   "outputs": [],
   "source": [
    "for col in [ 'EmailType', 'MailOpened', 'MailClicked', 'City', 'OnlineCommunication',\n",
    "       'AutomaticRefill', 'DoorstepDelivery', 'PreferredDeliveryDay',\n",
    "       'OrderQuantity', 'RetentionPotential']:\n",
    "    data[col] = data[col].astype('object')"
   ]
  },
  {
   "cell_type": "code",
   "execution_count": 42,
   "id": "01367b4f",
   "metadata": {},
   "outputs": [],
   "source": [
    "data['EmailType'].mask(data['EmailType'] == \"CustomizedEmail\", 1, inplace=True)\n",
    "data['EmailType'].mask(data['EmailType'] ==  \"WelcomeEmail\", 2, inplace=True)"
   ]
  },
  {
   "cell_type": "code",
   "execution_count": 43,
   "id": "57c1ce7f",
   "metadata": {},
   "outputs": [],
   "source": [
    "data['MailOpened'].mask(data['MailOpened'] == \"no\", 1, inplace=True)\n",
    "data['MailOpened'].mask(data['MailOpened'] ==  \"yes\", 2, inplace=True)"
   ]
  },
  {
   "cell_type": "code",
   "execution_count": 44,
   "id": "a70eaaf1",
   "metadata": {},
   "outputs": [],
   "source": [
    "data['MailClicked'].mask(data['MailClicked'] == \"no\", 1, inplace=True)\n",
    "data['MailClicked'].mask(data['MailClicked'] ==  \"yes\", 2, inplace=True)\n",
    "data['MailClicked'].mask(data['MailClicked'] == \"NotApplicable\", 3, inplace=True)"
   ]
  },
  {
   "cell_type": "code",
   "execution_count": 45,
   "id": "425f6e27",
   "metadata": {},
   "outputs": [],
   "source": [
    "data['City'].mask(data['City'] == \"CITY2\", 1, inplace=True)\n",
    "data['City'].mask(data['City'] ==  \"CITY4\", 2, inplace=True)\n",
    "data['City'].mask(data['City'] == \"CITY3\", 3, inplace=True)\n",
    "data['City'].mask(data['City'] ==  \"CITY1\", 4, inplace=True)"
   ]
  },
  {
   "cell_type": "code",
   "execution_count": 46,
   "id": "1af3132c",
   "metadata": {},
   "outputs": [],
   "source": [
    "data['PreferredDeliveryDay'].mask(data['PreferredDeliveryDay'] == \"Monday\", 1, inplace=True)\n",
    "data['PreferredDeliveryDay'].mask(data['PreferredDeliveryDay'] ==  \"Tuesday\", 2, inplace=True)\n",
    "data['PreferredDeliveryDay'].mask(data['PreferredDeliveryDay'] == \"Friday\", 3, inplace=True)\n",
    "data['PreferredDeliveryDay'].mask(data['PreferredDeliveryDay'] ==  \"Thursday\", 4, inplace=True)\n",
    "data['PreferredDeliveryDay'].mask(data['PreferredDeliveryDay'] == \"Wednesday\", 5, inplace=True)\n",
    "data['PreferredDeliveryDay'].mask(data['PreferredDeliveryDay'] ==  \"Saturday\", 6, inplace=True)\n",
    "data['PreferredDeliveryDay'].mask(data['PreferredDeliveryDay'] == \"Sunday\", 7, inplace=True)"
   ]
  },
  {
   "cell_type": "code",
   "execution_count": 47,
   "id": "3e90dba8",
   "metadata": {},
   "outputs": [
    {
     "data": {
      "text/plain": [
       "Low       80.541562\n",
       "High      15.768262\n",
       "Medium     3.690176\n",
       "Name: RetentionPotential, dtype: float64"
      ]
     },
     "execution_count": 47,
     "metadata": {},
     "output_type": "execute_result"
    }
   ],
   "source": [
    "data[\"RetentionPotential\"].value_counts(normalize=True) * 100"
   ]
  },
  {
   "cell_type": "code",
   "execution_count": 48,
   "id": "02dd080b",
   "metadata": {},
   "outputs": [],
   "source": [
    "data['RetentionPotential'].mask(data['RetentionPotential'] == \"Low\", 1, inplace=True)\n",
    "data['RetentionPotential'].mask(data['RetentionPotential'] ==  \"Medium\", 2, inplace=True)\n",
    "data['RetentionPotential'].mask(data['RetentionPotential'] == \"High\", 3, inplace=True)"
   ]
  },
  {
   "cell_type": "code",
   "execution_count": 49,
   "id": "2f3f0fba",
   "metadata": {},
   "outputs": [
    {
     "data": {
      "text/plain": [
       "EmailType               0\n",
       "MailOpened              0\n",
       "MailClicked             0\n",
       "City                    0\n",
       "OnlineCommunication     0\n",
       "AutomaticRefill         0\n",
       "DoorstepDelivery        0\n",
       "PreferredDeliveryDay    0\n",
       "OrderQuantity           2\n",
       "RetentionPotential      0\n",
       "dtype: int64"
      ]
     },
     "execution_count": 49,
     "metadata": {},
     "output_type": "execute_result"
    }
   ],
   "source": [
    "data.isnull().sum()"
   ]
  },
  {
   "cell_type": "code",
   "execution_count": 50,
   "id": "9bb7c132",
   "metadata": {},
   "outputs": [],
   "source": [
    "data[\"OrderQuantity\"] = data[\"OrderQuantity\"].fillna(data[\"OrderQuantity\"].mode()[0])"
   ]
  },
  {
   "cell_type": "code",
   "execution_count": 51,
   "id": "dee9c014",
   "metadata": {},
   "outputs": [],
   "source": [
    "for col in [ 'EmailType', 'MailOpened', 'MailClicked', 'City', 'OnlineCommunication',\n",
    "       'AutomaticRefill', 'DoorstepDelivery', 'PreferredDeliveryDay',\n",
    "       'OrderQuantity', 'RetentionPotential']:\n",
    "    data[col] = data[col].astype('int')"
   ]
  },
  {
   "cell_type": "code",
   "execution_count": 52,
   "id": "2dd122e9",
   "metadata": {},
   "outputs": [
    {
     "data": {
      "text/html": [
       "<div>\n",
       "<style scoped>\n",
       "    .dataframe tbody tr th:only-of-type {\n",
       "        vertical-align: middle;\n",
       "    }\n",
       "\n",
       "    .dataframe tbody tr th {\n",
       "        vertical-align: top;\n",
       "    }\n",
       "\n",
       "    .dataframe thead th {\n",
       "        text-align: right;\n",
       "    }\n",
       "</style>\n",
       "<table border=\"1\" class=\"dataframe\">\n",
       "  <thead>\n",
       "    <tr style=\"text-align: right;\">\n",
       "      <th></th>\n",
       "      <th>EmailType</th>\n",
       "      <th>MailOpened</th>\n",
       "      <th>MailClicked</th>\n",
       "      <th>City</th>\n",
       "      <th>OnlineCommunication</th>\n",
       "      <th>AutomaticRefill</th>\n",
       "      <th>DoorstepDelivery</th>\n",
       "      <th>PreferredDeliveryDay</th>\n",
       "      <th>OrderQuantity</th>\n",
       "      <th>RetentionPotential</th>\n",
       "    </tr>\n",
       "  </thead>\n",
       "  <tbody>\n",
       "    <tr>\n",
       "      <th>0</th>\n",
       "      <td>2</td>\n",
       "      <td>2</td>\n",
       "      <td>3</td>\n",
       "      <td>1</td>\n",
       "      <td>0</td>\n",
       "      <td>0</td>\n",
       "      <td>0</td>\n",
       "      <td>1</td>\n",
       "      <td>1</td>\n",
       "      <td>3</td>\n",
       "    </tr>\n",
       "    <tr>\n",
       "      <th>1</th>\n",
       "      <td>2</td>\n",
       "      <td>2</td>\n",
       "      <td>3</td>\n",
       "      <td>1</td>\n",
       "      <td>1</td>\n",
       "      <td>1</td>\n",
       "      <td>1</td>\n",
       "      <td>3</td>\n",
       "      <td>1</td>\n",
       "      <td>1</td>\n",
       "    </tr>\n",
       "    <tr>\n",
       "      <th>2</th>\n",
       "      <td>2</td>\n",
       "      <td>2</td>\n",
       "      <td>3</td>\n",
       "      <td>1</td>\n",
       "      <td>0</td>\n",
       "      <td>0</td>\n",
       "      <td>0</td>\n",
       "      <td>5</td>\n",
       "      <td>1</td>\n",
       "      <td>2</td>\n",
       "    </tr>\n",
       "    <tr>\n",
       "      <th>3</th>\n",
       "      <td>2</td>\n",
       "      <td>2</td>\n",
       "      <td>3</td>\n",
       "      <td>2</td>\n",
       "      <td>0</td>\n",
       "      <td>0</td>\n",
       "      <td>0</td>\n",
       "      <td>1</td>\n",
       "      <td>2</td>\n",
       "      <td>1</td>\n",
       "    </tr>\n",
       "    <tr>\n",
       "      <th>4</th>\n",
       "      <td>2</td>\n",
       "      <td>2</td>\n",
       "      <td>3</td>\n",
       "      <td>1</td>\n",
       "      <td>1</td>\n",
       "      <td>1</td>\n",
       "      <td>0</td>\n",
       "      <td>3</td>\n",
       "      <td>1</td>\n",
       "      <td>1</td>\n",
       "    </tr>\n",
       "    <tr>\n",
       "      <th>...</th>\n",
       "      <td>...</td>\n",
       "      <td>...</td>\n",
       "      <td>...</td>\n",
       "      <td>...</td>\n",
       "      <td>...</td>\n",
       "      <td>...</td>\n",
       "      <td>...</td>\n",
       "      <td>...</td>\n",
       "      <td>...</td>\n",
       "      <td>...</td>\n",
       "    </tr>\n",
       "    <tr>\n",
       "      <th>23815</th>\n",
       "      <td>2</td>\n",
       "      <td>2</td>\n",
       "      <td>3</td>\n",
       "      <td>1</td>\n",
       "      <td>1</td>\n",
       "      <td>1</td>\n",
       "      <td>0</td>\n",
       "      <td>3</td>\n",
       "      <td>1</td>\n",
       "      <td>1</td>\n",
       "    </tr>\n",
       "    <tr>\n",
       "      <th>23816</th>\n",
       "      <td>2</td>\n",
       "      <td>2</td>\n",
       "      <td>3</td>\n",
       "      <td>3</td>\n",
       "      <td>1</td>\n",
       "      <td>0</td>\n",
       "      <td>1</td>\n",
       "      <td>3</td>\n",
       "      <td>1</td>\n",
       "      <td>1</td>\n",
       "    </tr>\n",
       "    <tr>\n",
       "      <th>23817</th>\n",
       "      <td>2</td>\n",
       "      <td>2</td>\n",
       "      <td>3</td>\n",
       "      <td>3</td>\n",
       "      <td>1</td>\n",
       "      <td>0</td>\n",
       "      <td>0</td>\n",
       "      <td>6</td>\n",
       "      <td>1</td>\n",
       "      <td>1</td>\n",
       "    </tr>\n",
       "    <tr>\n",
       "      <th>23818</th>\n",
       "      <td>2</td>\n",
       "      <td>2</td>\n",
       "      <td>3</td>\n",
       "      <td>3</td>\n",
       "      <td>1</td>\n",
       "      <td>1</td>\n",
       "      <td>0</td>\n",
       "      <td>6</td>\n",
       "      <td>1</td>\n",
       "      <td>1</td>\n",
       "    </tr>\n",
       "    <tr>\n",
       "      <th>23819</th>\n",
       "      <td>2</td>\n",
       "      <td>2</td>\n",
       "      <td>3</td>\n",
       "      <td>2</td>\n",
       "      <td>1</td>\n",
       "      <td>0</td>\n",
       "      <td>0</td>\n",
       "      <td>3</td>\n",
       "      <td>1</td>\n",
       "      <td>1</td>\n",
       "    </tr>\n",
       "  </tbody>\n",
       "</table>\n",
       "<p>23820 rows × 10 columns</p>\n",
       "</div>"
      ],
      "text/plain": [
       "       EmailType  MailOpened  MailClicked  City  OnlineCommunication  \\\n",
       "0              2           2            3     1                    0   \n",
       "1              2           2            3     1                    1   \n",
       "2              2           2            3     1                    0   \n",
       "3              2           2            3     2                    0   \n",
       "4              2           2            3     1                    1   \n",
       "...          ...         ...          ...   ...                  ...   \n",
       "23815          2           2            3     1                    1   \n",
       "23816          2           2            3     3                    1   \n",
       "23817          2           2            3     3                    1   \n",
       "23818          2           2            3     3                    1   \n",
       "23819          2           2            3     2                    1   \n",
       "\n",
       "       AutomaticRefill  DoorstepDelivery  PreferredDeliveryDay  OrderQuantity  \\\n",
       "0                    0                 0                     1              1   \n",
       "1                    1                 1                     3              1   \n",
       "2                    0                 0                     5              1   \n",
       "3                    0                 0                     1              2   \n",
       "4                    1                 0                     3              1   \n",
       "...                ...               ...                   ...            ...   \n",
       "23815                1                 0                     3              1   \n",
       "23816                0                 1                     3              1   \n",
       "23817                0                 0                     6              1   \n",
       "23818                1                 0                     6              1   \n",
       "23819                0                 0                     3              1   \n",
       "\n",
       "       RetentionPotential  \n",
       "0                       3  \n",
       "1                       1  \n",
       "2                       2  \n",
       "3                       1  \n",
       "4                       1  \n",
       "...                   ...  \n",
       "23815                   1  \n",
       "23816                   1  \n",
       "23817                   1  \n",
       "23818                   1  \n",
       "23819                   1  \n",
       "\n",
       "[23820 rows x 10 columns]"
      ]
     },
     "execution_count": 52,
     "metadata": {},
     "output_type": "execute_result"
    }
   ],
   "source": [
    "data"
   ]
  },
  {
   "cell_type": "code",
   "execution_count": 53,
   "id": "59ff2cc5",
   "metadata": {},
   "outputs": [],
   "source": [
    "X = data.drop('RetentionPotential', axis=1)\n",
    "y = data['RetentionPotential']\n",
    "from sklearn.model_selection import train_test_split\n",
    "X_train, X_test, y_train, y_test = train_test_split(X, y, test_size=0.30, stratify=y, random_state=321)"
   ]
  },
  {
   "cell_type": "code",
   "execution_count": 54,
   "id": "1230f8df",
   "metadata": {},
   "outputs": [],
   "source": [
    "from sklearn.tree import DecisionTreeClassifier"
   ]
  },
  {
   "cell_type": "code",
   "execution_count": 55,
   "id": "bd9a34dd",
   "metadata": {},
   "outputs": [],
   "source": [
    "from scipy.stats import chi2_contingency\n",
    "import pandas as pd\n",
    "\n",
    "class CHAIDDecisionTree:\n",
    "    def __init__(self, alpha=0.05, min_samples_split=5, max_depth=None):\n",
    "        self.alpha = alpha\n",
    "        self.min_samples_split = min_samples_split\n",
    "        self.max_depth = max_depth\n",
    "    \n",
    "    def fit(self, X, y):\n",
    "        self.target_variable = y.name\n",
    "        data = pd.concat([X, y], axis=1)\n",
    "        self.tree = self._build_tree(data, depth=1)\n",
    "    \n",
    "    def predict(self, X):\n",
    "        if isinstance(X, pd.DataFrame):\n",
    "            return X.apply(self._traverse_tree, axis=1)\n",
    "        elif isinstance(X, list):\n",
    "            df = pd.DataFrame(X).T\n",
    "            return df.apply(self._traverse_tree, axis=1).iloc[0]\n",
    "        else:\n",
    "            raise TypeError(\"Input must be a pandas DataFrame or a list.\")\n",
    "    \n",
    "    def _build_tree(self, data, depth):\n",
    "        if data[self.target_variable].nunique() == 1 or \\\n",
    "           (self.max_depth is not None and depth > self.max_depth) or \\\n",
    "           len(data) < self.min_samples_split:\n",
    "            return data[self.target_variable].mode().iloc[0]\n",
    "        \n",
    "        best_variable = None\n",
    "        best_p = 1\n",
    "        for variable in data.columns:\n",
    "            if variable == self.target_variable:\n",
    "                continue\n",
    "            table = pd.crosstab(data[variable], data[self.target_variable])\n",
    "            chi2, p, dof, expected = chi2_contingency(table)\n",
    "            if p < best_p:\n",
    "                best_variable = variable\n",
    "                best_p = p\n",
    "        \n",
    "        if best_p > self.alpha:\n",
    "            return data[self.target_variable].mode().iloc[0]\n",
    "        \n",
    "        tree = {best_variable: {}}\n",
    "        for group in self._split_data(data, best_variable):\n",
    "            value = group[best_variable].iloc[0]\n",
    "            subtree = self._build_tree(group, depth+1)\n",
    "            tree[best_variable][value] = subtree\n",
    "        \n",
    "        return tree\n",
    "    \n",
    "    def _split_data(self, data, variable):\n",
    "        groups = data.groupby(variable)\n",
    "        return [groups.get_group(x) for x in groups.groups]\n",
    "    \n",
    "    def _traverse_tree(self, row):\n",
    "        node = self.tree\n",
    "        while isinstance(node, dict):\n",
    "            variable = list(node.keys())[0]\n",
    "            value = row[variable]\n",
    "            node = node[variable][value]\n",
    "        return node\n"
   ]
  },
  {
   "cell_type": "code",
   "execution_count": 56,
   "id": "30ee11d5",
   "metadata": {},
   "outputs": [],
   "source": [
    "def accuracy(actual,pridicted):\n",
    "    accuracy = np.mean(actual == pridicted)\n",
    "    return accuracy"
   ]
  },
  {
   "cell_type": "code",
   "execution_count": 58,
   "id": "d940d932",
   "metadata": {},
   "outputs": [],
   "source": [
    "model2 = CHAIDDecisionTree(alpha=0.4,min_samples_split=2,max_depth=7)\n",
    "model2.fit(X, y)"
   ]
  },
  {
   "cell_type": "code",
   "execution_count": 59,
   "id": "3861723b",
   "metadata": {},
   "outputs": [],
   "source": [
    "train_pred1=model2.predict(X_train)\n",
    "test_pred1=model2.predict(X_test)"
   ]
  },
  {
   "cell_type": "code",
   "execution_count": 60,
   "id": "5af188ab",
   "metadata": {},
   "outputs": [
    {
     "data": {
      "text/plain": [
       "0.8056854983807125"
      ]
     },
     "execution_count": 60,
     "metadata": {},
     "output_type": "execute_result"
    }
   ],
   "source": [
    "accuracy(y_train,train_pred1)"
   ]
  },
  {
   "cell_type": "code",
   "execution_count": 61,
   "id": "c82b446f",
   "metadata": {},
   "outputs": [
    {
     "data": {
      "text/plain": [
       "0.8057654631961937"
      ]
     },
     "execution_count": 61,
     "metadata": {},
     "output_type": "execute_result"
    }
   ],
   "source": [
    "accuracy(y_test,test_pred1)"
   ]
  },
  {
   "cell_type": "code",
   "execution_count": 62,
   "id": "1ab621d7",
   "metadata": {},
   "outputs": [],
   "source": [
    "model3 = CHAIDDecisionTree(alpha=0.7,min_samples_split=2,max_depth=10)\n",
    "model3.fit(X, y)"
   ]
  },
  {
   "cell_type": "code",
   "execution_count": 63,
   "id": "bf263ec3",
   "metadata": {},
   "outputs": [],
   "source": [
    "train_pred2=model3.predict(X_train)\n",
    "test_pred2=model3.predict(X_test)"
   ]
  },
  {
   "cell_type": "code",
   "execution_count": 64,
   "id": "53be7014",
   "metadata": {},
   "outputs": [
    {
     "data": {
      "text/plain": [
       "0.8056854983807125"
      ]
     },
     "execution_count": 64,
     "metadata": {},
     "output_type": "execute_result"
    }
   ],
   "source": [
    "accuracy(y_train,train_pred2)"
   ]
  },
  {
   "cell_type": "code",
   "execution_count": 65,
   "id": "6b51ee0a",
   "metadata": {},
   "outputs": [
    {
     "data": {
      "text/plain": [
       "0.8057654631961937"
      ]
     },
     "execution_count": 65,
     "metadata": {},
     "output_type": "execute_result"
    }
   ],
   "source": [
    "accuracy(y_test,test_pred2)"
   ]
  },
  {
   "cell_type": "code",
   "execution_count": null,
   "id": "c64c53c4",
   "metadata": {},
   "outputs": [],
   "source": []
  }
 ],
 "metadata": {
  "kernelspec": {
   "display_name": "Python 3 (ipykernel)",
   "language": "python",
   "name": "python3"
  },
  "language_info": {
   "codemirror_mode": {
    "name": "ipython",
    "version": 3
   },
   "file_extension": ".py",
   "mimetype": "text/x-python",
   "name": "python",
   "nbconvert_exporter": "python",
   "pygments_lexer": "ipython3",
   "version": "3.9.7"
  }
 },
 "nbformat": 4,
 "nbformat_minor": 5
}
